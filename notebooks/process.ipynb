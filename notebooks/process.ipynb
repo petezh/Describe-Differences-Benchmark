{
 "cells": [
  {
   "cell_type": "code",
   "execution_count": 1,
   "metadata": {},
   "outputs": [],
   "source": [
    "%%capture\n",
    "!pip install -r requirements.txt"
   ]
  },
  {
   "cell_type": "code",
   "execution_count": 1,
   "metadata": {},
   "outputs": [],
   "source": [
    "import pandas as pd\n",
    "import json\n",
    "import glob\n",
    "import itertools\n",
    "import numpy as np\n",
    "from collections import defaultdict\n",
    "from scipy.stats import zscore\n",
    "import requests\n",
    "import gdown\n",
    "from datetime import timedelta\n",
    "import re"
   ]
  },
  {
   "cell_type": "code",
   "execution_count": 239,
   "metadata": {},
   "outputs": [],
   "source": [
    "data_folder = '../data'\n",
    "output_folder = '../output'"
   ]
  },
  {
   "cell_type": "markdown",
   "metadata": {},
   "source": [
    "## Open Deception\n",
    "\n",
    "Downloaded from Rada Mihalcea's [website](https://web.eecs.umich.edu/~mihalcea/downloads.html), based on her open-domain deception paper."
   ]
  },
  {
   "cell_type": "code",
   "execution_count": 4,
   "metadata": {},
   "outputs": [
    {
     "data": {
      "text/html": [
       "<div>\n",
       "<style scoped>\n",
       "    .dataframe tbody tr th:only-of-type {\n",
       "        vertical-align: middle;\n",
       "    }\n",
       "\n",
       "    .dataframe tbody tr th {\n",
       "        vertical-align: top;\n",
       "    }\n",
       "\n",
       "    .dataframe thead th {\n",
       "        text-align: right;\n",
       "    }\n",
       "</style>\n",
       "<table border=\"1\" class=\"dataframe\">\n",
       "  <thead>\n",
       "    <tr style=\"text-align: right;\">\n",
       "      <th></th>\n",
       "      <th>id</th>\n",
       "      <th>_gender</th>\n",
       "      <th>age</th>\n",
       "      <th>education</th>\n",
       "      <th>country</th>\n",
       "      <th>text</th>\n",
       "      <th>class</th>\n",
       "    </tr>\n",
       "  </thead>\n",
       "  <tbody>\n",
       "    <tr>\n",
       "      <th>0</th>\n",
       "      <td>1_f_l_1</td>\n",
       "      <td>Female</td>\n",
       "      <td>26</td>\n",
       "      <td>Bachelors degree</td>\n",
       "      <td>Canada</td>\n",
       "      <td>There is a great deal of truth to the anti-vax...</td>\n",
       "      <td>lie</td>\n",
       "    </tr>\n",
       "    <tr>\n",
       "      <th>1</th>\n",
       "      <td>1_f_l_2</td>\n",
       "      <td>Female</td>\n",
       "      <td>26</td>\n",
       "      <td>Bachelors degree</td>\n",
       "      <td>Canada</td>\n",
       "      <td>Jenny mccarthy is a learned doctor who deserve...</td>\n",
       "      <td>lie</td>\n",
       "    </tr>\n",
       "    <tr>\n",
       "      <th>2</th>\n",
       "      <td>1_f_l_3</td>\n",
       "      <td>Female</td>\n",
       "      <td>26</td>\n",
       "      <td>Bachelors degree</td>\n",
       "      <td>Canada</td>\n",
       "      <td>Driving doesn't really require any practice.</td>\n",
       "      <td>lie</td>\n",
       "    </tr>\n",
       "    <tr>\n",
       "      <th>3</th>\n",
       "      <td>1_f_l_4</td>\n",
       "      <td>Female</td>\n",
       "      <td>26</td>\n",
       "      <td>Bachelors degree</td>\n",
       "      <td>Canada</td>\n",
       "      <td>Drinking and driving is a winning and safe com...</td>\n",
       "      <td>lie</td>\n",
       "    </tr>\n",
       "    <tr>\n",
       "      <th>4</th>\n",
       "      <td>1_f_l_5</td>\n",
       "      <td>Female</td>\n",
       "      <td>26</td>\n",
       "      <td>Bachelors degree</td>\n",
       "      <td>Canada</td>\n",
       "      <td>Good hygiene isn't really important or attract...</td>\n",
       "      <td>lie</td>\n",
       "    </tr>\n",
       "  </tbody>\n",
       "</table>\n",
       "</div>"
      ],
      "text/plain": [
       "        id _gender  age         education country  \\\n",
       "0  1_f_l_1  Female   26  Bachelors degree  Canada   \n",
       "1  1_f_l_2  Female   26  Bachelors degree  Canada   \n",
       "2  1_f_l_3  Female   26  Bachelors degree  Canada   \n",
       "3  1_f_l_4  Female   26  Bachelors degree  Canada   \n",
       "4  1_f_l_5  Female   26  Bachelors degree  Canada   \n",
       "\n",
       "                                                text class  \n",
       "0  There is a great deal of truth to the anti-vax...   lie  \n",
       "1  Jenny mccarthy is a learned doctor who deserve...   lie  \n",
       "2       Driving doesn't really require any practice.   lie  \n",
       "3  Drinking and driving is a winning and safe com...   lie  \n",
       "4  Good hygiene isn't really important or attract...   lie  "
      ]
     },
     "execution_count": 4,
     "metadata": {},
     "output_type": "execute_result"
    }
   ],
   "source": [
    "input_file = f'{data_folder}/OpenDeception/7Truth7LiesDataset.csv'\n",
    "df = pd.read_csv(input_file, quotechar=\"'\", escapechar=\"\\\\\")\n",
    "df.head()"
   ]
  },
  {
   "cell_type": "code",
   "execution_count": 3,
   "metadata": {},
   "outputs": [],
   "source": [
    "data = {}\n",
    "data['lie'] = list(df[df['class']=='lie']['text']) # positive denotes lie\n",
    "data['truth'] = list(df[df['class']=='truth']['text']) # negative denotes truth"
   ]
  },
  {
   "cell_type": "code",
   "execution_count": 4,
   "metadata": {},
   "outputs": [],
   "source": [
    "output = {\n",
    "    'distributions':data,\n",
    "    'note':'',\n",
    "    'description':'Lies and truths from any domain generated via crowdsourcing.'\n",
    "}\n",
    "output_file = f'{output_folder}/open_deception.json'\n",
    "with open(output_file, 'w') as outfile:\n",
    "    json.dump(output, outfile)"
   ]
  },
  {
   "cell_type": "markdown",
   "metadata": {},
   "source": [
    "## Fake News\n",
    "\n",
    "Downloaded from Rada Mihalcea's [website](https://web.eecs.umich.edu/~mihalcea/downloads.html), based on her fake news paper."
   ]
  },
  {
   "cell_type": "code",
   "execution_count": 5,
   "metadata": {},
   "outputs": [],
   "source": [
    "files = glob.glob(f'{data_folder}/fakeNewsDatasets/fakeNewsDataset/**/*.txt')\n",
    "legit, fake = [], []\n",
    "for file in files:\n",
    "    with open(file, 'r') as f:\n",
    "        contents = f.read()\n",
    "        if 'legit' in file:\n",
    "            legit.append(contents)\n",
    "        else:\n",
    "            fake.append(contents)"
   ]
  },
  {
   "cell_type": "code",
   "execution_count": 12,
   "metadata": {},
   "outputs": [],
   "source": [
    "data = {}\n",
    "data['legit'] = legit\n",
    "data['fake'] = fake"
   ]
  },
  {
   "cell_type": "code",
   "execution_count": 14,
   "metadata": {},
   "outputs": [],
   "source": [
    "output = {\n",
    "    'distributions':data,\n",
    "    'note':'',\n",
    "    'description':'Crowdsourced news articles from various domains.'\n",
    "}\n",
    "output_file = f'{output_folder}/fake_news.json'\n",
    "with open(output_file, 'w') as outfile:\n",
    "    json.dump(output, outfile)"
   ]
  },
  {
   "cell_type": "markdown",
   "metadata": {},
   "source": [
    "## Real Life Deception\n",
    "\n",
    "Downloaded from Rada Mihalcea's [website](https://web.eecs.umich.edu/~mihalcea/downloads.html), based on her real life deception paper."
   ]
  },
  {
   "cell_type": "code",
   "execution_count": 6,
   "metadata": {},
   "outputs": [],
   "source": [
    "files = glob.glob(f'{data_folder}/RealLifeDeception/Transcription/**/*.txt')\n",
    "truth, lie = [], []\n",
    "for file in files:\n",
    "    with open(file, 'r') as f:\n",
    "        contents = f.read()\n",
    "        if 'truth' in file:\n",
    "            truth.append(contents)\n",
    "        else:\n",
    "            lie.append(contents)"
   ]
  },
  {
   "cell_type": "code",
   "execution_count": 8,
   "metadata": {},
   "outputs": [],
   "source": [
    "data = {}\n",
    "data['truth'] = truth # lie\n",
    "data['lie'] = lie # truth"
   ]
  },
  {
   "cell_type": "code",
   "execution_count": 9,
   "metadata": {},
   "outputs": [],
   "source": [
    "output = {\n",
    "    'distributions':data,\n",
    "    'note':'',\n",
    "    'description':'Deception from criminal justice cases.'\n",
    "}\n",
    "output_file = f'{output_folder}/real_life_deception.json'\n",
    "with open(output_file, 'w') as outfile:\n",
    "    json.dump(output, outfile)"
   ]
  },
  {
   "cell_type": "markdown",
   "metadata": {},
   "source": [
    "## Football\n",
    "\n",
    "Taken from Merullo et al.'s Football Commentary [dataset](https://arxiv.org/abs/1909.03343)."
   ]
  },
  {
   "cell_type": "code",
   "execution_count": 18,
   "metadata": {},
   "outputs": [],
   "source": [
    "input_file = f'{data_folder}/football/football_15.json'\n",
    "with open(input_file, 'r') as f:\n",
    "    js_data = json.load(f)"
   ]
  },
  {
   "cell_type": "code",
   "execution_count": 19,
   "metadata": {},
   "outputs": [],
   "source": [
    "white, nonwhite = [], []\n",
    "for instance in js_data.values():\n",
    "    race = instance['label']['race']\n",
    "    commentary = ' '.join(instance['mention']).replace('<player>', 'the player')\n",
    "    if race == 'white':\n",
    "        white.append(commentary)\n",
    "    else:\n",
    "        nonwhite.append(commentary)"
   ]
  },
  {
   "cell_type": "code",
   "execution_count": 20,
   "metadata": {},
   "outputs": [],
   "source": [
    "data = {}\n",
    "data['white'] = white # white\n",
    "data['nonwhite'] = nonwhite # nonwhite\n",
    "output = {\n",
    "    'distributions':data,\n",
    "    'note':'',\n",
    "    'description':'Live football commentary on players by race.'\n",
    "}\n",
    "output_file = f'{output_folder}/football.json'\n",
    "with open(output_file, 'w') as outfile:\n",
    "    json.dump(output, outfile)"
   ]
  },
  {
   "cell_type": "markdown",
   "metadata": {},
   "source": [
    "## Professor Gender 1\n",
    "\n",
    "Pulled from preprocessed RateMyProfessor text."
   ]
  },
  {
   "cell_type": "code",
   "execution_count": 2,
   "metadata": {},
   "outputs": [],
   "source": [
    "input_file = f'{data_folder}/profgender/full-data.txt'\n",
    "df = pd.read_csv(input_file)"
   ]
  },
  {
   "cell_type": "code",
   "execution_count": 3,
   "metadata": {},
   "outputs": [],
   "source": [
    "data = {}\n",
    "data['woman'] = list(df[df['Professor Gender']=='W']['Comment Text']) # woman\n",
    "data['man'] = list(df[df['Professor Gender']=='M']['Comment Text']) # man"
   ]
  },
  {
   "cell_type": "code",
   "execution_count": 17,
   "metadata": {},
   "outputs": [],
   "source": [
    "output = {\n",
    "    'distributions':data,\n",
    "    'note':'',\n",
    "    'description':'RateMyProfessor comments on male and female professors.'\n",
    "}\n",
    "output_file = f'{output_folder}/prof_gender.json'\n",
    "with open(output_file, 'w') as outfile:\n",
    "    json.dump(output, outfile)"
   ]
  },
  {
   "cell_type": "markdown",
   "metadata": {},
   "source": [
    "## Professor Gender 2"
   ]
  },
  {
   "cell_type": "code",
   "execution_count": 33,
   "metadata": {},
   "outputs": [],
   "source": [
    "df = pd.DataFrame()\n",
    "files = glob.glob(f'{data_folder}/ratemyprof/*.csv')\n",
    "for file in files:\n",
    "    df = df.append(pd.read_csv(file))"
   ]
  },
  {
   "cell_type": "code",
   "execution_count": 34,
   "metadata": {},
   "outputs": [],
   "source": [
    "import gender_guesser.detector as gender\n",
    "d = gender.Detector()\n",
    "get_gender = lambda name: d.get_gender(name)"
   ]
  },
  {
   "cell_type": "code",
   "execution_count": 35,
   "metadata": {},
   "outputs": [
    {
     "data": {
      "text/plain": [
       "male             86699\n",
       "female           40619\n",
       "unknown          11741\n",
       "mostly_male       4724\n",
       "mostly_female     4639\n",
       "andy              1710\n",
       "Name: gender, dtype: int64"
      ]
     },
     "execution_count": 35,
     "metadata": {},
     "output_type": "execute_result"
    }
   ],
   "source": [
    "df['first_name'] = df['prof_name'].str.split().str[0]\n",
    "df['gender'] = df['first_name'].apply(get_gender)\n",
    "df['gender'].value_counts()"
   ]
  },
  {
   "cell_type": "code",
   "execution_count": 47,
   "metadata": {},
   "outputs": [],
   "source": [
    "data = {}\n",
    "df = df.sample(frac=1, random_state = 0)\n",
    "data['female'] = list(map(str, df[df['gender']=='female']['text'])) # woman\n",
    "data['male'] = list(map(str, df[df['gender']=='male']['text'])) # man"
   ]
  },
  {
   "cell_type": "code",
   "execution_count": 51,
   "metadata": {},
   "outputs": [],
   "source": [
    "data['female'] = [t for t in data['female'] if ' him ' not in t and ' his ' not in t]\n",
    "data['male'] = [t for t in data['male'] if 'she' not in t and ' her ' not in t]"
   ]
  },
  {
   "cell_type": "code",
   "execution_count": 52,
   "metadata": {},
   "outputs": [],
   "source": [
    "output = {\n",
    "    'distributions':data,\n",
    "    'note':'',\n",
    "    'description':'RateMyProfessor comments on male and female professors.'\n",
    "}\n",
    "output_file = f'{output_folder}/prof_gender.json'\n",
    "with open(output_file, 'w') as outfile:\n",
    "    json.dump(output, outfile)"
   ]
  },
  {
   "cell_type": "markdown",
   "metadata": {},
   "source": [
    "## Parenting Topics\n",
    "\n",
    "Read sentences pulled from various parenting topics from [Gao et al.](https://dl.acm.org/doi/10.1145/3411764.3445203)."
   ]
  },
  {
   "cell_type": "code",
   "execution_count": 64,
   "metadata": {},
   "outputs": [
    {
     "data": {
      "text/html": [
       "<div>\n",
       "<style scoped>\n",
       "    .dataframe tbody tr th:only-of-type {\n",
       "        vertical-align: middle;\n",
       "    }\n",
       "\n",
       "    .dataframe tbody tr th {\n",
       "        vertical-align: top;\n",
       "    }\n",
       "\n",
       "    .dataframe thead th {\n",
       "        text-align: right;\n",
       "    }\n",
       "</style>\n",
       "<table border=\"1\" class=\"dataframe\">\n",
       "  <thead>\n",
       "    <tr style=\"text-align: right;\">\n",
       "      <th></th>\n",
       "      <th>text</th>\n",
       "      <th>label</th>\n",
       "      <th>topics</th>\n",
       "    </tr>\n",
       "  </thead>\n",
       "  <tbody>\n",
       "    <tr>\n",
       "      <th>0</th>\n",
       "      <td>So I participated in the survey re: exclusive ...</td>\n",
       "      <td>1</td>\n",
       "      <td>breastfeeding</td>\n",
       "    </tr>\n",
       "    <tr>\n",
       "      <th>1</th>\n",
       "      <td>I've started researching what pumps my insuran...</td>\n",
       "      <td>1</td>\n",
       "      <td>breastfeeding</td>\n",
       "    </tr>\n",
       "    <tr>\n",
       "      <th>2</th>\n",
       "      <td>Three and a half year old while listening to E...</td>\n",
       "      <td>1</td>\n",
       "      <td>NaN</td>\n",
       "    </tr>\n",
       "    <tr>\n",
       "      <th>3</th>\n",
       "      <td>About a week ago, my 2 1/2 year old started co...</td>\n",
       "      <td>1</td>\n",
       "      <td>economy,child product</td>\n",
       "    </tr>\n",
       "    <tr>\n",
       "      <th>4</th>\n",
       "      <td>When is it positive to say your kid does not l...</td>\n",
       "      <td>1</td>\n",
       "      <td>NaN</td>\n",
       "    </tr>\n",
       "  </tbody>\n",
       "</table>\n",
       "</div>"
      ],
      "text/plain": [
       "                                                text  label  \\\n",
       "0  So I participated in the survey re: exclusive ...      1   \n",
       "1  I've started researching what pumps my insuran...      1   \n",
       "2  Three and a half year old while listening to E...      1   \n",
       "3  About a week ago, my 2 1/2 year old started co...      1   \n",
       "4  When is it positive to say your kid does not l...      1   \n",
       "\n",
       "                  topics  \n",
       "0          breastfeeding  \n",
       "1          breastfeeding  \n",
       "2                    NaN  \n",
       "3  economy,child product  \n",
       "4                    NaN  "
      ]
     },
     "execution_count": 64,
     "metadata": {},
     "output_type": "execute_result"
    }
   ],
   "source": [
    "input_file = f'{data_folder}/parenting/0527_reddit_1300_parenting_clean.csv'\n",
    "df = pd.read_csv(input_file)\n",
    "df.head()"
   ]
  },
  {
   "cell_type": "code",
   "execution_count": 65,
   "metadata": {},
   "outputs": [],
   "source": [
    "df = df.dropna()\n",
    "topics = set(itertools.chain.from_iterable(df['topics'].str.split(',')))\n",
    "data = {}\n",
    "for topic in topics:\n",
    "    data[topic] = list(df[df['topics'].str.contains(topic)]['text'].apply(lambda s: s.replace(u\"\\u2018\", \"'\").replace(u\"\\u2019\", \"'\")))"
   ]
  },
  {
   "cell_type": "code",
   "execution_count": 66,
   "metadata": {},
   "outputs": [],
   "source": [
    "output = {\n",
    "    'distributions':data,\n",
    "    'note':'',\n",
    "    'description':'Parenting discussions on Reddit.'\n",
    "}\n",
    "output_file = f'{output_folder}/parenting.json'\n",
    "with open(output_file, 'w') as outfile:\n",
    "    json.dump(output, outfile)"
   ]
  },
  {
   "cell_type": "markdown",
   "metadata": {},
   "source": [
    "## Parenting Users\n",
    "\n",
    "Using original source data."
   ]
  },
  {
   "cell_type": "code",
   "execution_count": 2,
   "metadata": {},
   "outputs": [],
   "source": [
    "output = f'{data_folder}/parenting/labeled_posts.csv'"
   ]
  },
  {
   "cell_type": "code",
   "execution_count": 6,
   "metadata": {},
   "outputs": [
    {
     "name": "stderr",
     "output_type": "stream",
     "text": [
      "Downloading...\n",
      "From: https://drive.google.com/uc?id=1GpYLez_wxJWiYQ3F6nDJLH7ymdaGsI87\n",
      "To: /Users/peterzhang/Documents/GitHub/diff_dist/data/parenting/labeled_posts.csv\n",
      "100%|██████████| 669M/669M [00:18<00:00, 36.8MB/s] \n"
     ]
    },
    {
     "data": {
      "text/plain": [
       "'data/parenting/labeled_posts.csv'"
      ]
     },
     "execution_count": 6,
     "metadata": {},
     "output_type": "execute_result"
    }
   ],
   "source": [
    "id = '1GpYLez_wxJWiYQ3F6nDJLH7ymdaGsI87'\n",
    "url = f'https://drive.google.com/uc?id={id}'\n",
    "gdown.download(url, output)"
   ]
  },
  {
   "cell_type": "code",
   "execution_count": 3,
   "metadata": {},
   "outputs": [],
   "source": [
    "df = pd.read_csv(output)"
   ]
  },
  {
   "cell_type": "code",
   "execution_count": 4,
   "metadata": {},
   "outputs": [],
   "source": [
    "df = df.sample(frac=1, random_state=0) # shuffle\n",
    "df['datetime'] = pd.to_datetime(df['timestamp'], unit='s')"
   ]
  },
  {
   "cell_type": "code",
   "execution_count": 5,
   "metadata": {},
   "outputs": [],
   "source": [
    "first_post = df[['author', 'datetime']].groupby('author').min()\n",
    "get_first_post = dict(zip(first_post.index, first_post['datetime']))\n",
    "df['first_post'] = df['author'].apply(lambda x: get_first_post[x])\n",
    "df['age'] = df['datetime'] - df['first_post']"
   ]
  },
  {
   "cell_type": "code",
   "execution_count": 6,
   "metadata": {},
   "outputs": [
    {
     "data": {
      "text/plain": [
       "new          268421\n",
       "half year     83370\n",
       "90 days       73844\n",
       "30 days       72817\n",
       "1 year        57341\n",
       "2 years       23824\n",
       "3 years       12922\n",
       "4 years        7903\n",
       "5 years        1636\n",
       "Name: stage, dtype: int64"
      ]
     },
     "execution_count": 6,
     "metadata": {},
     "output_type": "execute_result"
    }
   ],
   "source": [
    "labels = ['new', '30 days', '90 days', 'half year', '1 year', '2 years', '3 years', '4 years', '5 years']\n",
    "days = (0, 30, 90, 180, 365, 2*365, 3*365, 4*365, 5*365, 100*365) # first 90 days, first year, first three years\n",
    "bins = [timedelta(days=d) for d in days]\n",
    "df['stage'] = pd.cut(df['age'], bins=bins, right=False, labels=labels)\n",
    "df['stage'].value_counts()"
   ]
  },
  {
   "cell_type": "code",
   "execution_count": 7,
   "metadata": {},
   "outputs": [],
   "source": [
    "data = {}\n",
    "for stage in labels:\n",
    "    data[stage] = list(df[df['stage'] == stage]['selftext'])[:3000]"
   ]
  },
  {
   "cell_type": "code",
   "execution_count": 8,
   "metadata": {},
   "outputs": [],
   "source": [
    "output = {\n",
    "    'distributions':data,\n",
    "    'note':'',\n",
    "    'description':'Parenting discussions at different stages of parenting.'\n",
    "}\n",
    "output_file = f'{output_folder}/parenting_stages.json'\n",
    "with open(output_file, 'w') as outfile:\n",
    "    json.dump(output, outfile)"
   ]
  },
  {
   "cell_type": "code",
   "execution_count": 9,
   "metadata": {},
   "outputs": [],
   "source": [
    "mom_subreddits = ('Mommit', 'NewMomStuff')\n",
    "dad_subreddits = ('daddit', 'NewDads')\n",
    "is_mom = df[['author', 'subreddit']].groupby('author').agg(lambda x: x.isin(mom_subreddits).any())\n",
    "is_dad = df[['author', 'subreddit']].groupby('author').agg(lambda x: x.isin(dad_subreddits).any())"
   ]
  },
  {
   "cell_type": "code",
   "execution_count": 10,
   "metadata": {},
   "outputs": [],
   "source": [
    "get_is_mom = dict(zip(is_mom.index, is_mom['subreddit']))\n",
    "get_is_dad = dict(zip(is_dad.index, is_dad['subreddit']))\n",
    "df['is_mom'] = df['author'].apply(lambda x: get_is_mom[x])\n",
    "df['is_dad'] = df['author'].apply(lambda x: get_is_dad[x])"
   ]
  },
  {
   "cell_type": "code",
   "execution_count": 11,
   "metadata": {},
   "outputs": [],
   "source": [
    "data = {}\n",
    "data['moms'] = list(df[df['is_mom'] & ~df['is_dad'] & ~df['subreddit'].isin(mom_subreddits)]['selftext'])\n",
    "data['dads'] = list(df[df['is_dad'] & ~df['is_mom'] & ~df['subreddit'].isin(dad_subreddits)]['selftext'])"
   ]
  },
  {
   "cell_type": "code",
   "execution_count": 12,
   "metadata": {},
   "outputs": [],
   "source": [
    "output = {\n",
    "    'distributions':data,\n",
    "    'note':'',\n",
    "    'description':'Parenting discussions by gender.'\n",
    "}\n",
    "output_file = f'{output_folder}/parenting_genders.json'\n",
    "with open(output_file, 'w') as outfile:\n",
    "    json.dump(output, outfile)"
   ]
  },
  {
   "cell_type": "code",
   "execution_count": 35,
   "metadata": {},
   "outputs": [],
   "source": [
    "counts = df['author'].value_counts()\n",
    "frequent_authors = list(counts.index[counts > 100])[2:] # exclude AutoModerator and [deleted]\n",
    "data = {}\n",
    "for author in frequent_authors:\n",
    "    data[author] = list(df[df['author'] == author]['selftext'])"
   ]
  },
  {
   "cell_type": "code",
   "execution_count": 36,
   "metadata": {},
   "outputs": [],
   "source": [
    "output = {\n",
    "    'distributions':data,\n",
    "    'note':'',\n",
    "    'description':'Parenting discussions by user.'\n",
    "}\n",
    "output_file = f'{output_folder}/parenting_users.json'\n",
    "with open(output_file, 'w') as outfile:\n",
    "    json.dump(output, outfile)"
   ]
  },
  {
   "cell_type": "markdown",
   "metadata": {},
   "source": [
    "## Polarization\n",
    "\n",
    "From Jerry Wei's news slant [dataset](https://github.com/JerryWei03/NewB)."
   ]
  },
  {
   "cell_type": "code",
   "execution_count": 50,
   "metadata": {},
   "outputs": [],
   "source": [
    "data = {}\n",
    "lib_file = f'{data_folder}/NewB-master/liberal.txt'\n",
    "with open(lib_file, 'r') as file:\n",
    "    data['lib'] = list(map(lambda x: x[2:], file.readlines()))\n",
    "con_file = f'{data_folder}/NewB-master/conservative.txt'\n",
    "with open(con_file, 'r') as file:\n",
    "    data['con'] = list(map(lambda x: x[2:], file.readlines()))\n"
   ]
  },
  {
   "cell_type": "code",
   "execution_count": 22,
   "metadata": {},
   "outputs": [],
   "source": [
    "output = {\n",
    "    'distributions':data,\n",
    "    'note':'',\n",
    "    'description':'News slant dataset on articles about Donald Trump.'\n",
    "}\n",
    "output_file = f'{output_folder}/news_slant.json'\n",
    "with open(output_file, 'w') as outfile:\n",
    "    json.dump(output, outfile)"
   ]
  },
  {
   "cell_type": "markdown",
   "metadata": {},
   "source": [
    "## Ukraine Bias\n",
    "\n",
    "Annotated data from [Farber et al.](https://github.com/michaelfaerber/ukraine-news-bias) on news coverage during the Ukraine crisis."
   ]
  },
  {
   "cell_type": "code",
   "execution_count": 23,
   "metadata": {},
   "outputs": [
    {
     "data": {
      "text/html": [
       "<div>\n",
       "<style scoped>\n",
       "    .dataframe tbody tr th:only-of-type {\n",
       "        vertical-align: middle;\n",
       "    }\n",
       "\n",
       "    .dataframe tbody tr th {\n",
       "        vertical-align: top;\n",
       "    }\n",
       "\n",
       "    .dataframe thead th {\n",
       "        text-align: right;\n",
       "    }\n",
       "</style>\n",
       "<table border=\"1\" class=\"dataframe\">\n",
       "  <thead>\n",
       "    <tr style=\"text-align: right;\">\n",
       "      <th></th>\n",
       "      <th>0</th>\n",
       "      <th>1</th>\n",
       "    </tr>\n",
       "  </thead>\n",
       "  <tbody>\n",
       "    <tr>\n",
       "      <th>0</th>\n",
       "      <td>Russia claims thousands fleeing Ukraine</td>\n",
       "      <td>0</td>\n",
       "    </tr>\n",
       "    <tr>\n",
       "      <th>1</th>\n",
       "      <td>Russia says 143,000 Ukrainians have already le...</td>\n",
       "      <td>0</td>\n",
       "    </tr>\n",
       "    <tr>\n",
       "      <th>2</th>\n",
       "      <td>Thousands of Ukrainians are fleeing across the...</td>\n",
       "      <td>0</td>\n",
       "    </tr>\n",
       "    <tr>\n",
       "      <th>3</th>\n",
       "      <td>According to the border services, since the be...</td>\n",
       "      <td>0</td>\n",
       "    </tr>\n",
       "    <tr>\n",
       "      <th>4</th>\n",
       "      <td>The head of the citizenship department of the ...</td>\n",
       "      <td>0</td>\n",
       "    </tr>\n",
       "  </tbody>\n",
       "</table>\n",
       "</div>"
      ],
      "text/plain": [
       "                                                   0  1\n",
       "0            Russia claims thousands fleeing Ukraine  0\n",
       "1  Russia says 143,000 Ukrainians have already le...  0\n",
       "2  Thousands of Ukrainians are fleeing across the...  0\n",
       "3  According to the border services, since the be...  0\n",
       "4  The head of the citizenship department of the ...  0"
      ]
     },
     "execution_count": 23,
     "metadata": {},
     "output_type": "execute_result"
    }
   ],
   "source": [
    "input_file = f'{data_folder}/ukraine/sentences-with-binary-labels-bias.csv'\n",
    "df = pd.read_csv(input_file, header=None)\n",
    "df.head()"
   ]
  },
  {
   "cell_type": "code",
   "execution_count": 24,
   "metadata": {},
   "outputs": [],
   "source": [
    "data = {}\n",
    "data['bias'] = list(df[df[1]==1][0])\n",
    "data['no bias'] = list(df[df[1]==0][0])"
   ]
  },
  {
   "cell_type": "code",
   "execution_count": 26,
   "metadata": {},
   "outputs": [],
   "source": [
    "output = {\n",
    "    'distributions':data,\n",
    "    'note':'',\n",
    "    'description':'Recent articles about Ukraine labeled for subjectiveness.'\n",
    "}\n",
    "output_file = f'{output_folder}/ukraine.json'\n",
    "with open(output_file, 'w') as outfile:\n",
    "    json.dump(output, outfile)"
   ]
  },
  {
   "cell_type": "markdown",
   "metadata": {},
   "source": [
    "## Essays\n",
    "\n",
    "Automated essay scoring [data](https://www.kaggle.com/c/asap-aes/data?select=training_set_rel3.xlsx) from the Hewlett Foundaiton."
   ]
  },
  {
   "cell_type": "code",
   "execution_count": 240,
   "metadata": {},
   "outputs": [],
   "source": [
    "input_file = f'{data_folder}/papers/training_set_rel3.tsv'\n",
    "df = pd.read_csv(input_file, sep='\\t', encoding='latin-1')"
   ]
  },
  {
   "cell_type": "code",
   "execution_count": 244,
   "metadata": {},
   "outputs": [
    {
     "data": {
      "text/plain": [
       "2    649\n",
       "3    572\n",
       "1    302\n",
       "4    258\n",
       "0     24\n",
       "Name: domain1_score, dtype: int64"
      ]
     },
     "execution_count": 244,
     "metadata": {},
     "output_type": "execute_result"
    }
   ],
   "source": [
    "df[df['essay_set'] == 5].domain1_score.value_counts()"
   ]
  },
  {
   "cell_type": "code",
   "execution_count": 29,
   "metadata": {},
   "outputs": [],
   "source": [
    "mean=df.groupby('essay_set').domain1_score.transform('mean')    \n",
    "std=df.groupby('essay_set').domain1_score.transform('std')\n",
    "df['z_score'] = (df['domain1_score'] - mean)/std"
   ]
  },
  {
   "cell_type": "code",
   "execution_count": 30,
   "metadata": {},
   "outputs": [],
   "source": [
    "data = {}\n",
    "data['bad'] = list(df[df['z_score'] < 0]['essay'])\n",
    "data['good'] = list(df[0 <= df['z_score']]['essay'])"
   ]
  },
  {
   "cell_type": "code",
   "execution_count": 31,
   "metadata": {},
   "outputs": [],
   "source": [
    "output = {\n",
    "    'distributions':data,\n",
    "    'note':'',\n",
    "    'description':'Set of essays answering 6 prompts with scores, divided into top and bottom half.'\n",
    "}\n",
    "output_file = f'{output_folder}/essays.json'\n",
    "with open(output_file, 'w') as outfile:\n",
    "    json.dump(output, outfile)"
   ]
  },
  {
   "cell_type": "markdown",
   "metadata": {},
   "source": [
    "## Diplomacy\n",
    "\n",
    "From the [Diplomacy project](https://sites.google.com/view/qanta/projects/diplomacy) dataset."
   ]
  },
  {
   "cell_type": "code",
   "execution_count": 32,
   "metadata": {},
   "outputs": [],
   "source": [
    "files = glob.glob(f'{data_folder}/diplomacy/*.json')\n",
    "data = {}\n",
    "data['truth'] = []\n",
    "data['lie'] = []\n",
    "for file in files:\n",
    "    df = pd.read_json(file, lines=True)\n",
    "    messages = list(itertools.chain.from_iterable(pd.read_json(files[0], lines=True)['messages']))\n",
    "    labels = list(itertools.chain.from_iterable(pd.read_json(files[0], lines=True)['sender_labels']))\n",
    "    df = pd.DataFrame({'message':messages, 'label':labels})\n",
    "    data['truth'].extend(list(df[df['label']==True]['message']))\n",
    "    data['lie'].extend(list(df[df['label']==False]['message']))"
   ]
  },
  {
   "cell_type": "code",
   "execution_count": 33,
   "metadata": {},
   "outputs": [],
   "source": [
    "output = {\n",
    "    'distributions':data,\n",
    "    'note':'',\n",
    "    'description':'Commentary from games of Diplomacy labeled for deceptiveness.'\n",
    "}\n",
    "output_file = f'{output_folder}/diplomacy.json'\n",
    "with open(output_file, 'w') as outfile:\n",
    "    json.dump(output, outfile)"
   ]
  },
  {
   "cell_type": "markdown",
   "metadata": {},
   "source": [
    "## News Headlines\n",
    "\n",
    "From the ABC \"million news headlines\" [dataset](https://www.kaggle.com/therohk/million-headlines), \"spam clickbait catalog\" [dataset](https://www.kaggle.com/therohk/examine-the-examiner), and India news headlines [dataset](https://www.kaggle.com/therohk/india-headlines-news-dataset)."
   ]
  },
  {
   "cell_type": "code",
   "execution_count": 15,
   "metadata": {},
   "outputs": [],
   "source": [
    "headline_files = [\n",
    "    (f'{data_folder}/abc_headlines/abcnews-date-text.csv', f'{output_folder}/abc_headlines.json', \"ABC\"),\n",
    "    (f'{data_folder}/examiner_headlines/examiner-date-text.csv', f'{output_folder}/examiner_headlines.json', \"The Examminer\"),\n",
    "    (f'{data_folder}/india_headlines/india-news-headlines.csv', f'{output_folder}/india_headlines.json', \"India news\")\n",
    "]\n",
    "for input_file, output_file, outlet in headline_files:\n",
    "    df = pd.read_csv(input_file)\n",
    "    df['year'] = df['publish_date'].astype(str).str[:4].astype(int)\n",
    "    data = {}\n",
    "    for year in df['year'].unique():\n",
    "        data[str(year)] = list(df[df['year']==year]['headline_text'])[:1000]\n",
    "    output = {\n",
    "        'distributions':data,\n",
    "        'note':'',\n",
    "        'description':f'Headlines from {outlet}'\n",
    "    }\n",
    "    with open(output_file, 'w') as outfile:\n",
    "        json.dump(output, outfile)"
   ]
  },
  {
   "cell_type": "markdown",
   "metadata": {},
   "source": [
    "## Search Relevance\n",
    "\n",
    "From the \"Home Depot Product Search Relevance\" [dataset](https://www.kaggle.com/c/home-depot-product-search-relevance/data?select=train.csv.zip)."
   ]
  },
  {
   "cell_type": "code",
   "execution_count": 36,
   "metadata": {},
   "outputs": [],
   "source": [
    "input_file = f'{data_folder}/search_relevance/train.csv'\n",
    "df = pd.read_csv(input_file)"
   ]
  },
  {
   "cell_type": "code",
   "execution_count": 37,
   "metadata": {},
   "outputs": [],
   "source": [
    "data = {}\n",
    "data['low relevance'] = list(df[df['relevance'] < 2.5]['search_term'])\n",
    "data['high relevance'] = list(df[df['relevance'] >= 2.5]['search_term'])"
   ]
  },
  {
   "cell_type": "code",
   "execution_count": 39,
   "metadata": {},
   "outputs": [],
   "source": [
    "output = {\n",
    "    'distributions':data,\n",
    "    'note':'',\n",
    "    'description':'Home Depot product searches labeled for the relevance of search results.'\n",
    "}\n",
    "output_file = f'{output_folder}/search_relevance.json'\n",
    "with open(output_file, 'w') as outfile:\n",
    "    json.dump(output, outfile)"
   ]
  },
  {
   "cell_type": "markdown",
   "metadata": {},
   "source": [
    "## Product Reviews\n",
    "\n",
    "Reviews of products from Jianmo Ni's [Amazon Review Data](https://nijianmo.github.io/amazon/index.html#complete-data) dataset."
   ]
  },
  {
   "cell_type": "code",
   "execution_count": 67,
   "metadata": {},
   "outputs": [
    {
     "name": "stdout",
     "output_type": "stream",
     "text": [
      "data/amazon_reviews/AMAZON_FASHION_5.json\n",
      "data/amazon_reviews/All_Beauty_5.json\n",
      "data/amazon_reviews/Appliances_5.json\n",
      "data/amazon_reviews/Arts_Crafts_and_Sewing_5.json\n",
      "data/amazon_reviews/Cell_Phones_and_Accessories_5.json\n",
      "data/amazon_reviews/Automotive_5.json\n"
     ]
    }
   ],
   "source": [
    "review_files = [\n",
    "    (f'{data_folder}/amazon_reviews/AMAZON_FASHION_5.json',f'{output_folder}/amazon_fashion_reviews.json', 'fashion products'),\n",
    "    (f'{data_folder}/amazon_reviews/All_Beauty_5.json',f'{output_folder}/beauty_reviews.json', 'beauty products'),\n",
    "    (f'{data_folder}/amazon_reviews/Appliances_5.json',f'{output_folder}/appliances_reviews.json', 'appliances'),\n",
    "    (f'{data_folder}/amazon_reviews/Arts_Crafts_and_Sewing_5.json',f'{output_folder}/arts_crafts_reviews.json', 'arts and crafts products'),\n",
    "    (f'{data_folder}/amazon_reviews/Cell_Phones_and_Accessories_5.json',f'{output_folder}/phone_reviews.json', 'phones'),\n",
    "    (f'{data_folder}/amazon_reviews/Automotive_5.json',f'{output_folder}/automotive_reviews.json', 'automative products')\n",
    "]\n",
    "for input_file, output_file, product in review_files:\n",
    "    print(input_file)\n",
    "    df = pd.read_json(input_file, lines=True)\n",
    "    data = {}\n",
    "    for rating in df['overall'].unique():\n",
    "        data[str(rating)] = list(df[df['overall'] == rating]['reviewText'].astype(str))\n",
    "    output = {\n",
    "        'distributions':data,\n",
    "        'note':'',\n",
    "        'description':f'Dataset of reviews of {product} on Amazon.'\n",
    "    }\n",
    "    with open(output_file, 'w') as outfile:\n",
    "        json.dump(output, outfile)"
   ]
  },
  {
   "cell_type": "markdown",
   "metadata": {},
   "source": [
    "## Mafia Deception"
   ]
  },
  {
   "cell_type": "code",
   "execution_count": 41,
   "metadata": {},
   "outputs": [],
   "source": [
    "input_file = f'{data_folder}/mafia/docs.pkl'\n",
    "df = pd.read_pickle(input_file, 'gzip')"
   ]
  },
  {
   "cell_type": "code",
   "execution_count": 42,
   "metadata": {},
   "outputs": [],
   "source": [
    "data = {}\n",
    "data['scum'] = list(df[df['scum']]['content'])[:1000]\n",
    "data['not scum'] = list(df[~df['scum']]['content'])[:1000]"
   ]
  },
  {
   "cell_type": "code",
   "execution_count": 43,
   "metadata": {},
   "outputs": [],
   "source": [
    "output = {\n",
    "    'distributions':data,\n",
    "    'note':'',\n",
    "    'description':'Commentary from games of Mafia labeled for deception.'\n",
    "}\n",
    "output_file = f'{output_folder}/mafia_deception.json'\n",
    "with open(output_file, 'w') as outfile:\n",
    "    json.dump(output, outfile)"
   ]
  },
  {
   "cell_type": "markdown",
   "metadata": {},
   "source": [
    "## Stocks Reddit\n",
    "\n",
    "From [\"Daily News for Stock Market Prediction.\"](https://www.kaggle.com/datasets/aaron7sun/stocknews)"
   ]
  },
  {
   "cell_type": "code",
   "execution_count": 44,
   "metadata": {},
   "outputs": [],
   "source": [
    "input_file = f'{data_folder}/stocks_reddit/Combined_News_DJIA.csv'\n",
    "df = pd.read_csv(input_file)"
   ]
  },
  {
   "cell_type": "code",
   "execution_count": 45,
   "metadata": {},
   "outputs": [],
   "source": [
    "data = {}\n",
    "data['down'] = []\n",
    "data['up'] = []\n",
    "for col in df.columns:\n",
    "    if \"Top\" in col:\n",
    "        data['down'].extend(list(df[df['Label'] == 0][col]))\n",
    "        data['up'].extend(list(df[df['Label'] == 1][col]))"
   ]
  },
  {
   "cell_type": "code",
   "execution_count": 46,
   "metadata": {},
   "outputs": [],
   "source": [
    "output = {\n",
    "    'distributions':data,\n",
    "    'note':'',\n",
    "    'description':'Reddit headlines on days where markets rose vs fell.'\n",
    "}\n",
    "output_file = f'{output_folder}/reddit_stocks.json'\n",
    "with open(output_file, 'w') as outfile:\n",
    "    json.dump(output, outfile)"
   ]
  },
  {
   "cell_type": "markdown",
   "metadata": {},
   "source": [
    "## Unhealthy Conversations\n",
    "\n",
    "From the [Unhealthy Comments Corpus](https://github.com/conversationai/unhealthy-conversations)."
   ]
  },
  {
   "cell_type": "code",
   "execution_count": 47,
   "metadata": {},
   "outputs": [],
   "source": [
    "files = glob.glob(f'{data_folder}/unhealthy_convo/*.csv')\n",
    "data = defaultdict(list)\n",
    "attributes = ['antagonize', 'condescending', 'dismissive', 'generalisation', 'generalisation_unfair', 'healthy', 'hostile', 'sarcastic']\n",
    "for file in files:\n",
    "    df = pd.read_csv(file)\n",
    "    for attr in attributes:\n",
    "        data[attr].extend(list(df[df[attr] == 1]['comment']))\n",
    "        data['not_' + attr].extend(list(df[df[attr] == 0]['comment']))"
   ]
  },
  {
   "cell_type": "code",
   "execution_count": 48,
   "metadata": {},
   "outputs": [],
   "source": [
    "output = {\n",
    "    'distributions':data,\n",
    "    'note':'',\n",
    "    'description':'Unhealthy comments scraped from Reddit labeled by attribute.'\n",
    "}\n",
    "output_file = f'{output_folder}/unhealthy_convo.json'\n",
    "with open(output_file, 'w') as outfile:\n",
    "    json.dump(output, outfile)"
   ]
  },
  {
   "cell_type": "markdown",
   "metadata": {},
   "source": [
    "## Facebook Posts\n",
    "\n",
    "From the [2012-2016 Facebook Posts](https://data.world/martinchek/2012-2016-facebook-posts/workspace) dataset."
   ]
  },
  {
   "cell_type": "code",
   "execution_count": 49,
   "metadata": {},
   "outputs": [],
   "source": [
    "pagenames_file = f'{data_folder}/facebook_posts/fb_news_pagenames.csv'\n",
    "pagenames_df = pd.read_csv(pagenames_file)\n",
    "pagenames_dict = dict(zip(pagenames_df['page_id'], pagenames_df['page_name']))"
   ]
  },
  {
   "cell_type": "code",
   "execution_count": 50,
   "metadata": {},
   "outputs": [
    {
     "data": {
      "text/html": [
       "<div>\n",
       "<style scoped>\n",
       "    .dataframe tbody tr th:only-of-type {\n",
       "        vertical-align: middle;\n",
       "    }\n",
       "\n",
       "    .dataframe tbody tr th {\n",
       "        vertical-align: top;\n",
       "    }\n",
       "\n",
       "    .dataframe thead th {\n",
       "        text-align: right;\n",
       "    }\n",
       "</style>\n",
       "<table border=\"1\" class=\"dataframe\">\n",
       "  <thead>\n",
       "    <tr style=\"text-align: right;\">\n",
       "      <th></th>\n",
       "      <th>created_time</th>\n",
       "      <th>description</th>\n",
       "      <th>link</th>\n",
       "      <th>message</th>\n",
       "      <th>page_id</th>\n",
       "      <th>post_id</th>\n",
       "      <th>react_angry</th>\n",
       "      <th>react_haha</th>\n",
       "      <th>react_like</th>\n",
       "      <th>react_love</th>\n",
       "      <th>react_sad</th>\n",
       "      <th>react_wow</th>\n",
       "      <th>scrape_time</th>\n",
       "      <th>shares</th>\n",
       "      <th>page_name</th>\n",
       "    </tr>\n",
       "  </thead>\n",
       "  <tbody>\n",
       "    <tr>\n",
       "      <th>0</th>\n",
       "      <td>2017-07-14T14:30:59+0000</td>\n",
       "      <td>NaN</td>\n",
       "      <td>https://www.facebook.com/bbcnews/videos/101548...</td>\n",
       "      <td>We are #LIVE outside the National Rifle Associ...</td>\n",
       "      <td>228735667216</td>\n",
       "      <td>228735667216_10154890879532217</td>\n",
       "      <td>54</td>\n",
       "      <td>24</td>\n",
       "      <td>993</td>\n",
       "      <td>144</td>\n",
       "      <td>12</td>\n",
       "      <td>24</td>\n",
       "      <td>2017-07-14 11:01:24.379857</td>\n",
       "      <td>139</td>\n",
       "      <td>bbc</td>\n",
       "    </tr>\n",
       "    <tr>\n",
       "      <th>1</th>\n",
       "      <td>2017-07-14T14:20:59+0000</td>\n",
       "      <td></td>\n",
       "      <td>http://bbc.in/2talMsx</td>\n",
       "      <td>UPDATE: \\r\\n-2 Ukrainian tourists killed in st...</td>\n",
       "      <td>228735667216</td>\n",
       "      <td>228735667216_10154890968202217</td>\n",
       "      <td>172</td>\n",
       "      <td>8</td>\n",
       "      <td>994</td>\n",
       "      <td>11</td>\n",
       "      <td>783</td>\n",
       "      <td>264</td>\n",
       "      <td>2017-07-14 11:01:24.379857</td>\n",
       "      <td>680</td>\n",
       "      <td>bbc</td>\n",
       "    </tr>\n",
       "    <tr>\n",
       "      <th>2</th>\n",
       "      <td>2017-07-14T13:40:38+0000</td>\n",
       "      <td>NaN</td>\n",
       "      <td>https://www.facebook.com/bbcnews/videos/101548...</td>\n",
       "      <td>Proms: Come with us on a tour of the Royal Alb...</td>\n",
       "      <td>228735667216</td>\n",
       "      <td>228735667216_10154890852247217</td>\n",
       "      <td>5</td>\n",
       "      <td>12</td>\n",
       "      <td>2034</td>\n",
       "      <td>369</td>\n",
       "      <td>6</td>\n",
       "      <td>45</td>\n",
       "      <td>2017-07-14 11:01:24.379857</td>\n",
       "      <td>395</td>\n",
       "      <td>bbc</td>\n",
       "    </tr>\n",
       "    <tr>\n",
       "      <th>3</th>\n",
       "      <td>2017-07-14T12:55:45+0000</td>\n",
       "      <td>NaN</td>\n",
       "      <td>https://www.facebook.com/bbcnews/videos/142678...</td>\n",
       "      <td>Thousands say their final goodbyes to Bradley ...</td>\n",
       "      <td>228735667216</td>\n",
       "      <td>228735667216_1426789250735491</td>\n",
       "      <td>6</td>\n",
       "      <td>0</td>\n",
       "      <td>2262</td>\n",
       "      <td>754</td>\n",
       "      <td>1989</td>\n",
       "      <td>11</td>\n",
       "      <td>2017-07-14 11:01:24.379857</td>\n",
       "      <td>542</td>\n",
       "      <td>bbc</td>\n",
       "    </tr>\n",
       "    <tr>\n",
       "      <th>4</th>\n",
       "      <td>2017-07-14T12:45:00+0000</td>\n",
       "      <td>NaN</td>\n",
       "      <td>https://www.facebook.com/bbcnews/videos/101548...</td>\n",
       "      <td>Despite safety warnings, this beach near an ai...</td>\n",
       "      <td>228735667216</td>\n",
       "      <td>228735667216_10154890645702217</td>\n",
       "      <td>65</td>\n",
       "      <td>513</td>\n",
       "      <td>4336</td>\n",
       "      <td>54</td>\n",
       "      <td>128</td>\n",
       "      <td>815</td>\n",
       "      <td>2017-07-14 11:01:24.379857</td>\n",
       "      <td>1956</td>\n",
       "      <td>bbc</td>\n",
       "    </tr>\n",
       "  </tbody>\n",
       "</table>\n",
       "</div>"
      ],
      "text/plain": [
       "               created_time description  \\\n",
       "0  2017-07-14T14:30:59+0000         NaN   \n",
       "1  2017-07-14T14:20:59+0000               \n",
       "2  2017-07-14T13:40:38+0000         NaN   \n",
       "3  2017-07-14T12:55:45+0000         NaN   \n",
       "4  2017-07-14T12:45:00+0000         NaN   \n",
       "\n",
       "                                                link  \\\n",
       "0  https://www.facebook.com/bbcnews/videos/101548...   \n",
       "1                              http://bbc.in/2talMsx   \n",
       "2  https://www.facebook.com/bbcnews/videos/101548...   \n",
       "3  https://www.facebook.com/bbcnews/videos/142678...   \n",
       "4  https://www.facebook.com/bbcnews/videos/101548...   \n",
       "\n",
       "                                             message       page_id  \\\n",
       "0  We are #LIVE outside the National Rifle Associ...  228735667216   \n",
       "1  UPDATE: \\r\\n-2 Ukrainian tourists killed in st...  228735667216   \n",
       "2  Proms: Come with us on a tour of the Royal Alb...  228735667216   \n",
       "3  Thousands say their final goodbyes to Bradley ...  228735667216   \n",
       "4  Despite safety warnings, this beach near an ai...  228735667216   \n",
       "\n",
       "                          post_id  react_angry  react_haha  react_like  \\\n",
       "0  228735667216_10154890879532217           54          24         993   \n",
       "1  228735667216_10154890968202217          172           8         994   \n",
       "2  228735667216_10154890852247217            5          12        2034   \n",
       "3   228735667216_1426789250735491            6           0        2262   \n",
       "4  228735667216_10154890645702217           65         513        4336   \n",
       "\n",
       "   react_love  react_sad  react_wow                 scrape_time  shares  \\\n",
       "0         144         12         24  2017-07-14 11:01:24.379857     139   \n",
       "1          11        783        264  2017-07-14 11:01:24.379857     680   \n",
       "2         369          6         45  2017-07-14 11:01:24.379857     395   \n",
       "3         754       1989         11  2017-07-14 11:01:24.379857     542   \n",
       "4          54        128        815  2017-07-14 11:01:24.379857    1956   \n",
       "\n",
       "  page_name  \n",
       "0       bbc  \n",
       "1       bbc  \n",
       "2       bbc  \n",
       "3       bbc  \n",
       "4       bbc  "
      ]
     },
     "execution_count": 50,
     "metadata": {},
     "output_type": "execute_result"
    }
   ],
   "source": [
    "input_file = f'{data_folder}/facebook_posts/fb_news_posts_20K.csv'\n",
    "df = pd.read_csv(input_file)\n",
    "df['page_name'] = df['page_id'].apply(lambda x: pagenames_dict[x])"
   ]
  },
  {
   "cell_type": "code",
   "execution_count": 51,
   "metadata": {},
   "outputs": [],
   "source": [
    "data = {}\n",
    "for page in pagenames_dict.values():\n",
    "    data[page] = list(df[df['page_name'] == page]['message'])"
   ]
  },
  {
   "cell_type": "code",
   "execution_count": 52,
   "metadata": {},
   "outputs": [],
   "source": [
    "output = {\n",
    "    'distributions':data,\n",
    "    'note':'',\n",
    "    'description':'Dataset of Facebook posts from pages of varoius news outlets.'\n",
    "}\n",
    "output_file = f'{output_folder}/fb_posts.json'\n",
    "with open(output_file, 'w') as outfile:\n",
    "    json.dump(output, outfile)"
   ]
  },
  {
   "cell_type": "markdown",
   "metadata": {},
   "source": [
    "## Yelp Reviews\n",
    "\n",
    "Read subset of Yelp reviews. Add unziped [Yelp dataset](https://www.yelp.com/dataset/documentation/main) to the data folder."
   ]
  },
  {
   "cell_type": "code",
   "execution_count": 53,
   "metadata": {},
   "outputs": [],
   "source": [
    "reviews_file = f'{data_folder}/yelp_dataset/yelp_academic_dataset_review.json'\n",
    "business_file = f'{data_folder}/yelp_dataset/yelp_academic_dataset_business.json'"
   ]
  },
  {
   "cell_type": "code",
   "execution_count": 54,
   "metadata": {},
   "outputs": [],
   "source": [
    "reviews_df = pd.read_json(reviews_file, lines=True, nrows=100000)\n",
    "business_df = pd.read_json(business_file, lines=True, nrows=100000)"
   ]
  },
  {
   "cell_type": "markdown",
   "metadata": {},
   "source": [
    "Explore potential restaurant types."
   ]
  },
  {
   "cell_type": "code",
   "execution_count": 55,
   "metadata": {},
   "outputs": [],
   "source": [
    "reviews_df = reviews_df.merge(business_df[['business_id', 'categories']], on='business_id', how='left')\n",
    "reviews_df = reviews_df[reviews_df['categories'].apply(lambda x: bool(x) and 'Restaurants' in x)]"
   ]
  },
  {
   "cell_type": "code",
   "execution_count": 56,
   "metadata": {},
   "outputs": [],
   "source": [
    "restaurant_types = {\n",
    "    'Pizza':'pizza',\n",
    "    'Mexican':'mexican',\n",
    "    'Chinese':'chinese',\n",
    "    'Italian':'italian',\n",
    "    'American (New)':'new_american',\n",
    "    'American (Traditional)':'trad_american',\n",
    "    'Thai':'thai',\n",
    "    'Vietnamese':'vietnamese',\n",
    "    'Seafood':'seafood',\n",
    "    'Barbeque':'bbq',\n",
    "    'Diners':'diner',\n",
    "    'Japanese':'japanese'\n",
    "}\n",
    "for category, keyword in restaurant_types.items():\n",
    "    reviews_df['is_' + keyword] = reviews_df['categories'].apply(lambda x: bool(x) and category in x)"
   ]
  },
  {
   "cell_type": "code",
   "execution_count": 57,
   "metadata": {},
   "outputs": [],
   "source": [
    "data = {}\n",
    "for keyword in restaurant_types.values():\n",
    "    data[keyword] = list(reviews_df[reviews_df['is_' + keyword]]['text'])"
   ]
  },
  {
   "cell_type": "code",
   "execution_count": 58,
   "metadata": {},
   "outputs": [],
   "source": [
    "output = {\n",
    "    'distributions':data,\n",
    "    'note':'',\n",
    "    'description':'Reviews of Yelp restaurants categorized by restaurant type.'\n",
    "}\n",
    "output_file = f'{output_folder}/yelp_reviews.json'\n",
    "with open(output_file, 'w') as outfile:\n",
    "    json.dump(output, outfile)"
   ]
  },
  {
   "cell_type": "markdown",
   "metadata": {},
   "source": [
    "## Reddit Dataset"
   ]
  },
  {
   "cell_type": "code",
   "execution_count": 59,
   "metadata": {},
   "outputs": [],
   "source": [
    "files = glob.glob(f'{data_folder}/reddit-dataset/*.csv')\n",
    "header = ['text', 'id', 'subreddit', 'meta', 'time', 'author', 'ups', 'downs', 'authorlinkkarma', 'authorcommentkarma', 'authorisgold']\n",
    "reddit_df = pd.DataFrame()\n",
    "malformed =  ('anime', 'comicbooks', 'movies', 'harrypotter')\n",
    "for file in files:\n",
    "    sub_df = pd.read_csv(file)\n",
    "    if any([sub in file for sub in malformed]):\n",
    "        sub_df = sub_df.iloc[1:, 1:]\n",
    "    sub_df = sub_df.drop(sub_df.columns[0], axis=1)\n",
    "    sub_df = sub_df.rename(dict(zip(sub_df.columns, header)), axis=1)\n",
    "    reddit_df = reddit_df.append(sub_df)"
   ]
  },
  {
   "cell_type": "code",
   "execution_count": 60,
   "metadata": {},
   "outputs": [],
   "source": [
    "reddit_df['datetime'] = pd.to_datetime(reddit_df['time'], unit='s')"
   ]
  },
  {
   "cell_type": "code",
   "execution_count": 61,
   "metadata": {},
   "outputs": [],
   "source": [
    "sub_data = {}\n",
    "for sub in reddit_df['subreddit'].unique():\n",
    "    sub_df = reddit_df[reddit_df.subreddit == sub]\n",
    "    days = (max(sub_df.time) - min(sub_df.time))/3600/24\n",
    "    sub_data[sub] = list(sub_df['text'])[:8000]"
   ]
  },
  {
   "cell_type": "code",
   "execution_count": 62,
   "metadata": {},
   "outputs": [],
   "source": [
    "output = {\n",
    "    'distributions':sub_data,\n",
    "    'note':'',\n",
    "    'description':'Reddit comments from various subreddits.'\n",
    "}\n",
    "output_file = f'{output_folder}/reddit_posts.json'\n",
    "with open(output_file, 'w') as outfile:\n",
    "    json.dump(output, outfile)"
   ]
  },
  {
   "cell_type": "markdown",
   "metadata": {},
   "source": [
    "## Authorship"
   ]
  },
  {
   "cell_type": "code",
   "execution_count": 7,
   "metadata": {},
   "outputs": [],
   "source": [
    "files = glob.glob(f'{data_folder}/C50/**/**/*.txt')\n",
    "data = defaultdict(list)\n",
    "for file in files:\n",
    "    author = file.split('/')[3]\n",
    "    with open(file, 'r') as f:\n",
    "        text = f.read()\n",
    "        data[author].append(text)"
   ]
  },
  {
   "cell_type": "code",
   "execution_count": 10,
   "metadata": {},
   "outputs": [],
   "source": [
    "output = {\n",
    "    'distributions':data,\n",
    "    'note':'',\n",
    "    'description':'Texts by various Reuters authors on similar topics.'\n",
    "}\n",
    "output_file = f'{output_folder}/reuters_authors.json'\n",
    "with open(output_file, 'w') as outfile:\n",
    "    json.dump(output, outfile)"
   ]
  },
  {
   "cell_type": "markdown",
   "metadata": {},
   "source": [
    "## Misspelling\n",
    "\n",
    "Sentiment140 dataset with [1.6M Tweets](https://www.kaggle.com/datasets/kazanova/sentiment140)."
   ]
  },
  {
   "cell_type": "code",
   "execution_count": 2,
   "metadata": {},
   "outputs": [],
   "source": [
    "path = f'{data_folder}/covid_tweets/training.csv'\n",
    "df = pd.read_csv(path, names=['id', 'timstamp', 'type', 'user', 'text'], encoding='latin-1')"
   ]
  },
  {
   "cell_type": "code",
   "execution_count": 19,
   "metadata": {},
   "outputs": [],
   "source": [
    "normalization_pairs = [\n",
    "    ('your', [' ur '], [' your ', ' you\\'re ']),\n",
    "    ('with', [' wit '], [' with ']),\n",
    "    ('that', [' dat ', ' dats '], [' that ']),   \n",
    "    ('going', [' goin '], ['going ']),\n",
    "    ('know', [' kno '], [' know ']),\n",
    "    ('you', [' u '], [' you ']),\n",
    "    ('what', [' wut ', ' wat '], [' what ']),\n",
    "    ('the', [' da '], [' the '])\n",
    "]"
   ]
  },
  {
   "cell_type": "code",
   "execution_count": 20,
   "metadata": {},
   "outputs": [],
   "source": [
    "data = {}\n",
    "for group, misspell, proper in normalization_pairs:\n",
    "    data[group + '_misspell'] = list(df[df['text'].str.contains('|'.join(misspell))]['text'])\n",
    "    data[group + '_proper'] = list(df[df['text'].str.contains('|'.join(proper))]['text'])"
   ]
  },
  {
   "cell_type": "code",
   "execution_count": 84,
   "metadata": {},
   "outputs": [],
   "source": [
    "output = {\n",
    "    'distributions':data,\n",
    "    'note':'',\n",
    "    'description':'Tweets with and without mispellings of common words.'\n",
    "}\n",
    "output_file = f'{output_folder}/tweet_misspellings.json'\n",
    "with open(output_file, 'w') as outfile:\n",
    "    json.dump(output, outfile)"
   ]
  },
  {
   "cell_type": "markdown",
   "metadata": {},
   "source": [
    "## Reddit Humor\n",
    "\n",
    "From the [Reddit Humor Detection](https://github.com/orionw/RedditHumorDetection) dataset."
   ]
  },
  {
   "cell_type": "code",
   "execution_count": 14,
   "metadata": {},
   "outputs": [],
   "source": [
    "files = ['dev.tsv', 'train.tsv']\n",
    "df = pd.DataFrame()\n",
    "for f in files:\n",
    "    path = f'{data_folder}/reddithumor/{f}'\n",
    "    df = df.append(pd.read_csv(path, names=['index', 'funny', 'type', 'text'], encoding='latin-1'))\n",
    "df = df.drop(['index', 'type'], axis=1)"
   ]
  },
  {
   "cell_type": "code",
   "execution_count": 18,
   "metadata": {},
   "outputs": [],
   "source": [
    "data = {}\n",
    "def process(text):\n",
    "    return text.replace('_____', ' ')\n",
    "data['funny'] = list(df[df['funny'] == 1]['text'].apply(process))\n",
    "data['unfunny'] = list(df[df['funny'] == 0]['text'].apply(process))"
   ]
  },
  {
   "cell_type": "code",
   "execution_count": 20,
   "metadata": {},
   "outputs": [],
   "source": [
    "output = {\n",
    "    'distributions':data,\n",
    "    'note':'',\n",
    "    'description':'Funny and unfunny Reddit jokes, as judged by proportion of upvotes.'\n",
    "}\n",
    "output_file = f'{output_folder}/reddit_jokes.json'\n",
    "with open(output_file, 'w') as outfile:\n",
    "    json.dump(output, outfile)"
   ]
  },
  {
   "cell_type": "markdown",
   "metadata": {},
   "source": [
    "## ECHR\n",
    "\n",
    "The [ECHR dataset](https://archive.org/details/ECHR-ACL2019)."
   ]
  },
  {
   "cell_type": "code",
   "execution_count": 111,
   "metadata": {},
   "outputs": [],
   "source": [
    "path = '{data_folder}/ECHR_Dataset/*_Anon/*.json'\n",
    "files = glob.glob(path)\n",
    "dicts = [json.load(open(f, 'r')) for f in files]"
   ]
  },
  {
   "cell_type": "code",
   "execution_count": 117,
   "metadata": {},
   "outputs": [],
   "source": [
    "np.random.seed(0)\n",
    "data = defaultdict(list)\n",
    "for d in np.random.permutation(dicts)[:1000]:\n",
    "    text = '\\n'.join(d['TEXT'])\n",
    "    if d['VIOLATED_ARTICLES']:\n",
    "        data['violation'].append(text)\n",
    "    else:\n",
    "        data['no_violation'].append(text)\n",
    "data = dict(data)"
   ]
  },
  {
   "cell_type": "code",
   "execution_count": 50,
   "metadata": {},
   "outputs": [],
   "source": [
    "output = {\n",
    "    'distributions':data,\n",
    "    'note':'',\n",
    "    'description':'Court decisions of the ECHR, categorized by whether there was a violation.'\n",
    "}\n",
    "output_file = f'{output_folder}/echr_decisions.json'\n",
    "with open(output_file, 'w') as outfile:\n",
    "    json.dump(output, outfile)"
   ]
  },
  {
   "cell_type": "markdown",
   "metadata": {},
   "source": [
    "## SCOTUS Decisions"
   ]
  },
  {
   "cell_type": "code",
   "execution_count": 55,
   "metadata": {},
   "outputs": [],
   "source": [
    "path = f'{data_folder}/scotus/task1_data.pkl'\n",
    "df = pd.read_pickle(path)"
   ]
  },
  {
   "cell_type": "code",
   "execution_count": 56,
   "metadata": {},
   "outputs": [],
   "source": [
    "df.rename(columns={'Facts': 'facts'}, inplace=True)\n",
    "df.drop(columns=['index'], inplace=True)\n",
    "df.reset_index(inplace=True)"
   ]
  },
  {
   "cell_type": "code",
   "execution_count": 57,
   "metadata": {},
   "outputs": [],
   "source": [
    "df_mirror = df.copy()\n",
    "df_mirror[['second_party', 'first_party']] = df_mirror[['first_party', 'second_party']]\n",
    "df = df.append(df_mirror)"
   ]
  },
  {
   "cell_type": "code",
   "execution_count": 58,
   "metadata": {},
   "outputs": [],
   "source": [
    "df['text'] = df['first_party'] + ' ' + df['facts']"
   ]
  },
  {
   "cell_type": "code",
   "execution_count": 59,
   "metadata": {},
   "outputs": [],
   "source": [
    "df['win'] = df['first_party'] == df['winning_party']"
   ]
  },
  {
   "cell_type": "code",
   "execution_count": 60,
   "metadata": {},
   "outputs": [],
   "source": [
    "data = {}\n",
    "data['win'] = list(df[df['win']]['text'])\n",
    "data['lose'] = list(df[~df['win']]['text'])"
   ]
  },
  {
   "cell_type": "code",
   "execution_count": 61,
   "metadata": {},
   "outputs": [],
   "source": [
    "output = {\n",
    "    'distributions':data,\n",
    "    'note':'',\n",
    "    'description':'Winners and losers of SCOTUS cases with facts, mirrored from each party\\s perspective.'\n",
    "}\n",
    "output_file = f'{output_folder}/scotus_decisions.json'\n",
    "with open(output_file, 'w') as outfile:\n",
    "    json.dump(output, outfile)"
   ]
  },
  {
   "cell_type": "markdown",
   "metadata": {},
   "source": [
    "## News Popularity"
   ]
  },
  {
   "cell_type": "code",
   "execution_count": 95,
   "metadata": {},
   "outputs": [],
   "source": [
    "path = f'{data_folder}/news_pop/News_Final.csv'\n",
    "df = pd.read_csv(path)"
   ]
  },
  {
   "cell_type": "code",
   "execution_count": 122,
   "metadata": {},
   "outputs": [],
   "source": [
    "def top_bottom(group, col, n = 50):\n",
    "    sorted = group.sort_values(col)\n",
    "    return sorted.iloc[-n:], sorted.iloc[:n]\n",
    "\n",
    "def clean_text(text):\n",
    "    return str(text).replace('&quot;', '\"').replace('\"\"\"', '\"')\n",
    "\n",
    "df['Headline'] = df['Headline'].apply(clean_text)\n",
    "df['Title'] = df['Title'].apply(clean_text)\n",
    "\n",
    "def rank_sentiment(group):\n",
    "    return top_bottom(group, 'SentimentTitle')\n",
    "\n",
    "def rank_fb(group):\n",
    "    return top_bottom(group, 'Facebook')"
   ]
  },
  {
   "cell_type": "code",
   "execution_count": 123,
   "metadata": {},
   "outputs": [],
   "source": [
    "sentiment_groups = df.groupby('Topic').apply(rank_sentiment)\n",
    "data = {}\n",
    "for topic in sentiment_groups.keys():\n",
    "    pos, neg = sentiment_groups[topic]\n",
    "    data[topic + '_pos'] = list(pos['Title'])\n",
    "    data[topic + '_neg'] = list(neg['Title'])"
   ]
  },
  {
   "cell_type": "code",
   "execution_count": 124,
   "metadata": {},
   "outputs": [],
   "source": [
    "fb_df = df[(df.Source == 'Bloomberg') & (df.Facebook >= 0) & (df.Topic.isin(['obama', 'economy', 'microsoft']))]\n",
    "fb_groups = fb_df.groupby('Topic').apply(rank_fb)\n",
    "for topic in fb_groups.keys():\n",
    "    pop, unpop = fb_groups[topic]\n",
    "    data[topic + '_pop'] = list(pop['Title'])\n",
    "    data[topic + '_unpop'] = list(unpop['Title'])"
   ]
  },
  {
   "cell_type": "code",
   "execution_count": 125,
   "metadata": {},
   "outputs": [],
   "source": [
    "output = {\n",
    "    'distributions':data,\n",
    "    'note':'',\n",
    "    'description':'Headlines on four topics with social feedback on four platforms.'\n",
    "}\n",
    "output_file = f'{output_folder}/news_pop.json'\n",
    "with open(output_file, 'w') as outfile:\n",
    "    json.dump(output, outfile)"
   ]
  },
  {
   "cell_type": "markdown",
   "metadata": {},
   "source": [
    "## Convincingness"
   ]
  },
  {
   "cell_type": "code",
   "execution_count": 150,
   "metadata": {},
   "outputs": [],
   "source": [
    "data_path = f'{data_folder}/convincingness/*'\n",
    "files = glob.glob(data_path)\n",
    "df = pd.DataFrame(columns=['id', 'rank', 'argument'])\n",
    "def read_file(file):\n",
    "    f = open(file, 'r')\n",
    "    lines = f.readlines()\n",
    "    data = []\n",
    "    for line in lines[1:]:\n",
    "        id, rank, argument = line.split('\\t')\n",
    "        data.append([id, rank, argument])\n",
    "    return pd.DataFrame(data, columns=['id', 'rank', 'argument'])\n",
    "for file in files:\n",
    "    df = df.append(read_file(file))"
   ]
  },
  {
   "cell_type": "code",
   "execution_count": 189,
   "metadata": {},
   "outputs": [],
   "source": [
    "def top_bottom(group, col, n = 50):\n",
    "    sorted = group.sort_values(col)\n",
    "    return sorted.iloc[-n:], sorted.iloc[:n]\n",
    "\n",
    "data = {}\n",
    "unconvincing, convincing = top_bottom(df, 'rank', 500)\n",
    "data['unconvincing'] = unconvincing\n",
    "data['convincing'] = convincing"
   ]
  },
  {
   "cell_type": "code",
   "execution_count": 190,
   "metadata": {},
   "outputs": [],
   "source": [
    "output = {\n",
    "    'distributions':data,\n",
    "    'note':'',\n",
    "    'description':'Arguments on online forums ranked by convincingness.'\n",
    "}\n",
    "output_file = f'{output_folder}/convincingness.json'\n",
    "with open(output_file, 'w') as outfile:\n",
    "    json.dump(output, outfile)"
   ]
  },
  {
   "cell_type": "markdown",
   "metadata": {},
   "source": [
    "## Open Review"
   ]
  },
  {
   "cell_type": "code",
   "execution_count": 6,
   "metadata": {},
   "outputs": [],
   "source": [
    "import openreview\n",
    "client = openreview.Client(baseurl='https://api.openreview.net')"
   ]
  },
  {
   "cell_type": "code",
   "execution_count": 233,
   "metadata": {},
   "outputs": [],
   "source": [
    "invites = [\n",
    "    (2018, 'ICLR.cc/2018/Conference/-/Blind_Submission','ICLR.cc/2018/Conference/-/Paper.*/Official_Review'),\n",
    "    (2019, 'ICLR.cc/2019/Conference/-/Blind_Submission','ICLR.cc/2019/Conference/-/Paper.*/Official_Review'),\n",
    "    (2020, 'ICLR.cc/2020/Conference/-/Blind_Submission','ICLR.cc/2020/Conference/Paper.*/-/Official_Review'),\n",
    "    (2021, 'ICLR.cc/2021/Conference/-/Blind_Submission','ICLR.cc/2021/Conference/Paper.*/-/Official_Review'),\n",
    "]\n",
    "\n",
    "metadata = []\n",
    "\n",
    "for year, submission_invite, review_invite in invites:\n",
    "\n",
    "    submissions = openreview.tools.iterget_notes(\n",
    "        client, invitation=submission_invite)\n",
    "    submissions_by_forum = {n.forum: n for n in submissions}\n",
    "\n",
    "    reviews = openreview.tools.iterget_notes(\n",
    "        client, invitation=review_invite)\n",
    "    reviews_by_forum = defaultdict(list)\n",
    "    for review in reviews:\n",
    "        reviews_by_forum[review.forum].append(review)\n",
    "\n",
    "    for forum in submissions_by_forum:\n",
    "\n",
    "        forum_reviews = reviews_by_forum[forum]\n",
    "        review_ratings = [int(n.content['rating'][0]) for n in forum_reviews]\n",
    "        average_rating = np.mean(review_ratings)\n",
    "\n",
    "        submission_content = submissions_by_forum[forum].content\n",
    "        abstract = submission_content['abstract']\n",
    "\n",
    "        forum_metadata = {\n",
    "            'forum': forum,\n",
    "            'review_ratings': review_ratings,\n",
    "            'average_rating': average_rating,\n",
    "            'abstract': abstract,\n",
    "            'year': year,\n",
    "        }\n",
    "        metadata.append(forum_metadata)"
   ]
  },
  {
   "cell_type": "code",
   "execution_count": 234,
   "metadata": {},
   "outputs": [],
   "source": [
    "df = pd.DataFrame(metadata)"
   ]
  },
  {
   "cell_type": "code",
   "execution_count": 236,
   "metadata": {},
   "outputs": [
    {
     "data": {
      "text/html": [
       "<div>\n",
       "<style scoped>\n",
       "    .dataframe tbody tr th:only-of-type {\n",
       "        vertical-align: middle;\n",
       "    }\n",
       "\n",
       "    .dataframe tbody tr th {\n",
       "        vertical-align: top;\n",
       "    }\n",
       "\n",
       "    .dataframe thead th {\n",
       "        text-align: right;\n",
       "    }\n",
       "</style>\n",
       "<table border=\"1\" class=\"dataframe\">\n",
       "  <thead>\n",
       "    <tr style=\"text-align: right;\">\n",
       "      <th></th>\n",
       "      <th>forum</th>\n",
       "      <th>review_ratings</th>\n",
       "      <th>average_rating</th>\n",
       "      <th>abstract</th>\n",
       "      <th>year</th>\n",
       "    </tr>\n",
       "  </thead>\n",
       "  <tbody>\n",
       "    <tr>\n",
       "      <th>0</th>\n",
       "      <td>ryBnUWb0b</td>\n",
       "      <td>[7, 6, 6]</td>\n",
       "      <td>6.333333</td>\n",
       "      <td>In cities with tall buildings, emergency respo...</td>\n",
       "      <td>2018</td>\n",
       "    </tr>\n",
       "    <tr>\n",
       "      <th>1</th>\n",
       "      <td>Skk3Jm96W</td>\n",
       "      <td>[7, 4, 6]</td>\n",
       "      <td>5.666667</td>\n",
       "      <td>We consider the problem of exploration in meta...</td>\n",
       "      <td>2018</td>\n",
       "    </tr>\n",
       "    <tr>\n",
       "      <th>2</th>\n",
       "      <td>r1RQdCg0W</td>\n",
       "      <td>[6, 6, 6]</td>\n",
       "      <td>6.000000</td>\n",
       "      <td>We present Merged-Averaged Classifiers via Has...</td>\n",
       "      <td>2018</td>\n",
       "    </tr>\n",
       "    <tr>\n",
       "      <th>3</th>\n",
       "      <td>rJ3fy0k0Z</td>\n",
       "      <td>[6, 5, 5]</td>\n",
       "      <td>5.333333</td>\n",
       "      <td>The goal of imitation learning (IL) is to enab...</td>\n",
       "      <td>2018</td>\n",
       "    </tr>\n",
       "    <tr>\n",
       "      <th>4</th>\n",
       "      <td>SkBYYyZRZ</td>\n",
       "      <td>[5, 4, 7]</td>\n",
       "      <td>5.333333</td>\n",
       "      <td>The choice of activation functions in deep net...</td>\n",
       "      <td>2018</td>\n",
       "    </tr>\n",
       "    <tr>\n",
       "      <th>...</th>\n",
       "      <td>...</td>\n",
       "      <td>...</td>\n",
       "      <td>...</td>\n",
       "      <td>...</td>\n",
       "      <td>...</td>\n",
       "    </tr>\n",
       "    <tr>\n",
       "      <th>7133</th>\n",
       "      <td>Dh29CAlnMW</td>\n",
       "      <td>[4, 4, 6]</td>\n",
       "      <td>4.666667</td>\n",
       "      <td>The Automunge open source python library platf...</td>\n",
       "      <td>2021</td>\n",
       "    </tr>\n",
       "    <tr>\n",
       "      <th>7134</th>\n",
       "      <td>Ig-VyQc-MLK</td>\n",
       "      <td>[6, 7, 4, 9]</td>\n",
       "      <td>6.500000</td>\n",
       "      <td>Recent work has explored the possibility of pr...</td>\n",
       "      <td>2021</td>\n",
       "    </tr>\n",
       "    <tr>\n",
       "      <th>7135</th>\n",
       "      <td>EXkD6ZjvJQQ</td>\n",
       "      <td>[6, 6, 7]</td>\n",
       "      <td>6.333333</td>\n",
       "      <td>This paper investigates the finite-sample pred...</td>\n",
       "      <td>2021</td>\n",
       "    </tr>\n",
       "    <tr>\n",
       "      <th>7136</th>\n",
       "      <td>QjINdYOfq0b</td>\n",
       "      <td>[6, 4, 6]</td>\n",
       "      <td>5.333333</td>\n",
       "      <td>We present Automatic Bit Sharing (ABS) to auto...</td>\n",
       "      <td>2021</td>\n",
       "    </tr>\n",
       "    <tr>\n",
       "      <th>7137</th>\n",
       "      <td>POWv6hDd9XH</td>\n",
       "      <td>[7, 8, 6, 7]</td>\n",
       "      <td>7.000000</td>\n",
       "      <td>We study the challenging task of neural networ...</td>\n",
       "      <td>2021</td>\n",
       "    </tr>\n",
       "  </tbody>\n",
       "</table>\n",
       "<p>7138 rows × 5 columns</p>\n",
       "</div>"
      ],
      "text/plain": [
       "            forum review_ratings  average_rating  \\\n",
       "0       ryBnUWb0b      [7, 6, 6]        6.333333   \n",
       "1       Skk3Jm96W      [7, 4, 6]        5.666667   \n",
       "2       r1RQdCg0W      [6, 6, 6]        6.000000   \n",
       "3       rJ3fy0k0Z      [6, 5, 5]        5.333333   \n",
       "4       SkBYYyZRZ      [5, 4, 7]        5.333333   \n",
       "...           ...            ...             ...   \n",
       "7133   Dh29CAlnMW      [4, 4, 6]        4.666667   \n",
       "7134  Ig-VyQc-MLK   [6, 7, 4, 9]        6.500000   \n",
       "7135  EXkD6ZjvJQQ      [6, 6, 7]        6.333333   \n",
       "7136  QjINdYOfq0b      [6, 4, 6]        5.333333   \n",
       "7137  POWv6hDd9XH   [7, 8, 6, 7]        7.000000   \n",
       "\n",
       "                                               abstract  year  \n",
       "0     In cities with tall buildings, emergency respo...  2018  \n",
       "1     We consider the problem of exploration in meta...  2018  \n",
       "2     We present Merged-Averaged Classifiers via Has...  2018  \n",
       "3     The goal of imitation learning (IL) is to enab...  2018  \n",
       "4     The choice of activation functions in deep net...  2018  \n",
       "...                                                 ...   ...  \n",
       "7133  The Automunge open source python library platf...  2021  \n",
       "7134  Recent work has explored the possibility of pr...  2021  \n",
       "7135  This paper investigates the finite-sample pred...  2021  \n",
       "7136  We present Automatic Bit Sharing (ABS) to auto...  2021  \n",
       "7137  We study the challenging task of neural networ...  2021  \n",
       "\n",
       "[7138 rows x 5 columns]"
      ]
     },
     "execution_count": 236,
     "metadata": {},
     "output_type": "execute_result"
    }
   ],
   "source": [
    "df[df.average_rating >= 5].abstract.tolist()\n",
    "df[df.average_rating < 5].abstract.tolist()"
   ]
  },
  {
   "cell_type": "code",
   "execution_count": 246,
   "metadata": {},
   "outputs": [
    {
     "name": "stderr",
     "output_type": "stream",
     "text": [
      "/Users/peterzhang/opt/anaconda3/lib/python3.8/site-packages/pandas/util/_decorators.py:311: ParserWarning: Falling back to the 'python' engine because the 'c' engine does not support regex separators (separators > 1 char and different from '\\s+' are interpreted as regex); you can avoid this warning by specifying engine='python'.\n",
      "  return func(*args, **kwargs)\n"
     ]
    },
    {
     "ename": "ParserError",
     "evalue": "Expected 1 fields in line 6326, saw 3. Error could possibly be due to quotes being ignored when a multi-char delimiter is used.",
     "output_type": "error",
     "traceback": [
      "\u001b[0;31m---------------------------------------------------------------------------\u001b[0m",
      "\u001b[0;31mParserError\u001b[0m                               Traceback (most recent call last)",
      "\u001b[0;32m<ipython-input-246-539f34de590c>\u001b[0m in \u001b[0;36m<module>\u001b[0;34m\u001b[0m\n\u001b[0;32m----> 1\u001b[0;31m \u001b[0mpd\u001b[0m\u001b[0;34m.\u001b[0m\u001b[0mread_csv\u001b[0m\u001b[0;34m(\u001b[0m\u001b[0;34m'https://github.com/dbbrandt/short_answer_granding_capstone_project/blob/master/data/source_data/ShortAnswerGrading_v2.0/data/raw/all'\u001b[0m\u001b[0;34m,\u001b[0m\u001b[0msep\u001b[0m\u001b[0;34m=\u001b[0m\u001b[0;34m'1232'\u001b[0m\u001b[0;34m)\u001b[0m\u001b[0;34m\u001b[0m\u001b[0;34m\u001b[0m\u001b[0m\n\u001b[0m",
      "\u001b[0;32m~/opt/anaconda3/lib/python3.8/site-packages/pandas/util/_decorators.py\u001b[0m in \u001b[0;36mwrapper\u001b[0;34m(*args, **kwargs)\u001b[0m\n\u001b[1;32m    309\u001b[0m                     \u001b[0mstacklevel\u001b[0m\u001b[0;34m=\u001b[0m\u001b[0mstacklevel\u001b[0m\u001b[0;34m,\u001b[0m\u001b[0;34m\u001b[0m\u001b[0;34m\u001b[0m\u001b[0m\n\u001b[1;32m    310\u001b[0m                 )\n\u001b[0;32m--> 311\u001b[0;31m             \u001b[0;32mreturn\u001b[0m \u001b[0mfunc\u001b[0m\u001b[0;34m(\u001b[0m\u001b[0;34m*\u001b[0m\u001b[0margs\u001b[0m\u001b[0;34m,\u001b[0m \u001b[0;34m**\u001b[0m\u001b[0mkwargs\u001b[0m\u001b[0;34m)\u001b[0m\u001b[0;34m\u001b[0m\u001b[0;34m\u001b[0m\u001b[0m\n\u001b[0m\u001b[1;32m    312\u001b[0m \u001b[0;34m\u001b[0m\u001b[0m\n\u001b[1;32m    313\u001b[0m         \u001b[0;32mreturn\u001b[0m \u001b[0mwrapper\u001b[0m\u001b[0;34m\u001b[0m\u001b[0;34m\u001b[0m\u001b[0m\n",
      "\u001b[0;32m~/opt/anaconda3/lib/python3.8/site-packages/pandas/io/parsers/readers.py\u001b[0m in \u001b[0;36mread_csv\u001b[0;34m(filepath_or_buffer, sep, delimiter, header, names, index_col, usecols, squeeze, prefix, mangle_dupe_cols, dtype, engine, converters, true_values, false_values, skipinitialspace, skiprows, skipfooter, nrows, na_values, keep_default_na, na_filter, verbose, skip_blank_lines, parse_dates, infer_datetime_format, keep_date_col, date_parser, dayfirst, cache_dates, iterator, chunksize, compression, thousands, decimal, lineterminator, quotechar, quoting, doublequote, escapechar, comment, encoding, encoding_errors, dialect, error_bad_lines, warn_bad_lines, on_bad_lines, delim_whitespace, low_memory, memory_map, float_precision, storage_options)\u001b[0m\n\u001b[1;32m    584\u001b[0m     \u001b[0mkwds\u001b[0m\u001b[0;34m.\u001b[0m\u001b[0mupdate\u001b[0m\u001b[0;34m(\u001b[0m\u001b[0mkwds_defaults\u001b[0m\u001b[0;34m)\u001b[0m\u001b[0;34m\u001b[0m\u001b[0;34m\u001b[0m\u001b[0m\n\u001b[1;32m    585\u001b[0m \u001b[0;34m\u001b[0m\u001b[0m\n\u001b[0;32m--> 586\u001b[0;31m     \u001b[0;32mreturn\u001b[0m \u001b[0m_read\u001b[0m\u001b[0;34m(\u001b[0m\u001b[0mfilepath_or_buffer\u001b[0m\u001b[0;34m,\u001b[0m \u001b[0mkwds\u001b[0m\u001b[0;34m)\u001b[0m\u001b[0;34m\u001b[0m\u001b[0;34m\u001b[0m\u001b[0m\n\u001b[0m\u001b[1;32m    587\u001b[0m \u001b[0;34m\u001b[0m\u001b[0m\n\u001b[1;32m    588\u001b[0m \u001b[0;34m\u001b[0m\u001b[0m\n",
      "\u001b[0;32m~/opt/anaconda3/lib/python3.8/site-packages/pandas/io/parsers/readers.py\u001b[0m in \u001b[0;36m_read\u001b[0;34m(filepath_or_buffer, kwds)\u001b[0m\n\u001b[1;32m    486\u001b[0m \u001b[0;34m\u001b[0m\u001b[0m\n\u001b[1;32m    487\u001b[0m     \u001b[0;32mwith\u001b[0m \u001b[0mparser\u001b[0m\u001b[0;34m:\u001b[0m\u001b[0;34m\u001b[0m\u001b[0;34m\u001b[0m\u001b[0m\n\u001b[0;32m--> 488\u001b[0;31m         \u001b[0;32mreturn\u001b[0m \u001b[0mparser\u001b[0m\u001b[0;34m.\u001b[0m\u001b[0mread\u001b[0m\u001b[0;34m(\u001b[0m\u001b[0mnrows\u001b[0m\u001b[0;34m)\u001b[0m\u001b[0;34m\u001b[0m\u001b[0;34m\u001b[0m\u001b[0m\n\u001b[0m\u001b[1;32m    489\u001b[0m \u001b[0;34m\u001b[0m\u001b[0m\n\u001b[1;32m    490\u001b[0m \u001b[0;34m\u001b[0m\u001b[0m\n",
      "\u001b[0;32m~/opt/anaconda3/lib/python3.8/site-packages/pandas/io/parsers/readers.py\u001b[0m in \u001b[0;36mread\u001b[0;34m(self, nrows)\u001b[0m\n\u001b[1;32m   1045\u001b[0m     \u001b[0;32mdef\u001b[0m \u001b[0mread\u001b[0m\u001b[0;34m(\u001b[0m\u001b[0mself\u001b[0m\u001b[0;34m,\u001b[0m \u001b[0mnrows\u001b[0m\u001b[0;34m=\u001b[0m\u001b[0;32mNone\u001b[0m\u001b[0;34m)\u001b[0m\u001b[0;34m:\u001b[0m\u001b[0;34m\u001b[0m\u001b[0;34m\u001b[0m\u001b[0m\n\u001b[1;32m   1046\u001b[0m         \u001b[0mnrows\u001b[0m \u001b[0;34m=\u001b[0m \u001b[0mvalidate_integer\u001b[0m\u001b[0;34m(\u001b[0m\u001b[0;34m\"nrows\"\u001b[0m\u001b[0;34m,\u001b[0m \u001b[0mnrows\u001b[0m\u001b[0;34m)\u001b[0m\u001b[0;34m\u001b[0m\u001b[0;34m\u001b[0m\u001b[0m\n\u001b[0;32m-> 1047\u001b[0;31m         \u001b[0mindex\u001b[0m\u001b[0;34m,\u001b[0m \u001b[0mcolumns\u001b[0m\u001b[0;34m,\u001b[0m \u001b[0mcol_dict\u001b[0m \u001b[0;34m=\u001b[0m \u001b[0mself\u001b[0m\u001b[0;34m.\u001b[0m\u001b[0m_engine\u001b[0m\u001b[0;34m.\u001b[0m\u001b[0mread\u001b[0m\u001b[0;34m(\u001b[0m\u001b[0mnrows\u001b[0m\u001b[0;34m)\u001b[0m\u001b[0;34m\u001b[0m\u001b[0;34m\u001b[0m\u001b[0m\n\u001b[0m\u001b[1;32m   1048\u001b[0m \u001b[0;34m\u001b[0m\u001b[0m\n\u001b[1;32m   1049\u001b[0m         \u001b[0;32mif\u001b[0m \u001b[0mindex\u001b[0m \u001b[0;32mis\u001b[0m \u001b[0;32mNone\u001b[0m\u001b[0;34m:\u001b[0m\u001b[0;34m\u001b[0m\u001b[0;34m\u001b[0m\u001b[0m\n",
      "\u001b[0;32m~/opt/anaconda3/lib/python3.8/site-packages/pandas/io/parsers/python_parser.py\u001b[0m in \u001b[0;36mread\u001b[0;34m(self, rows)\u001b[0m\n\u001b[1;32m    276\u001b[0m             \u001b[0mcontent\u001b[0m \u001b[0;34m=\u001b[0m \u001b[0mcontent\u001b[0m\u001b[0;34m[\u001b[0m\u001b[0;36m1\u001b[0m\u001b[0;34m:\u001b[0m\u001b[0;34m]\u001b[0m\u001b[0;34m\u001b[0m\u001b[0;34m\u001b[0m\u001b[0m\n\u001b[1;32m    277\u001b[0m \u001b[0;34m\u001b[0m\u001b[0m\n\u001b[0;32m--> 278\u001b[0;31m         \u001b[0malldata\u001b[0m \u001b[0;34m=\u001b[0m \u001b[0mself\u001b[0m\u001b[0;34m.\u001b[0m\u001b[0m_rows_to_cols\u001b[0m\u001b[0;34m(\u001b[0m\u001b[0mcontent\u001b[0m\u001b[0;34m)\u001b[0m\u001b[0;34m\u001b[0m\u001b[0;34m\u001b[0m\u001b[0m\n\u001b[0m\u001b[1;32m    279\u001b[0m         \u001b[0mdata\u001b[0m\u001b[0;34m,\u001b[0m \u001b[0mcolumns\u001b[0m \u001b[0;34m=\u001b[0m \u001b[0mself\u001b[0m\u001b[0;34m.\u001b[0m\u001b[0m_exclude_implicit_index\u001b[0m\u001b[0;34m(\u001b[0m\u001b[0malldata\u001b[0m\u001b[0;34m)\u001b[0m\u001b[0;34m\u001b[0m\u001b[0;34m\u001b[0m\u001b[0m\n\u001b[1;32m    280\u001b[0m \u001b[0;34m\u001b[0m\u001b[0m\n",
      "\u001b[0;32m~/opt/anaconda3/lib/python3.8/site-packages/pandas/io/parsers/python_parser.py\u001b[0m in \u001b[0;36m_rows_to_cols\u001b[0;34m(self, content)\u001b[0m\n\u001b[1;32m    979\u001b[0m                     \u001b[0mmsg\u001b[0m \u001b[0;34m+=\u001b[0m \u001b[0;34m\". \"\u001b[0m \u001b[0;34m+\u001b[0m \u001b[0mreason\u001b[0m\u001b[0;34m\u001b[0m\u001b[0;34m\u001b[0m\u001b[0m\n\u001b[1;32m    980\u001b[0m \u001b[0;34m\u001b[0m\u001b[0m\n\u001b[0;32m--> 981\u001b[0;31m                 \u001b[0mself\u001b[0m\u001b[0;34m.\u001b[0m\u001b[0m_alert_malformed\u001b[0m\u001b[0;34m(\u001b[0m\u001b[0mmsg\u001b[0m\u001b[0;34m,\u001b[0m \u001b[0mrow_num\u001b[0m \u001b[0;34m+\u001b[0m \u001b[0;36m1\u001b[0m\u001b[0;34m)\u001b[0m\u001b[0;34m\u001b[0m\u001b[0;34m\u001b[0m\u001b[0m\n\u001b[0m\u001b[1;32m    982\u001b[0m \u001b[0;34m\u001b[0m\u001b[0m\n\u001b[1;32m    983\u001b[0m         \u001b[0;31m# see gh-13320\u001b[0m\u001b[0;34m\u001b[0m\u001b[0;34m\u001b[0m\u001b[0;34m\u001b[0m\u001b[0m\n",
      "\u001b[0;32m~/opt/anaconda3/lib/python3.8/site-packages/pandas/io/parsers/python_parser.py\u001b[0m in \u001b[0;36m_alert_malformed\u001b[0;34m(self, msg, row_num)\u001b[0m\n\u001b[1;32m    720\u001b[0m         \"\"\"\n\u001b[1;32m    721\u001b[0m         \u001b[0;32mif\u001b[0m \u001b[0mself\u001b[0m\u001b[0;34m.\u001b[0m\u001b[0mon_bad_lines\u001b[0m \u001b[0;34m==\u001b[0m \u001b[0mself\u001b[0m\u001b[0;34m.\u001b[0m\u001b[0mBadLineHandleMethod\u001b[0m\u001b[0;34m.\u001b[0m\u001b[0mERROR\u001b[0m\u001b[0;34m:\u001b[0m\u001b[0;34m\u001b[0m\u001b[0;34m\u001b[0m\u001b[0m\n\u001b[0;32m--> 722\u001b[0;31m             \u001b[0;32mraise\u001b[0m \u001b[0mParserError\u001b[0m\u001b[0;34m(\u001b[0m\u001b[0mmsg\u001b[0m\u001b[0;34m)\u001b[0m\u001b[0;34m\u001b[0m\u001b[0;34m\u001b[0m\u001b[0m\n\u001b[0m\u001b[1;32m    723\u001b[0m         \u001b[0;32melif\u001b[0m \u001b[0mself\u001b[0m\u001b[0;34m.\u001b[0m\u001b[0mon_bad_lines\u001b[0m \u001b[0;34m==\u001b[0m \u001b[0mself\u001b[0m\u001b[0;34m.\u001b[0m\u001b[0mBadLineHandleMethod\u001b[0m\u001b[0;34m.\u001b[0m\u001b[0mWARN\u001b[0m\u001b[0;34m:\u001b[0m\u001b[0;34m\u001b[0m\u001b[0;34m\u001b[0m\u001b[0m\n\u001b[1;32m    724\u001b[0m             \u001b[0mbase\u001b[0m \u001b[0;34m=\u001b[0m \u001b[0;34mf\"Skipping line {row_num}: \"\u001b[0m\u001b[0;34m\u001b[0m\u001b[0;34m\u001b[0m\u001b[0m\n",
      "\u001b[0;31mParserError\u001b[0m: Expected 1 fields in line 6326, saw 3. Error could possibly be due to quotes being ignored when a multi-char delimiter is used."
     ]
    }
   ],
   "source": [
    "pd.read_csv('https://github.com/dbbrandt/short_answer_granding_capstone_project/blob/master/data/source_data/ShortAnswerGrading_v2.0/data/raw/all',sep='1232')"
   ]
  },
  {
   "cell_type": "code",
   "execution_count": 252,
   "metadata": {},
   "outputs": [
    {
     "data": {
      "text/html": [
       "<div>\n",
       "<style scoped>\n",
       "    .dataframe tbody tr th:only-of-type {\n",
       "        vertical-align: middle;\n",
       "    }\n",
       "\n",
       "    .dataframe tbody tr th {\n",
       "        vertical-align: top;\n",
       "    }\n",
       "\n",
       "    .dataframe thead th {\n",
       "        text-align: right;\n",
       "    }\n",
       "</style>\n",
       "<table border=\"1\" class=\"dataframe\">\n",
       "  <thead>\n",
       "    <tr style=\"text-align: right;\">\n",
       "      <th></th>\n",
       "      <th>_unit_id</th>\n",
       "      <th>_golden</th>\n",
       "      <th>_unit_state</th>\n",
       "      <th>_trusted_judgments</th>\n",
       "      <th>_last_judgment_at</th>\n",
       "      <th>gender</th>\n",
       "      <th>gender:confidence</th>\n",
       "      <th>profile_yn</th>\n",
       "      <th>profile_yn:confidence</th>\n",
       "      <th>created</th>\n",
       "      <th>...</th>\n",
       "      <th>profileimage</th>\n",
       "      <th>retweet_count</th>\n",
       "      <th>sidebar_color</th>\n",
       "      <th>text</th>\n",
       "      <th>tweet_coord</th>\n",
       "      <th>tweet_count</th>\n",
       "      <th>tweet_created</th>\n",
       "      <th>tweet_id</th>\n",
       "      <th>tweet_location</th>\n",
       "      <th>user_timezone</th>\n",
       "    </tr>\n",
       "  </thead>\n",
       "  <tbody>\n",
       "    <tr>\n",
       "      <th>0</th>\n",
       "      <td>815719226</td>\n",
       "      <td>False</td>\n",
       "      <td>finalized</td>\n",
       "      <td>3</td>\n",
       "      <td>10/26/15 23:24</td>\n",
       "      <td>male</td>\n",
       "      <td>1.0000</td>\n",
       "      <td>yes</td>\n",
       "      <td>1.0</td>\n",
       "      <td>12/5/13 1:48</td>\n",
       "      <td>...</td>\n",
       "      <td>https://pbs.twimg.com/profile_images/414342229...</td>\n",
       "      <td>0</td>\n",
       "      <td>FFFFFF</td>\n",
       "      <td>Robbie E Responds To Critics After Win Against...</td>\n",
       "      <td>NaN</td>\n",
       "      <td>110964</td>\n",
       "      <td>10/26/15 12:40</td>\n",
       "      <td>6.587300e+17</td>\n",
       "      <td>main; @Kan1shk3</td>\n",
       "      <td>Chennai</td>\n",
       "    </tr>\n",
       "    <tr>\n",
       "      <th>1</th>\n",
       "      <td>815719227</td>\n",
       "      <td>False</td>\n",
       "      <td>finalized</td>\n",
       "      <td>3</td>\n",
       "      <td>10/26/15 23:30</td>\n",
       "      <td>male</td>\n",
       "      <td>1.0000</td>\n",
       "      <td>yes</td>\n",
       "      <td>1.0</td>\n",
       "      <td>10/1/12 13:51</td>\n",
       "      <td>...</td>\n",
       "      <td>https://pbs.twimg.com/profile_images/539604221...</td>\n",
       "      <td>0</td>\n",
       "      <td>C0DEED</td>\n",
       "      <td>ÛÏIt felt like they were my friends and I was...</td>\n",
       "      <td>NaN</td>\n",
       "      <td>7471</td>\n",
       "      <td>10/26/15 12:40</td>\n",
       "      <td>6.587300e+17</td>\n",
       "      <td>NaN</td>\n",
       "      <td>Eastern Time (US &amp; Canada)</td>\n",
       "    </tr>\n",
       "    <tr>\n",
       "      <th>2</th>\n",
       "      <td>815719228</td>\n",
       "      <td>False</td>\n",
       "      <td>finalized</td>\n",
       "      <td>3</td>\n",
       "      <td>10/26/15 23:33</td>\n",
       "      <td>male</td>\n",
       "      <td>0.6625</td>\n",
       "      <td>yes</td>\n",
       "      <td>1.0</td>\n",
       "      <td>11/28/14 11:30</td>\n",
       "      <td>...</td>\n",
       "      <td>https://pbs.twimg.com/profile_images/657330418...</td>\n",
       "      <td>1</td>\n",
       "      <td>C0DEED</td>\n",
       "      <td>i absolutely adore when louis starts the songs...</td>\n",
       "      <td>NaN</td>\n",
       "      <td>5617</td>\n",
       "      <td>10/26/15 12:40</td>\n",
       "      <td>6.587300e+17</td>\n",
       "      <td>clcncl</td>\n",
       "      <td>Belgrade</td>\n",
       "    </tr>\n",
       "    <tr>\n",
       "      <th>3</th>\n",
       "      <td>815719229</td>\n",
       "      <td>False</td>\n",
       "      <td>finalized</td>\n",
       "      <td>3</td>\n",
       "      <td>10/26/15 23:10</td>\n",
       "      <td>male</td>\n",
       "      <td>1.0000</td>\n",
       "      <td>yes</td>\n",
       "      <td>1.0</td>\n",
       "      <td>6/11/09 22:39</td>\n",
       "      <td>...</td>\n",
       "      <td>https://pbs.twimg.com/profile_images/259703936...</td>\n",
       "      <td>0</td>\n",
       "      <td>C0DEED</td>\n",
       "      <td>Hi @JordanSpieth - Looking at the url - do you...</td>\n",
       "      <td>NaN</td>\n",
       "      <td>1693</td>\n",
       "      <td>10/26/15 12:40</td>\n",
       "      <td>6.587300e+17</td>\n",
       "      <td>Palo Alto, CA</td>\n",
       "      <td>Pacific Time (US &amp; Canada)</td>\n",
       "    </tr>\n",
       "    <tr>\n",
       "      <th>4</th>\n",
       "      <td>815719230</td>\n",
       "      <td>False</td>\n",
       "      <td>finalized</td>\n",
       "      <td>3</td>\n",
       "      <td>10/27/15 1:15</td>\n",
       "      <td>female</td>\n",
       "      <td>1.0000</td>\n",
       "      <td>yes</td>\n",
       "      <td>1.0</td>\n",
       "      <td>4/16/14 13:23</td>\n",
       "      <td>...</td>\n",
       "      <td>https://pbs.twimg.com/profile_images/564094871...</td>\n",
       "      <td>0</td>\n",
       "      <td>0</td>\n",
       "      <td>Watching Neighbours on Sky+ catching up with t...</td>\n",
       "      <td>NaN</td>\n",
       "      <td>31462</td>\n",
       "      <td>10/26/15 12:40</td>\n",
       "      <td>6.587300e+17</td>\n",
       "      <td>NaN</td>\n",
       "      <td>NaN</td>\n",
       "    </tr>\n",
       "    <tr>\n",
       "      <th>...</th>\n",
       "      <td>...</td>\n",
       "      <td>...</td>\n",
       "      <td>...</td>\n",
       "      <td>...</td>\n",
       "      <td>...</td>\n",
       "      <td>...</td>\n",
       "      <td>...</td>\n",
       "      <td>...</td>\n",
       "      <td>...</td>\n",
       "      <td>...</td>\n",
       "      <td>...</td>\n",
       "      <td>...</td>\n",
       "      <td>...</td>\n",
       "      <td>...</td>\n",
       "      <td>...</td>\n",
       "      <td>...</td>\n",
       "      <td>...</td>\n",
       "      <td>...</td>\n",
       "      <td>...</td>\n",
       "      <td>...</td>\n",
       "      <td>...</td>\n",
       "    </tr>\n",
       "    <tr>\n",
       "      <th>20045</th>\n",
       "      <td>815757572</td>\n",
       "      <td>True</td>\n",
       "      <td>golden</td>\n",
       "      <td>259</td>\n",
       "      <td>NaN</td>\n",
       "      <td>female</td>\n",
       "      <td>1.0000</td>\n",
       "      <td>yes</td>\n",
       "      <td>1.0</td>\n",
       "      <td>8/5/15 21:16</td>\n",
       "      <td>...</td>\n",
       "      <td>https://pbs.twimg.com/profile_images/656793310...</td>\n",
       "      <td>0</td>\n",
       "      <td>C0DEED</td>\n",
       "      <td>@lookupondeath ...Fine, and I'll drink tea too...</td>\n",
       "      <td>NaN</td>\n",
       "      <td>783</td>\n",
       "      <td>10/26/15 13:20</td>\n",
       "      <td>6.587400e+17</td>\n",
       "      <td>Verona ªÁ</td>\n",
       "      <td>NaN</td>\n",
       "    </tr>\n",
       "    <tr>\n",
       "      <th>20046</th>\n",
       "      <td>815757681</td>\n",
       "      <td>True</td>\n",
       "      <td>golden</td>\n",
       "      <td>248</td>\n",
       "      <td>NaN</td>\n",
       "      <td>male</td>\n",
       "      <td>1.0000</td>\n",
       "      <td>yes</td>\n",
       "      <td>1.0</td>\n",
       "      <td>8/15/12 21:17</td>\n",
       "      <td>...</td>\n",
       "      <td>https://pbs.twimg.com/profile_images/639815429...</td>\n",
       "      <td>0</td>\n",
       "      <td>0</td>\n",
       "      <td>Greg Hardy you a good player and all but don't...</td>\n",
       "      <td>NaN</td>\n",
       "      <td>13523</td>\n",
       "      <td>10/26/15 12:40</td>\n",
       "      <td>6.587300e+17</td>\n",
       "      <td>Kansas City, MO</td>\n",
       "      <td>NaN</td>\n",
       "    </tr>\n",
       "    <tr>\n",
       "      <th>20047</th>\n",
       "      <td>815757830</td>\n",
       "      <td>True</td>\n",
       "      <td>golden</td>\n",
       "      <td>264</td>\n",
       "      <td>NaN</td>\n",
       "      <td>male</td>\n",
       "      <td>1.0000</td>\n",
       "      <td>yes</td>\n",
       "      <td>1.0</td>\n",
       "      <td>9/3/12 1:17</td>\n",
       "      <td>...</td>\n",
       "      <td>https://pbs.twimg.com/profile_images/655473271...</td>\n",
       "      <td>0</td>\n",
       "      <td>C0DEED</td>\n",
       "      <td>You can miss people and still never want to se...</td>\n",
       "      <td>NaN</td>\n",
       "      <td>26419</td>\n",
       "      <td>10/26/15 13:20</td>\n",
       "      <td>6.587400e+17</td>\n",
       "      <td>Lagos Nigeria</td>\n",
       "      <td>NaN</td>\n",
       "    </tr>\n",
       "    <tr>\n",
       "      <th>20048</th>\n",
       "      <td>815757921</td>\n",
       "      <td>True</td>\n",
       "      <td>golden</td>\n",
       "      <td>250</td>\n",
       "      <td>NaN</td>\n",
       "      <td>female</td>\n",
       "      <td>0.8489</td>\n",
       "      <td>yes</td>\n",
       "      <td>1.0</td>\n",
       "      <td>11/6/12 23:46</td>\n",
       "      <td>...</td>\n",
       "      <td>https://pbs.twimg.com/profile_images/657716093...</td>\n",
       "      <td>0</td>\n",
       "      <td>0</td>\n",
       "      <td>@bitemyapp i had noticed your tendency to pee ...</td>\n",
       "      <td>NaN</td>\n",
       "      <td>56073</td>\n",
       "      <td>10/26/15 12:40</td>\n",
       "      <td>6.587300e+17</td>\n",
       "      <td>Texas Hill Country</td>\n",
       "      <td>NaN</td>\n",
       "    </tr>\n",
       "    <tr>\n",
       "      <th>20049</th>\n",
       "      <td>815757985</td>\n",
       "      <td>True</td>\n",
       "      <td>golden</td>\n",
       "      <td>249</td>\n",
       "      <td>NaN</td>\n",
       "      <td>female</td>\n",
       "      <td>1.0000</td>\n",
       "      <td>yes</td>\n",
       "      <td>1.0</td>\n",
       "      <td>4/14/14 17:22</td>\n",
       "      <td>...</td>\n",
       "      <td>https://pbs.twimg.com/profile_images/655134724...</td>\n",
       "      <td>0</td>\n",
       "      <td>C0DEED</td>\n",
       "      <td>I think for my APUSH creative project I'm goin...</td>\n",
       "      <td>NaN</td>\n",
       "      <td>2922</td>\n",
       "      <td>10/26/15 13:19</td>\n",
       "      <td>6.587400e+17</td>\n",
       "      <td>NaN</td>\n",
       "      <td>NaN</td>\n",
       "    </tr>\n",
       "  </tbody>\n",
       "</table>\n",
       "<p>20050 rows × 26 columns</p>\n",
       "</div>"
      ],
      "text/plain": [
       "        _unit_id  _golden _unit_state  _trusted_judgments _last_judgment_at  \\\n",
       "0      815719226    False   finalized                   3    10/26/15 23:24   \n",
       "1      815719227    False   finalized                   3    10/26/15 23:30   \n",
       "2      815719228    False   finalized                   3    10/26/15 23:33   \n",
       "3      815719229    False   finalized                   3    10/26/15 23:10   \n",
       "4      815719230    False   finalized                   3     10/27/15 1:15   \n",
       "...          ...      ...         ...                 ...               ...   \n",
       "20045  815757572     True      golden                 259               NaN   \n",
       "20046  815757681     True      golden                 248               NaN   \n",
       "20047  815757830     True      golden                 264               NaN   \n",
       "20048  815757921     True      golden                 250               NaN   \n",
       "20049  815757985     True      golden                 249               NaN   \n",
       "\n",
       "       gender  gender:confidence profile_yn  profile_yn:confidence  \\\n",
       "0        male             1.0000        yes                    1.0   \n",
       "1        male             1.0000        yes                    1.0   \n",
       "2        male             0.6625        yes                    1.0   \n",
       "3        male             1.0000        yes                    1.0   \n",
       "4      female             1.0000        yes                    1.0   \n",
       "...       ...                ...        ...                    ...   \n",
       "20045  female             1.0000        yes                    1.0   \n",
       "20046    male             1.0000        yes                    1.0   \n",
       "20047    male             1.0000        yes                    1.0   \n",
       "20048  female             0.8489        yes                    1.0   \n",
       "20049  female             1.0000        yes                    1.0   \n",
       "\n",
       "              created  ...                                       profileimage  \\\n",
       "0        12/5/13 1:48  ...  https://pbs.twimg.com/profile_images/414342229...   \n",
       "1       10/1/12 13:51  ...  https://pbs.twimg.com/profile_images/539604221...   \n",
       "2      11/28/14 11:30  ...  https://pbs.twimg.com/profile_images/657330418...   \n",
       "3       6/11/09 22:39  ...  https://pbs.twimg.com/profile_images/259703936...   \n",
       "4       4/16/14 13:23  ...  https://pbs.twimg.com/profile_images/564094871...   \n",
       "...               ...  ...                                                ...   \n",
       "20045    8/5/15 21:16  ...  https://pbs.twimg.com/profile_images/656793310...   \n",
       "20046   8/15/12 21:17  ...  https://pbs.twimg.com/profile_images/639815429...   \n",
       "20047     9/3/12 1:17  ...  https://pbs.twimg.com/profile_images/655473271...   \n",
       "20048   11/6/12 23:46  ...  https://pbs.twimg.com/profile_images/657716093...   \n",
       "20049   4/14/14 17:22  ...  https://pbs.twimg.com/profile_images/655134724...   \n",
       "\n",
       "       retweet_count sidebar_color  \\\n",
       "0                  0        FFFFFF   \n",
       "1                  0        C0DEED   \n",
       "2                  1        C0DEED   \n",
       "3                  0        C0DEED   \n",
       "4                  0             0   \n",
       "...              ...           ...   \n",
       "20045              0        C0DEED   \n",
       "20046              0             0   \n",
       "20047              0        C0DEED   \n",
       "20048              0             0   \n",
       "20049              0        C0DEED   \n",
       "\n",
       "                                                    text tweet_coord  \\\n",
       "0      Robbie E Responds To Critics After Win Against...         NaN   \n",
       "1      ÛÏIt felt like they were my friends and I was...         NaN   \n",
       "2      i absolutely adore when louis starts the songs...         NaN   \n",
       "3      Hi @JordanSpieth - Looking at the url - do you...         NaN   \n",
       "4      Watching Neighbours on Sky+ catching up with t...         NaN   \n",
       "...                                                  ...         ...   \n",
       "20045  @lookupondeath ...Fine, and I'll drink tea too...         NaN   \n",
       "20046  Greg Hardy you a good player and all but don't...         NaN   \n",
       "20047  You can miss people and still never want to se...         NaN   \n",
       "20048  @bitemyapp i had noticed your tendency to pee ...         NaN   \n",
       "20049  I think for my APUSH creative project I'm goin...         NaN   \n",
       "\n",
       "      tweet_count   tweet_created      tweet_id      tweet_location  \\\n",
       "0          110964  10/26/15 12:40  6.587300e+17     main; @Kan1shk3   \n",
       "1            7471  10/26/15 12:40  6.587300e+17                 NaN   \n",
       "2            5617  10/26/15 12:40  6.587300e+17              clcncl   \n",
       "3            1693  10/26/15 12:40  6.587300e+17       Palo Alto, CA   \n",
       "4           31462  10/26/15 12:40  6.587300e+17                 NaN   \n",
       "...           ...             ...           ...                 ...   \n",
       "20045         783  10/26/15 13:20  6.587400e+17          Verona ªÁ   \n",
       "20046       13523  10/26/15 12:40  6.587300e+17     Kansas City, MO   \n",
       "20047       26419  10/26/15 13:20  6.587400e+17      Lagos Nigeria    \n",
       "20048       56073  10/26/15 12:40  6.587300e+17  Texas Hill Country   \n",
       "20049        2922  10/26/15 13:19  6.587400e+17                 NaN   \n",
       "\n",
       "                    user_timezone  \n",
       "0                         Chennai  \n",
       "1      Eastern Time (US & Canada)  \n",
       "2                        Belgrade  \n",
       "3      Pacific Time (US & Canada)  \n",
       "4                             NaN  \n",
       "...                           ...  \n",
       "20045                         NaN  \n",
       "20046                         NaN  \n",
       "20047                         NaN  \n",
       "20048                         NaN  \n",
       "20049                         NaN  \n",
       "\n",
       "[20050 rows x 26 columns]"
      ]
     },
     "execution_count": 252,
     "metadata": {},
     "output_type": "execute_result"
    }
   ],
   "source": []
  },
  {
   "cell_type": "code",
   "execution_count": 254,
   "metadata": {},
   "outputs": [
    {
     "name": "stdout",
     "output_type": "stream",
     "text": [
      "Collecting pyreadr\n",
      "  Downloading pyreadr-0.4.4-cp38-cp38-macosx_10_9_x86_64.whl (250 kB)\n",
      "\u001b[K     |████████████████████████████████| 250 kB 3.0 MB/s eta 0:00:01\n",
      "\u001b[?25hRequirement already satisfied: pandas>=1.2.0 in /Users/peterzhang/opt/anaconda3/lib/python3.8/site-packages (from pyreadr) (1.3.4)\n",
      "Requirement already satisfied: python-dateutil>=2.7.3 in /Users/peterzhang/opt/anaconda3/lib/python3.8/site-packages (from pandas>=1.2.0->pyreadr) (2.8.2)\n",
      "Requirement already satisfied: numpy>=1.17.3 in /Users/peterzhang/opt/anaconda3/lib/python3.8/site-packages (from pandas>=1.2.0->pyreadr) (1.21.3)\n",
      "Requirement already satisfied: pytz>=2017.3 in /Users/peterzhang/opt/anaconda3/lib/python3.8/site-packages (from pandas>=1.2.0->pyreadr) (2021.3)\n",
      "Requirement already satisfied: six>=1.5 in /Users/peterzhang/opt/anaconda3/lib/python3.8/site-packages (from python-dateutil>=2.7.3->pandas>=1.2.0->pyreadr) (1.16.0)\n",
      "Installing collected packages: pyreadr\n",
      "Successfully installed pyreadr-0.4.4\n"
     ]
    }
   ],
   "source": [
    "!pip install pyreadr"
   ]
  },
  {
   "cell_type": "code",
   "execution_count": 255,
   "metadata": {},
   "outputs": [],
   "source": [
    "import pyreadr"
   ]
  },
  {
   "cell_type": "code",
   "execution_count": 258,
   "metadata": {},
   "outputs": [
    {
     "ename": "LibrdataError",
     "evalue": "Invalid file, or file has unsupported features",
     "output_type": "error",
     "traceback": [
      "\u001b[0;31m---------------------------------------------------------------------------\u001b[0m",
      "\u001b[0;31mLibrdataError\u001b[0m                             Traceback (most recent call last)",
      "\u001b[0;32m<ipython-input-258-c6756a785e39>\u001b[0m in \u001b[0;36m<module>\u001b[0;34m\u001b[0m\n\u001b[0;32m----> 1\u001b[0;31m \u001b[0mresult\u001b[0m \u001b[0;34m=\u001b[0m \u001b[0mpyreadr\u001b[0m\u001b[0;34m.\u001b[0m\u001b[0mread_r\u001b[0m\u001b[0;34m(\u001b[0m\u001b[0;34m'corpus_nytimes_summary.Rds'\u001b[0m\u001b[0;34m)\u001b[0m\u001b[0;34m\u001b[0m\u001b[0;34m\u001b[0m\u001b[0m\n\u001b[0m",
      "\u001b[0;32m~/opt/anaconda3/lib/python3.8/site-packages/pyreadr/pyreadr.py\u001b[0m in \u001b[0;36mread_r\u001b[0;34m(path, use_objects, timezone)\u001b[0m\n\u001b[1;32m     64\u001b[0m     \u001b[0;32mif\u001b[0m \u001b[0;32mnot\u001b[0m \u001b[0mos\u001b[0m\u001b[0;34m.\u001b[0m\u001b[0mpath\u001b[0m\u001b[0;34m.\u001b[0m\u001b[0misfile\u001b[0m\u001b[0;34m(\u001b[0m\u001b[0mfilename_bytes\u001b[0m\u001b[0;34m)\u001b[0m\u001b[0;34m:\u001b[0m\u001b[0;34m\u001b[0m\u001b[0;34m\u001b[0m\u001b[0m\n\u001b[1;32m     65\u001b[0m         \u001b[0;32mraise\u001b[0m \u001b[0mPyreadrError\u001b[0m\u001b[0;34m(\u001b[0m\u001b[0;34m\"File {0} does not exist!\"\u001b[0m\u001b[0;34m.\u001b[0m\u001b[0mformat\u001b[0m\u001b[0;34m(\u001b[0m\u001b[0mfilename_bytes\u001b[0m\u001b[0;34m)\u001b[0m\u001b[0;34m)\u001b[0m\u001b[0;34m\u001b[0m\u001b[0;34m\u001b[0m\u001b[0m\n\u001b[0;32m---> 66\u001b[0;31m     \u001b[0mparser\u001b[0m\u001b[0;34m.\u001b[0m\u001b[0mparse\u001b[0m\u001b[0;34m(\u001b[0m\u001b[0mfilename_bytes\u001b[0m\u001b[0;34m)\u001b[0m\u001b[0;34m\u001b[0m\u001b[0;34m\u001b[0m\u001b[0m\n\u001b[0m\u001b[1;32m     67\u001b[0m \u001b[0;34m\u001b[0m\u001b[0m\n\u001b[1;32m     68\u001b[0m     \u001b[0mresult\u001b[0m \u001b[0;34m=\u001b[0m \u001b[0mOrderedDict\u001b[0m\u001b[0;34m(\u001b[0m\u001b[0;34m)\u001b[0m\u001b[0;34m\u001b[0m\u001b[0;34m\u001b[0m\u001b[0m\n",
      "\u001b[0;32m~/opt/anaconda3/lib/python3.8/site-packages/pyreadr/librdata.pyx\u001b[0m in \u001b[0;36mpyreadr.librdata.Parser.parse\u001b[0;34m()\u001b[0m\n",
      "\u001b[0;32m~/opt/anaconda3/lib/python3.8/site-packages/pyreadr/librdata.pyx\u001b[0m in \u001b[0;36mpyreadr.librdata.Parser.parse\u001b[0;34m()\u001b[0m\n",
      "\u001b[0;31mLibrdataError\u001b[0m: Invalid file, or file has unsupported features"
     ]
    }
   ],
   "source": [
    "result = pyreadr.read_r('corpus_nytimes_summary.Rds')"
   ]
  },
  {
   "cell_type": "code",
   "execution_count": 292,
   "metadata": {},
   "outputs": [],
   "source": [
    "files = glob.glob('../manual/BarnumLoNPTReplication/data/docs_by_committee/**/*.txt')\n",
    "docs = []\n",
    "for file in files:\n",
    "    year = re.findall('\\d\\d\\d\\d', file)[0]\n",
    "    with open(file, 'r', encoding='latin1') as f:\n",
    "        text = \" \".join(f.readlines())\n",
    "    doc = {\n",
    "        'year':int(year),\n",
    "        'text':text\n",
    "    }\n",
    "    docs.append(doc)"
   ]
  },
  {
   "cell_type": "code",
   "execution_count": 293,
   "metadata": {},
   "outputs": [],
   "source": []
  },
  {
   "cell_type": "code",
   "execution_count": null,
   "metadata": {},
   "outputs": [],
   "source": [
    "data = {\n",
    "    'pre_2008':pre_2008,\n",
    "    'btw_2008_2012':btw_2008_2012,\n",
    "    'post_2012':post_2012,\n",
    "}"
   ]
  },
  {
   "cell_type": "code",
   "execution_count": 3,
   "metadata": {},
   "outputs": [],
   "source": [
    "df = pd.read_excel('https://zenodo.org/record/2563864/files/DATASET_R1.xlsx')"
   ]
  },
  {
   "cell_type": "code",
   "execution_count": 18,
   "metadata": {},
   "outputs": [],
   "source": [
    "id_of_tweet = df['Tweet ID'].astype(int)[0]"
   ]
  },
  {
   "cell_type": "code",
   "execution_count": 19,
   "metadata": {},
   "outputs": [
    {
     "data": {
      "text/plain": [
       "941695012122910720"
      ]
     },
     "execution_count": 19,
     "metadata": {},
     "output_type": "execute_result"
    }
   ],
   "source": [
    "id_of_tweet"
   ]
  },
  {
   "cell_type": "code",
   "execution_count": 8,
   "metadata": {},
   "outputs": [],
   "source": [
    "import tweepy"
   ]
  },
  {
   "cell_type": "code",
   "execution_count": 9,
   "metadata": {},
   "outputs": [],
   "source": [
    "CONSUMER_KEY = \"jemyT8R4iNSnxfTzQle3yhKoR\"\n",
    "CONSUMER_SECRET = \"I0UbgO3A3hRIyGiuwZqewwwKJ0wGTd6at3DN7UB8qJkjbD7518\"\n",
    "OAUTH_TOKEN = \"721879494508879873-ClWBh6Jf4mrS0L1iWFgddFYfVgQXpTX\"\n",
    "OAUTH_TOKEN_SECRET = \"DF8E3AGsQeArrSpdQUTh4auGM6ti9Knq9hR3xtrN2e5JZ\""
   ]
  },
  {
   "cell_type": "code",
   "execution_count": 20,
   "metadata": {},
   "outputs": [],
   "source": [
    "auth = tweepy.OAuthHandler(CONSUMER_KEY, CONSUMER_SECRET)\n",
    "auth.set_access_token(OAUTH_TOKEN, OAUTH_TOKEN_SECRET)\n",
    "api = tweepy.API(auth, wait_on_rate_limit=True)"
   ]
  },
  {
   "cell_type": "code",
   "execution_count": 50,
   "metadata": {},
   "outputs": [],
   "source": [
    "def get_tweet_info(row):\n",
    "    id_of_tweet = int(row['Tweet ID'])\n",
    "    try:\n",
    "        tweet = api.get_status(id_of_tweet)\n",
    "        row['text'] = tweet.text\n",
    "        row['dt'] = tweet.created_at\n",
    "    except:\n",
    "        row['text'] = None\n",
    "        row['dt'] = None\n",
    "    return row"
   ]
  },
  {
   "cell_type": "code",
   "execution_count": 59,
   "metadata": {},
   "outputs": [],
   "source": [
    "my_df = df.iloc[0:20].apply(get_tweet_info, axis=1)"
   ]
  },
  {
   "cell_type": "code",
   "execution_count": 63,
   "metadata": {},
   "outputs": [],
   "source": [
    "my_df = my_df.dropna(axis=0)\n",
    "my_df['stage'] = pd.qcut(my_df['dt'], 3, labels=['early', 'mid', 'late'])"
   ]
  },
  {
   "cell_type": "code",
   "execution_count": 64,
   "metadata": {},
   "outputs": [
    {
     "data": {
      "text/html": [
       "<div>\n",
       "<style scoped>\n",
       "    .dataframe tbody tr th:only-of-type {\n",
       "        vertical-align: middle;\n",
       "    }\n",
       "\n",
       "    .dataframe tbody tr th {\n",
       "        vertical-align: top;\n",
       "    }\n",
       "\n",
       "    .dataframe thead th {\n",
       "        text-align: right;\n",
       "    }\n",
       "</style>\n",
       "<table border=\"1\" class=\"dataframe\">\n",
       "  <thead>\n",
       "    <tr style=\"text-align: right;\">\n",
       "      <th></th>\n",
       "      <th>ID</th>\n",
       "      <th>Description</th>\n",
       "      <th>#Tweets</th>\n",
       "      <th>Date_time_creation_account</th>\n",
       "      <th>Language</th>\n",
       "      <th>#Followers</th>\n",
       "      <th>#Friends</th>\n",
       "      <th>Date&amp;Time</th>\n",
       "      <th>#Favorite</th>\n",
       "      <th>#Retweet</th>\n",
       "      <th>...</th>\n",
       "      <th>Source</th>\n",
       "      <th>Tweet ID</th>\n",
       "      <th>Retweet ID</th>\n",
       "      <th>Quote ID</th>\n",
       "      <th>Reply ID</th>\n",
       "      <th>Frequency of tweet occurrences</th>\n",
       "      <th>State of Tweet</th>\n",
       "      <th>text</th>\n",
       "      <th>dt</th>\n",
       "      <th>stage</th>\n",
       "    </tr>\n",
       "  </thead>\n",
       "  <tbody>\n",
       "    <tr>\n",
       "      <th>0</th>\n",
       "      <td>2752994783</td>\n",
       "      <td>// Kirby// they/them // 20 // ENG: ok // FR: ok</td>\n",
       "      <td>2822</td>\n",
       "      <td>2014 , Aug , 28 , 01:49:22</td>\n",
       "      <td>en</td>\n",
       "      <td>34</td>\n",
       "      <td>68</td>\n",
       "      <td>['2017', 'Dec', '15', '15:42:41']</td>\n",
       "      <td>0</td>\n",
       "      <td>250</td>\n",
       "      <td>...</td>\n",
       "      <td>iPhone</td>\n",
       "      <td>9.416950e+17</td>\n",
       "      <td>940977667104477185</td>\n",
       "      <td>Not a quote</td>\n",
       "      <td>None</td>\n",
       "      <td>213.0</td>\n",
       "      <td>r</td>\n",
       "      <td>RT @dallasgoldtooth: This change is a long tim...</td>\n",
       "      <td>2017-12-15 15:42:41+00:00</td>\n",
       "      <td>late</td>\n",
       "    </tr>\n",
       "    <tr>\n",
       "      <th>1</th>\n",
       "      <td>21571977</td>\n",
       "      <td>Follow us for the latest headlines across the ...</td>\n",
       "      <td>3085</td>\n",
       "      <td>2009 , Feb , 22 , 15:32:48</td>\n",
       "      <td>en</td>\n",
       "      <td>21083</td>\n",
       "      <td>31</td>\n",
       "      <td>['2017', 'Dec', '15', '15:37:51']</td>\n",
       "      <td>0</td>\n",
       "      <td>0</td>\n",
       "      <td>...</td>\n",
       "      <td>iPhone</td>\n",
       "      <td>9.416938e+17</td>\n",
       "      <td>Not a Retweet</td>\n",
       "      <td>Not a quote</td>\n",
       "      <td>None</td>\n",
       "      <td>1</td>\n",
       "      <td>n</td>\n",
       "      <td>https://t.co/PpQEhxlDHI</td>\n",
       "      <td>2017-12-15 15:37:51+00:00</td>\n",
       "      <td>late</td>\n",
       "    </tr>\n",
       "    <tr>\n",
       "      <th>7</th>\n",
       "      <td>619982723</td>\n",
       "      <td>Human. Woman. Mother. Wife. Reader. Learner. T...</td>\n",
       "      <td>6731</td>\n",
       "      <td>2012 , Jun , 27 , 13:15:08</td>\n",
       "      <td>en</td>\n",
       "      <td>166</td>\n",
       "      <td>954</td>\n",
       "      <td>['2017', 'Dec', '15', '15:30:28']</td>\n",
       "      <td>0</td>\n",
       "      <td>0</td>\n",
       "      <td>...</td>\n",
       "      <td>Buffer</td>\n",
       "      <td>9.416919e+17</td>\n",
       "      <td>Not a Retweet</td>\n",
       "      <td>Not a quote</td>\n",
       "      <td>None</td>\n",
       "      <td>1</td>\n",
       "      <td>n</td>\n",
       "      <td>How is your critical reading? Go Washington Re...</td>\n",
       "      <td>2017-12-15 15:30:28+00:00</td>\n",
       "      <td>mid</td>\n",
       "    </tr>\n",
       "    <tr>\n",
       "      <th>11</th>\n",
       "      <td>558033035</td>\n",
       "      <td>Just came out of my cave</td>\n",
       "      <td>746</td>\n",
       "      <td>2012 , Apr , 19 , 20:32:01</td>\n",
       "      <td>en</td>\n",
       "      <td>20</td>\n",
       "      <td>91</td>\n",
       "      <td>['2017', 'Dec', '15', '15:18:46']</td>\n",
       "      <td>0</td>\n",
       "      <td>129</td>\n",
       "      <td>...</td>\n",
       "      <td>Android</td>\n",
       "      <td>9.416890e+17</td>\n",
       "      <td>941045215246340101</td>\n",
       "      <td>Not a quote</td>\n",
       "      <td>None</td>\n",
       "      <td>118.0</td>\n",
       "      <td>a</td>\n",
       "      <td>RT @BuzzFeed: This Native American group just ...</td>\n",
       "      <td>2017-12-15 15:18:46+00:00</td>\n",
       "      <td>mid</td>\n",
       "    </tr>\n",
       "    <tr>\n",
       "      <th>14</th>\n",
       "      <td>461170162</td>\n",
       "      <td>Hockeymålvakt som tittar trav.</td>\n",
       "      <td>938</td>\n",
       "      <td>2012 , Jan , 11 , 14:39:02</td>\n",
       "      <td>sv</td>\n",
       "      <td>3591</td>\n",
       "      <td>73</td>\n",
       "      <td>['2017', 'Dec', '15', '15:17:38']</td>\n",
       "      <td>0</td>\n",
       "      <td>5</td>\n",
       "      <td>...</td>\n",
       "      <td>iPhone</td>\n",
       "      <td>9.416887e+17</td>\n",
       "      <td>941685825338773505</td>\n",
       "      <td>Not a quote</td>\n",
       "      <td>None</td>\n",
       "      <td>4.0</td>\n",
       "      <td>n</td>\n",
       "      <td>RT @Malmo_Redhawks: Barn är inte till salu! Ma...</td>\n",
       "      <td>2017-12-15 15:17:38+00:00</td>\n",
       "      <td>early</td>\n",
       "    </tr>\n",
       "    <tr>\n",
       "      <th>19</th>\n",
       "      <td>625647957</td>\n",
       "      <td>00:a. Skribent på @SigneratNilsson och reporte...</td>\n",
       "      <td>13187</td>\n",
       "      <td>2012 , Jul , 03 , 13:46:15</td>\n",
       "      <td>sv</td>\n",
       "      <td>126</td>\n",
       "      <td>627</td>\n",
       "      <td>['2017', 'Dec', '15', '15:08:32']</td>\n",
       "      <td>0</td>\n",
       "      <td>5</td>\n",
       "      <td>...</td>\n",
       "      <td>Client</td>\n",
       "      <td>9.416864e+17</td>\n",
       "      <td>941685825338773505</td>\n",
       "      <td>Not a quote</td>\n",
       "      <td>None</td>\n",
       "      <td>4.0</td>\n",
       "      <td>n</td>\n",
       "      <td>RT @Malmo_Redhawks: Barn är inte till salu! Ma...</td>\n",
       "      <td>2017-12-15 15:08:32+00:00</td>\n",
       "      <td>early</td>\n",
       "    </tr>\n",
       "  </tbody>\n",
       "</table>\n",
       "<p>6 rows × 21 columns</p>\n",
       "</div>"
      ],
      "text/plain": [
       "            ID                                        Description  #Tweets  \\\n",
       "0   2752994783    // Kirby// they/them // 20 // ENG: ok // FR: ok     2822   \n",
       "1     21571977  Follow us for the latest headlines across the ...     3085   \n",
       "7    619982723  Human. Woman. Mother. Wife. Reader. Learner. T...     6731   \n",
       "11   558033035                           Just came out of my cave      746   \n",
       "14   461170162                     Hockeymålvakt som tittar trav.      938   \n",
       "19   625647957  00:a. Skribent på @SigneratNilsson och reporte...    13187   \n",
       "\n",
       "    Date_time_creation_account Language  #Followers  #Friends  \\\n",
       "0   2014 , Aug , 28 , 01:49:22       en          34        68   \n",
       "1   2009 , Feb , 22 , 15:32:48       en       21083        31   \n",
       "7   2012 , Jun , 27 , 13:15:08       en         166       954   \n",
       "11  2012 , Apr , 19 , 20:32:01       en          20        91   \n",
       "14  2012 , Jan , 11 , 14:39:02       sv        3591        73   \n",
       "19  2012 , Jul , 03 , 13:46:15       sv         126       627   \n",
       "\n",
       "                            Date&Time  #Favorite  #Retweet  ...   Source  \\\n",
       "0   ['2017', 'Dec', '15', '15:42:41']          0       250  ...   iPhone   \n",
       "1   ['2017', 'Dec', '15', '15:37:51']          0         0  ...   iPhone   \n",
       "7   ['2017', 'Dec', '15', '15:30:28']          0         0  ...   Buffer   \n",
       "11  ['2017', 'Dec', '15', '15:18:46']          0       129  ...  Android   \n",
       "14  ['2017', 'Dec', '15', '15:17:38']          0         5  ...   iPhone   \n",
       "19  ['2017', 'Dec', '15', '15:08:32']          0         5  ...   Client   \n",
       "\n",
       "        Tweet ID          Retweet ID     Quote ID Reply ID  \\\n",
       "0   9.416950e+17  940977667104477185  Not a quote     None   \n",
       "1   9.416938e+17       Not a Retweet  Not a quote     None   \n",
       "7   9.416919e+17       Not a Retweet  Not a quote     None   \n",
       "11  9.416890e+17  941045215246340101  Not a quote     None   \n",
       "14  9.416887e+17  941685825338773505  Not a quote     None   \n",
       "19  9.416864e+17  941685825338773505  Not a quote     None   \n",
       "\n",
       "   Frequency of tweet occurrences State of Tweet  \\\n",
       "0                           213.0              r   \n",
       "1                               1              n   \n",
       "7                               1              n   \n",
       "11                          118.0              a   \n",
       "14                            4.0              n   \n",
       "19                            4.0              n   \n",
       "\n",
       "                                                 text  \\\n",
       "0   RT @dallasgoldtooth: This change is a long tim...   \n",
       "1                             https://t.co/PpQEhxlDHI   \n",
       "7   How is your critical reading? Go Washington Re...   \n",
       "11  RT @BuzzFeed: This Native American group just ...   \n",
       "14  RT @Malmo_Redhawks: Barn är inte till salu! Ma...   \n",
       "19  RT @Malmo_Redhawks: Barn är inte till salu! Ma...   \n",
       "\n",
       "                          dt  stage  \n",
       "0  2017-12-15 15:42:41+00:00   late  \n",
       "1  2017-12-15 15:37:51+00:00   late  \n",
       "7  2017-12-15 15:30:28+00:00    mid  \n",
       "11 2017-12-15 15:18:46+00:00    mid  \n",
       "14 2017-12-15 15:17:38+00:00  early  \n",
       "19 2017-12-15 15:08:32+00:00  early  \n",
       "\n",
       "[6 rows x 21 columns]"
      ]
     },
     "execution_count": 64,
     "metadata": {},
     "output_type": "execute_result"
    }
   ],
   "source": [
    "my_df"
   ]
  },
  {
   "cell_type": "markdown",
   "metadata": {},
   "source": [
    "Questions:\n",
    "- Differences between QA engineer and software engineer\n",
    "- Differences between software engineer and software deveoloper\n",
    "- difference between office amanger and project manager\n",
    "- Change in job descriptions across time\n",
    "- Changes in requirements across time\n",
    "- Application"
   ]
  },
  {
   "cell_type": "code",
   "execution_count": 35,
   "metadata": {},
   "outputs": [],
   "source": [
    "df = pd.read_csv()\n",
    "\n",
    "data = {}\n",
    "\n",
    "jobs = {\n",
    "    'sw_dev':'Software Developer',\n",
    "    'senior_sw_dev':'Senior Software Developer',\n",
    "    'qa_eng':'QA Engineer',\n",
    "    'senior_qa_eng':'Senior QA Engineer',\n",
    "    'sw_eng':'Software Engineer',\n",
    "    'senior_sw_eng':'Senior Software Engineer',\n",
    "    'java_dev':'Java Developer',\n",
    "    'senior_java_dev':'Senior Java Developer',\n",
    "    'prgmr':'programmer',\n",
    "}\n",
    "\n",
    "for name, title in jobs.items():\n",
    "    descriptions = df[df.Title == title]['JobDescription'].dropna().tolist()\n",
    "    requirements =  df[df.Title == title]['JobRequirment'].dropna().tolist()\n",
    "    data[f'job_desc_{name}'] = descriptions\n",
    "    data[f'job_req_{name}'] = requirements\n",
    "\n",
    "year_bins = [(2004, 2007), (2007, 2010), (2010, 2013), (2013, 2015)]\n",
    "for start_year, end_year in year_bins:\n",
    "    requirements = df[(start_year <= df.Year) & (df.Year < end_year)]['JobRequirment'].dropna().tolist()\n",
    "    app_process = df[(start_year <= df.Year) & (df.Year < end_year)]['ApplicationP'].dropna().tolist()\n",
    "    data[f'job_req_years_{start_year}_{end_year}'] = requirements\n",
    "    data[f'app_process_years_{start_year}_{end_year}'] = app_process"
   ]
  },
  {
   "cell_type": "code",
   "execution_count": 62,
   "metadata": {},
   "outputs": [],
   "source": [
    "df = pd.read_csv('../manual/Dice_US_jobs.csv', encoding='latin-1')\n",
    "orgs = {\n",
    "    'northup_grumman':'NORTHROP GRUMMAN',\n",
    "    'leidos':'Leidos',\n",
    "    'dell':'Dell',\n",
    "    'delloite':'Delloite',\n",
    "    'amazon':'Amazon',\n",
    "    'jpm':'JPMorgan Chase'\n",
    "}\n",
    "data = {}\n",
    "for name, org in orgs.items():\n",
    "    descriptions = df[df.organization == org].job_description.dropna().tolist()\n",
    "    data[name] = descriptions"
   ]
  },
  {
   "cell_type": "code",
   "execution_count": 63,
   "metadata": {},
   "outputs": [
    {
     "data": {
      "text/plain": [
       "['If you are excited by the opportunity to design highly scalable and performant solutions for innovative search and discovery, real time syndication of cross-WAN content, local buying experience, integrated social networking based recommendations, mobile applications and more, this may be the right career move for you. Be part of an innovative and passionate team, responsible for building a successful, sustainable and strategic international business for Amazon, from the ground up. Job functions: åÊ As a Software engineer on the team:  - You will own end to end implementation of large customer facing products, starting from design through implementation.  - You will participate in designing and implementing key functional areas of the customer experience, including website applications and platform services.  - You will own designing and building functional components, including code reviews, testing, deployment and post-launch monitoring  - You will work extensively with cross-functional teams across Amazons website, ecommerce and merchant technologies platform on the design and development of core platform functionality  - You will work with the business team and project managers to convert functional requirements into detailed technical specifications.  - You will work with engineers both onsite and offsite to define technical tasks and build detailed implementation plans.  - You will own operating our products, driving excellence in feature stability, performance and flexibility. Basic Qualifications  - An advanced degree in Computer Science, Math of related field, with 3+ years of relevant experience.  - Programming experience in Java / C++ (or equivalent OO language)  - Experience building and operating high-performance, highly-available and scalable distributed systems  - Self-directed and capable of working effectively in a dynamic environment. Preferred Qualifications  * Experience building complex software systems that have been successfully delivered to customers  * Knowledge of professional software engineering practices & best practices for the full software development life cycle, including coding standards, code reviews, source control management, build processes, testing, and operations  * Ability to take a project from scoping requirements through actual launch of the project  * Experience in communicating with users, other technical teams, and management to collect requirements, describe software product features, and technical designs. åÊ Posted Date:  11/11/2016',\n",
       " 'If you are excited by the opportunity to design highly scalable and performant solutions for innovative search and discovery, real time syndication of cross-WAN content, local buying experience, integrated social networking based recommendations, mobile applications and more, this may be the right career move for you. Be part of an innovative and passionate team, responsible for building a successful, sustainable and strategic international business for Amazon, from the ground up. Job functions: åÊ As a Software engineer on the team:  - You will own end to end implementation of large customer facing products, starting from design through implementation.  - You will participate in designing and implementing key functional areas of the customer experience, including website applications and platform services.  - You will own designing and building functional components, including code reviews, testing, deployment and post-launch monitoring  - You will work extensively with cross-functional teams across Amazons website, ecommerce and merchant technologies platform on the design and development of core platform functionality  - You will work with the business team and project managers to convert functional requirements into detailed technical specifications.  - You will work with engineers both onsite and offsite to define technical tasks and build detailed implementation plans.  - You will own operating our products, driving excellence in feature stability, performance and flexibility. Basic Qualifications  - An advanced degree in Computer Science, Math of related field, with 3+ years of relevant experience.  - Programming experience in Java / C++ (or equivalent OO language)  - Experience building and operating high-performance, highly-available and scalable distributed systems  - Self-directed and capable of working effectively in a dynamic environment. Preferred Qualifications  * Experience building complex software systems that have been successfully delivered to customers  * Knowledge of professional software engineering practices & best practices for the full software development life cycle, including coding standards, code reviews, source control management, build processes, testing, and operations  * Ability to take a project from scoping requirements through actual launch of the project  * Experience in communicating with users, other technical teams, and management to collect requirements, describe software product features, and technical designs. åÊ Posted Date:  11/11/2016',\n",
       " \"Alexa is the Amazon cloud service that powers Echo, the groundbreaking new Amazon device designed around your voice.  As BIE in a specialized area of analysis, you will innovate to provide new ways of understanding the Alexa user experience. Teams will be dependent on the data you provide and tools you build to accelerate system improvements and to inform design decisions.  In addition to providing valuable insight into our internal customers, you will work extensively with Amazon Data Engineering and other BIEs.  The successful candidate will be an expert at working with large data sets and have experience working with GUIs that make data accessible and consumable. The candidate will also have exemplary communication skills, and enjoy working in a small dynamic team with many partners. Specific responsibilities include: åÊ * Own the design, development, and maintenance of ongoing metrics, reports, analyses, dashboards, etc. to drive key business decisions  * Engage closely with other engineers, including BIEs and Data Engineers  * Help define requirements for reporting customer behavior, and translate those requirements into effective data visualizations  * Derive insights from customer feedback and usage data and provide input into new product development  * Be responsive to the needs of consumers of the BI data and tools Basic Qualifications  * Bachelor's degree in Computer Science, Mathematics, Statistics, Finance, related technical field, or equivalent work experience.  * 3-5 years of years of relevant work experience in business intelligence, analytics, data engineering, market research or related field  * Experience gathering business requirements, using industry standard business intelligence tools to extract data, formulate metrics and build reports  * Experience using SQL, ETL and databases in a business environment with large-scale, complex datasets  * Experience with AWS technologies including Redshift, RDS, S3, EMR, EML  * Experience with data visualization using Tableau or similar tools Preferred Qualifications  * Graduate degree in business, mathematics, statistics, economics, or other quantitative field  * 5-7 years professional experience (experience in consumer-facing industry preferred)  * Both technically deep and business savvy enough to interface with all levels and disciplines within the organization  * Track record of successful communication of analytical outcomes through written communication, including an ability to effectively communicate with both business and technical teams Amazon.com is an Equal Opportunity-Affirmative Action Employer - Minority / Female / Disability / Veteran / Gender Identity / Sexual Orientation åÊ Posted Date:  11/10/2016\",\n",
       " \"Alexa is the Amazon cloud service that powers Echo, the groundbreaking new Amazon device designed around your voice.  Amazon is seeking an experienced BI Engineer to provide tools for understanding customers, and generate analytics driving improvements to the user experience. As Senior BIE in a specialized area, your role moves between developing technology hands-on, managing an analytics vision, collaborating with Engineers across partner teams, and providing insight into new ways of looking at data. This is a stimulating and multi-faceted role, and you will positively impact the Alexa experience. Specific responsibilities include: åÊ * Own the vision: Understand BI needs within Alexa; determine requirements; author the strategy and vision for BI tools and services; create buy-in with key partners  * Own execution: Define creative, high quality roadmaps supporting the BI vision, consistent with team priorities, partner team planning, and existing tools capabilities; work closely with engineering teams across Alexa to deliver on the roadmap, including collaboration with partners to drive necessary changes to Alexa components; lead development of new BI technologies, in some cases technologies you prototype or evaluate yourself  * Represent the team: act as subject matter expert for BI tools and services; proactively support the Alexa community and partner team processes with relevant data  * Be efficient: Set up automation for delivering metrics and actionable data to internal customers; apply your technical expertise, be it through leadership or hands-on work, to unblock and accelerate achievement of the roadmap Basic Qualifications  * Bachelor's degree or higher with a technical discipline  * 10+ years of professional experience with 5+ years of consumer facing software experience  * Experience using data and metrics in projects to drive decisions, prioritization, design, and actions  * Experience communicating with customers regarding complex project requirements and competing prioritizations  * Experience coordinating product development cycles and software development schedules Preferred Qualifications  * Master's degree or other higher level training  * Broad technical breadth and depth including familiarity with natural language processing and database infrastructure  * Experience with SQL and scripting languages such as python and awk  * Ability to think strategically and execute methodically  * Demonstrated experience engaging and influencing senior executives  * Proven track record of taking ownership and successfully delivering results in a fast-paced, dynamic environment where continuous innovation is desired  * Demonstrated ability to understand and discuss technical concepts, manage tradeoffs and evaluate opportunistic new ideas with internal and external partners  * Experience leading cross-functional teams to deliver products and projects on tight deadlines  * Experience delivering consumer software products and services in a high growth environment  * Strong verbal and written communication skills  * Passion for creating innovative solutions for consumers in households  * History of teamwork and willingness to roll up your sleeves to get the job done Amazon is an Equal Opportunity-Affirmative Action Employer - Minority / Female / Disability / Veteran / Gender Identity / Sexual Orientation. åÊ Posted Date:  11/10/2016\",\n",
       " \"Are you passionate about innovative technologies like speech and IoT? Interested in Amazon Alexa, the brain behind Amazon Echo? Are you entrepreneurial, and do you like solving tough technical problems for customers? The Amazon Alexa team is looking for a Senior Technical Program Manager to help build the Alexa Skills Kit (SDK), which is the developer SDK and platform that 3rd party developers use to create skills for Amazon Alexa. We are looking for a candidate with a passion for new products and IoT, enthusiasm for our mission, and a talent for managing building great products. We're working hard, having fun, and making history. The Senior Technical Program Manager role requires working with product management, development, and speech teams to understand how speech user experience translate into Alexa SDK needs, and leading cross functional teams from design through delivery, and managing all related timelines. This position involves regular communication with senior management on status, risks and change control. Cross-team coordination, project management, and executive presentation skills are essential. Key Responsibilities: åÊ * Partner with product management to help drive the roadmap using key insights from our developer customers  * Scope large projects for the Alexa Skills Kit (the Alexa SDK), end-to-end  * Build and manage an agile backlog for your customer and technical requirements  * Work closely with the engineers to architect and develop the best technical design and approach  * Coordinate and lead design discussions across the SDK and Platform teams to deliver SDK requirements  * Interact with senior management, stakeholders and customers on weekly reviews of your programs.  * Collaborate effectively with peer teams and key partner services to deliver robust engineering product If you have an entrepreneurial spirit, know how to deliver, are deeply technical, highly innovative and long for the opportunity to build pioneering solutions to challenging problems, we want to talk to you. Basic Qualifications  * BS in computer science, computer engineering or a related technical discipline  * 5-7 years of Technical Program Management experience in a related industry  * 10+ years of relevant work experience in internet-related program and/or technical product management in a software applications environment Preferred Qualifications  * Expertise in agile software engineering practices & best practices for the full software development life cycle, including agile estimation and planning, coding standards, code reviews, source control management, build processes, testing, and operations  * Track record for managing complex technology projects with aggressive schedules and scarce resources  * Track record for being detail-oriented with a demonstrated ability to self-motivate and follow-through on projects  * Solid foundation in service-oriented technologies to be able to understand service inter-dependencies and drive towards technical solutions for multi-tiered systems  * Experience in communicating with users, other technical teams, and management to collect requirements, evaluate alternatives and develop processes and tools as needed to support the organization  * Excellent communication skills and the ability to generate and communicate meaningful development metrics  * Comfortable working in a fast paced, highly collaborative, dynamic work environment Amazon is an Equal Opportunity-Affirmative Action Employer - Minority/Female/Disability/Veteran/Gender Identity/Sexual Orientation åÊ Posted Date:  11/11/2016\",\n",
       " \"Alexa is the name of the Amazon cloud service that powers Echo, the groundbreaking new Amazon device designed around your voice. Customers love Alexa and are even more excited about Alexa's future potential. We are seeking a BIE to help understand customer engagement with Alexa third party skills. As a BIE, you will work with product management & marketing teams to better understand customer engagement. You will specifically focus on the international markets (UK, DE). You will be involved in building out our data infrastructure and responsible for identifying KPIs we will use to track the customer journey and engagement across a wide range of touch points with Alexa. You will also help the broader team identify new features and business opportunities through your analysis. In this highly visible role, you will work with a wide range of stakeholders - ranging from VPs to engineers, from marketers to product managers. A successful candidate will be able to partner effectively with both business and technical teams, including clear communication of results across a variety of stakeholders. He/she will be an expert in SQL/ETL and data manipulation, with a proven track record of connecting data insights to business impact. The candidate will also have an eye for optimization and automation in reporting. This high-impact role provides a great opportunity to demonstrate capabilities to dive deep, deliver results, think big, invent and simplify, and earn trust. RESPONSIBILITIES Own the design, development, and maintenance of ongoing metrics, reports, analyses, dashboards, etc. to drive key business decisions  Continually improve ongoing reporting and analytic processes, automating or simplifying self-service support for customers  Collaborate with engineers to implement the design of the data architecture.  Own and perform individual deep dive analyses on our customers, including communicating results and implications to business leaders.  Derive insights from customer feedback and usage data and provide input into new product development Basic Qualifications  * Bachelor's or advanced degree in Math, Finance, Statistics, Engineering, Computer Science or related discipline.  * Experience in data mining (SQL, ETL, data warehouse, etc.) and using databases in a business environment with large-scale, complex datasets.  * SQL and Excel skills.  * 3-5 years of years of relevant work experience in analytics, data engineering, business intelligence, or related field. Preferred Qualifications  * Advanced degree in Math, Finance, Statistics, Engineering, Computer Science or related discipline.  * Knowledge of data visualization and exploration tools (Looker, Tableau, etc.).  * Proficiency with statistics and use of statistical applications such as R.  * Knowledge of Advanced SQL and a programming language  * Experience with data visualization using Tableau or similar tools  * Proven track record of successful communication of analytical outcomes through written communication, including an ability to effectively communicate with both business and technical teams. Amazon.com is an Equal Opportunity-Affirmative Action Employer - Minority / Female / Disability / Veteran / Gender Identity / Sexual Orientation åÊ Posted Date:  11/10/2016\",\n",
       " \"Our mission: åÊ The Amazon Home is becoming the leading destination for customers to find inspiration and everything they may need for their home through an unparalleled shopping experience. The Home team currently has the opportunity to redefine what that shopping experience looks like and is looking for new team members. This space is one of the fastest growing segment of the retail website. You will be part of a team working with new technologies including the latest UX frameworks, Alexa, Amazon Web Services, mobile platform, machine learning, augmented reality, virtual reality, and other innovative ways to improve the home shopping experience. This team owns the customer experience end-to-end, and you are expected to make decisions that impact millions of people and have a real impact on the business. Why you should join: åÊ If you are passionate about our missions, technically sharp, a builder who loves to build from the ground up, an owner who is deeply customer obsessed, and enjoy working with dedicated, smart and data driven people, this is your dream job. As a Quality Assurance Engineer on the Home Innovation team, you will work closely with both business and technical teams across Amazon.com. Duties include the design, implementation, documentation, and maintenance of test automation programs, the creation of software tools used to perform build verification and regression tests, and driving the software development process towards quality-centric methodologies. Your role will include: åÊ - Design/implement quality control best practices and automation.  - Planning and implementing test plans, test cases and metrics.  - Work with business category leaders and product managers to study use cases, define and execute project plans, manage communication and risk mitigation.  - Ensure complete functional path coverage; software test implementation. Black box and white box testing.  - Issues reporting and tracking. Basic Qualifications  - Bachelor's Degree in Computer Science, Informational Technology or equivalent  - Five or more years of QA experience  - Strong knowledge of QA methodology and tools  - Ability to understand technical specifications and analyze log files  - Experience in front-end UI and backend testing QA experiences  - Comfortable communicating cross-functionally and across management levels in formal and informal settings  - Strong organizational skills, tracking multiple test executions simultaneously and are able to synthesize the results Preferred Qualifications  - Experience in UI automation  - Comfortable communicating cross-functionally and across management levels in formal and informal settings  - Strong organizational skills, tracking multiple test executions simultaneously and are able to synthesize the results  - Fluent in at least one scripting language, ability to read Java code. åÊ Posted Date:  11/11/2016\",\n",
       " \"Come join a revolution in digital entertainment. Audible, Inc. is a media company that provides a daily spoken-word entertainment service to millions of listeners around the world. We're growing and innovating at an unprecedented scale and hiring bright, Android software development engineers to build with us. Your role will require effective partnership with multi-functional teams to integrate new features, maintain high performance standards, and craft intuitive interfaces. Our recent innovations include a short-form listening service, Channels (currently in Beta), Audible/Kindle synchronization using Whispersync for Voice, and our content production marketplace, ACX. You may also implement our services with first-to-market Amazon products like Echo, Alexa, and Kindle Fire. Audible offers the world's largest catalogue of audiobooks and is quickly becoming the premier destination for short-form audio: news, comedy, original shows, and more. We are collaborative and nimble. We produce original and award-winning content in addition to our unmatched selection of downloadable titles. You will help continue to expand the listening experience and create life-changing technologies on behalf of customers. This Role: åÊ * Work on a small engineering team that is responsible for the design and development of the platform which supports different Android Applications across Audible.  * Ownership over software, which includes extensions across concept, design, execution, and support services with a high standards of operational excellence.  * Build innovations like Channels (currently in Beta) and Whispersync for Voice from the ground up  * Partner with product management to collect data, test, and launch software that wows our community and inspires your peers with proven results.  * Explore and self-teach, bringing questions and solutions to the table.  * Stay ahead of trends, technologies and the most standard methodologies both industry-wide and within Amazon, sharing your knowledge in a meaningful way that impacts the group.  * Employ evidence-based techniques and working-backwards vision for positive social impact. Basic Qualifications  * Understanding of enterprise level frameworks (AWS, Spring, etc.) and how to designing for performance, scalability, and availability  * Strong knowledge of data structures and algorithms  * Exceptional problem solving skills; adaptable, enthusiastic and willing to take ownership  * Strong communication skills and ability to prioritize and work across multiple engineering teams Preferred Qualifications  * Understanding of web services patterns such as REST and other client/server interaction models  * Experience working with high volume scalable service oriented architecture (SOA)  * Some experience with mobile development in Android  * Personalization, distributed systems, Amazon Web Services  * Digital-media delivery, HTTP Adaptive Streaming, HLS, HDS, Smooth Streaming, MPEG, AAC, & MP3 processing  * Experience with Scrum/Agile development methodologies  * Experience with modern distributed version control systems such as Git Benefits: åÊ We have a comprehensive benefits package but here are some of the fun perks: Free catered lunch daily, breakfast on Mondays, all the snacks you can eat and Happy Hour on a Friday  Free onsite gym and 25% fitness reimbursement  Ruthless ping-pong tournaments and seasonal sports clubs - volleyball, basketball, soccer, etc.  Endless company sponsored events  Transit reimbursement, paid parking and shuttle service  Tuition assistance  Annual Amazon discount  Access to Amazon Web Services and much more... Audible is an Equal Opportunity - Affirmative Action Employer-Minority/ Female/ Disability/ Vet åÊ Posted Date:  9/15/2016\",\n",
       " \"Amazon is looking to hire highly motivated, best-in-class Network Engineers for our Network Infrastructure team that run critical Amazon Web Services IP networks. The team will drive the stability and sustainability of these next-generation networks and to discover innovative ways to automate and scale our network as we expand. The ideal candidate will be expected to perform high quality network and/or systems operations, deployments, scaling, technology refresh, sustaining engineering, best practices application, optimization, internal/external customer interactions, and produce appropriate technical documentation. They will demonstrate an excellent knowledge of networking/systems concepts and theory, and have experience participating in network/systems support for a large-scale enterprise or service provider environment. They will have a proven track record of success in driving complex issues to resolution autonomously and/or collaboratively. A love for working with new technologies and pushing the envelope on existing technology is required. This is an excellent opportunity to join Amazon's world class technical teams, working with some of the best and brightest engineers while also developing your skills and furthering your career within one of the most innovative and progressive technology companies anywhere. - Maintain Amazon Web Services' next generation networks for significant AWS customers by providing critical network support to diagnose, mitigate impact, and resolve large-scale networking events.  - Troubleshoot network routing, interconnectivity, platforms, performance, and configurations issues; including necessary low level application interaction, Unix systems, and new age networking software tools.  - Lead network projects in the areas of network sustaining engineering, network deployment/implementation, network scaling, technology refresh, best practices application, and/or network optimization.  - Drive and support innovation from Top of Rack to the Network Core and everything in between.  - Partner with our broader Network/Infrastructure organization in the areas of network engineering, configurations standards, and tools.  - Work closely with our Network/Systems/Software Engineering teams to ensure fast, smooth roll-out of new designs and products, as well as assist with deployment and sustaining of networking software tools.  - Maintain standards across the networking toolset and ensure that we are fully compliant to those standards and policies.  - Deliver simple, sustainable and repeatable solutions and processes.  - Collaborate with highest tier escalation engineers/resolvers.  - Create and review documentation and process regarding network implementation/deployments, recurring issues, new standard operating procedures, knowledge transfer material, etc. Basic Qualifications  This position requires the applicant selected to obtain and maintain a Top Secret security clearance with Sensitive Compartmentalized Information (TS/SCI) eligibility and access. A US Government administered polygraph examination will be required. TS/SCI eligibility is not required to start; however, the applicant selected will be subject to a Single-Scope Background Investigation (SSBI) and must meet eligibility requirements for access to classified national security information. Applicants with a current SSBI, SBPR, or PPR, may be eligible for crossover in accordance with ICPG 704.4. - 3+ years experience in a network focused hands-on technical role working with IP routing protocols/technologies and platforms in large scale data center and/or WAN network environments.  - Thorough understanding of TCP/IP networking, IP routing, Server Load Balancing, and Network Security architecture and core technologies such as IP, TCP, OSPF/IS-IS, BGP, MPLS, Server Load Balancers, Firewalls, ACLs, DNS, DHCP, IPAM, LDAP, NFS, etc.  - Experience with one or more of the following router, server load balancer, and firewall vendor platforms: Cisco, Juniper, Alcatel-Lucent, Arista, Brocade, Extreme, Citrix, F5, Fortinet, Palo Alto, etc.  - 3+ years experience in a technical on-call capacity, responding to customer impacting events, mitigating and root cause analysis of those events.  - 3+ years experience developing engineering, deployment, or operations mechanisms to support IP network and/or networking systems.  - Must be comfortable working in a Linux/Unix environment.  - Possess Scripting skills or have desire to learn them; specifically Python, Perl, or Shell (bash, ksh, csh).  - Detail oriented, excellent analytical skills, and a strong team player who works well with immediate and extended team, and consistently puts the team above oneself.  - Ability to work in and keep up with a fast moving environment via effective prioritization and time management.  - A relevant degree in a related technical discipline or at least three years relevant experience in a large-scale network environment. Physical requirements: åÊ - Must be able to work in a 24x7 team on call rotation, with ability to drive into workplace for critical events/needs.  - The ability to sit in front of computer during scheduled work hours with appropriate breaks while maintaining a high level of alertness and attention to detail.  - Travel to data center/network sites and Amazon/customer offices as needed.  - Experience dealing with customers during problem resolution and operating efficiently under pressure. Preferred Qualifications  - In-depth knowledge of and experience with networking and/or systems technologies  - Knowledge of network hardware and packet forwarding architectures.  - Experience working in virtualized enterprise networking environments.  - Software development/programming **For more information on Amazon Web Services, please visit http://aws.amazon.com.**  1. Applicant selected may be subject to a USG Single-Scope Background Investigation (SSBI) and if required, must meet eligibility standards for access to classified national security information (TS/SCI eligible with Polygraph)  2. This position requires the applicant selected to obtain and maintain a Top Secret security clearance with Sensitive Compartmented Information (TS/SCI) eligibility and access. A US Government administered polygraph examination will be required. TS/SCI eligibility is not required to start; however, the applicant selected will be subject to a Single-Scope Background Investigation (SSBI) and must meet eligibility requirements for access to classified national security information. Applicants with a current SSBI, SBPR, or PPR, may be eligible for crossover in accordance with ICPG 704.4.  3. (Variant) Pursuant to a government contract, this specific position requires U.S. citizenship status and the applicant selected must obtain and maintain a Top Secret security clearance with Sensitive Compartmented Information (TS/SCI) eligibility and access. A U.S. Government administered polygraph examination will be required. The applicant selected must possess a Single-Scope Background Investigation (SSBI) that is eligible for crossover as defined in ICPG 704.4. *MVP221982  *Please email AWS Sourcing Recruiter, Scott Korkowski (korkowsk@amazon.com) if you have questions. åÊ Posted Date:  3/2/2016\",\n",
       " 'Amazon Web Services (AWS) is the world leader in providing a highly reliable, scalable, low-cost infrastructure platform in the cloud that powers hundreds of thousands of businesses in 190 countries around the world! A flagship service of AWS is the Simple Storage Service (S3), which currently hosts billions of customer files for a variety of applications. Customer usage of S3 has grown exponentially since its availability as a service. Despite the title of the service, there is nothing simple about the innovation and technology required to provide top notch quality of service for customers. The AWS S3 team is uncomfortable with the status quo, and we strive to continually innovate to make for a better service. A key element of the current and future operation of the S3 service is efficient and well-managed capacity. The AWS S3 team is looking for a Technical Program Manager to join our Fleet team. This team is responsible for the end-to-end lifecyle for our servers, from onboarding new capacity, to managing their health and improving their utilization, to retiring the servers at their end of life. The individual will:  * Produce and maintain plans to address the various server lifecycle and utilization requirements  * Create and track projects to ensure optimal server availability  * Work closely with System Engineers to identify and correct issues with our fleet  * Develop specifications for tools and dashboards to track the status and health of our fleet  * Work closely with other AWS teams tracking dependencies and deliverables, and launching and coordinating new initiatives to improve our scalability and utilization  * Perform analysis on server data and produce charts, reports, and documents explaining the results  * Assists in planning and monitoring the capacity utilization  * Work with the technical leaders to suggest improvements and inputs in the architecture refresh projects from capacity planning perspective  * Forecast the uncertainties and deficiencies to prepare reservations plans to meet demands without interruptions or delays  * Assists in investigating, diagnosing and resolving problems related to capacity a. Applicant selected may be subject to a USG Single-Scope Background Investigation (SSBI) and if required, must meet eligibility standards for access to classified national security information (TS/SCI eligible with Polygraph) b. This position requires the applicant selected to obtain and maintain a Top Secret security clearance with Sensitive Compartmented Information (TS/SCI) eligibility and access. A US Government administered polygraph examination will be required. TS/SCI eligibility is not required to start; however, the applicant selected will be subject to a Single-Scope Background Investigation (SSBI) and must meet eligibility requirements for access to classified national security information. Applicants with a current SSBI, SBPR, or PPR, may be eligible for crossover in accordance with ICPG 704.4. Basic Qualifications  * Undergraduate degree in Computer Science or related technical field (MS a plus)  * Scripting for data analysis  * Large data set data analysis tools (Excel, SQL) Preferred Qualifications  - Experience with forecasting and statistical analysis  - At-least 5 years of industry experience  - Excellent written and oral communication  - Excellent collaboration and leadership skills  - Experience with supply chain management  - Experience with cloud services *MVP221982 a. Applicant selected may be subject to a USG Single-Scope Background Investigation (SSBI) and if required, must meet eligibility standards for access to classified national security information (TS/SCI eligible with Polygraph) b. This position requires the applicant selected to obtain and maintain a Top Secret security clearance with Sensitive Compartmented Information (TS/SCI) eligibility and access. A US Government administered polygraph examination will be required. TS/SCI eligibility is not required to start; however, the applicant selected will be subject to a Single-Scope Background Investigation (SSBI) and must meet eligibility requirements for access to classified national security information. Applicants with a current SSBI, SBPR, or PPR, may be eligible for crossover in accordance with ICPG 704.4. åÊ Posted Date:  3/2/2016',\n",
       " \"Amazon Simple Storage Service (S3) is storage for the Internet. It provides a simple web services interface that can be used to store and retrieve any amount of data, at any time, from anywhere on the web. It gives developers access to the same highly scalable, reliable, secure, fast, inexpensive infrastructure that Amazon uses to run its own global network of web sites. The service aims to maximize benefits of scale and to pass those benefits on to developers. We are currently looking for an experienced System Engineer for S3's Capacity team. The ideal candidate is excited about the incredible opportunity that cloud computing represents, has a hands-on approach, and is passionate about delivering high quality services in a hyper-growth environment where priorities can shift fast. You will work on mission-critical infrastructures, tools, and processes that enable our systems to scale at a rapid pace. One day you might be investigating a kernel module; the next day you might be deploying code worldwide. You'll investigate and create new systems for scaling development and production. You'll need to be sharp and impressive with your DevOps magic. The perfect candidate will be comfortable with technical Linux, networking and distributed architecture topics. SEs work in small teams to enable innovative features, tools and automation and share direct responsibility for service health. S3 is a global service at internet scale requiring operational and engineering approaches at the same scale, and requires SEs to solve technical challenges not faced elsewhere. Cloud computing represents a fundamental shift in how businesses think about managing their information needs. While this emerging area of computing has seen tremendous growth over the past few years, we are still in the early stages of realizing its full potential. We're looking for a smart, passionate and visionary leader to help us continue to define this exciting new technology. Basic Qualifications  * Bachelor's Degree in Computer Science or a related field, or relevant work experience * 2 years plus of distributed system management experience  * 1 year plus of Development of systems management and administration automation in Perl, Python, Ruby or Java  * U.S. Citizenship required due to Top Secret Clearance  * This position requires the applicant selected to obtain and maintain a Top Secret security clearance with Sensitive Compartmented Information (TS/SCI) eligibility and access. A US Government administered polygraph examination will be required. TS/SCI eligibility is not required to start; however, the applicant selected will be subject to a Single-Scope Background Investigation (SSBI) and must meet eligibility requirements for access to classified national security information. Applicants with a current SSBI, SBPR, or PPR, may be eligible for crossover in accordance with ICPG 704.4 Preferred Qualifications  * Masters in CS or related degree (Computer Engineering, Electrical Engineering, etc.)  * Computer Science fundamentals in data structures, algorithm design and problem solving  * Excellent communication skills and the ability to work well in a team  * Strong customer focus, ownership, urgency and drive  * A solid grasp of networking fundamentals  * Systems Administration or Development in Linux/Unix environement.  * Calm under fire as an oncall incident responder  * Practical experience across the networking stack from loadbalancers down to TCP/IP.  * Ability to dive deep into complex technical problems  * Experience with version control like Git or Mercurial  * Excellent problem solving skills with a strong attention to detail *MVP221982 a. Applicant selected may be subject to a USG Single-Scope Background Investigation (SSBI) and if required, must meet eligibility standards for access to classified national security information (TS/SCI eligible with Polygraph) b. This position requires the applicant selected to obtain and maintain a Top Secret security clearance with Sensitive Compartmented Information (TS/SCI) eligibility and access. A US Government administered polygraph examination will be required. TS/SCI eligibility is not required to start; however, the applicant selected will be subject to a Single-Scope Background Investigation (SSBI) and must meet eligibility requirements for access to classified national security information. Applicants with a current SSBI, SBPR, or PPR, may be eligible for crossover in accordance with ICPG 704.4. åÊ Posted Date:  3/2/2016\",\n",
       " \"Amazon Simple Storage Service (S3) is storage for the Internet. It provides a simple web services interface that can be used to store and retrieve any amount of data, at any time, from anywhere on the web. It gives developers access to the same highly scalable, reliable, secure, fast, inexpensive infrastructure that Amazon uses to run its own global network of web sites. The service aims to maximize benefits of scale and to pass those benefits on to developers. We are currently looking for an experienced System Engineer for S3's Capacity team. The ideal candidate is excited about the incredible opportunity that cloud computing represents, has a hands-on approach, and is passionate about delivering high quality services in a hyper-growth environment where priorities can shift fast. You will work on mission-critical infrastructures, tools, and processes that enable our systems to scale at a rapid pace. One day you might be investigating a kernel module; the next day you might be deploying code worldwide. You'll investigate and create new systems for scaling development and production. You'll need to be sharp and impressive with your DevOps magic. The perfect candidate will be comfortable with technical Linux, networking and distributed architecture topics. SEs work in small teams to enable innovative features, tools and automation and share direct responsibility for service health. S3 is a global service at internet scale requiring operational and engineering approaches at the same scale, and requires SEs to solve technical challenges not faced elsewhere. Cloud computing represents a fundamental shift in how businesses think about managing their information needs. While this emerging area of computing has seen tremendous growth over the past few years, we are still in the early stages of realizing its full potential. We're looking for a smart, passionate and visionary leader to help us continue to define this exciting new technology. Basic Qualifications  * Bachelor's Degree in Computer Science or a related field, or relevant work experience * 2 years plus of distributed system management experience  * 1 year plus of Development of systems management and administration automation in Perl, Python, Ruby or Java  * U.S. Citizenship required due to Top Secret Clearance  * This position requires the applicant selected to obtain and maintain a Top Secret security clearance with Sensitive Compartmented Information (TS/SCI) eligibility and access. A US Government administered polygraph examination will be required. TS/SCI eligibility is not required to start; however, the applicant selected will be subject to a Single-Scope Background Investigation (SSBI) and must meet eligibility requirements for access to classified national security information. Applicants with a current SSBI, SBPR, or PPR, may be eligible for crossover in accordance with ICPG 704.4 Preferred Qualifications  * Masters in CS or related degree (Computer Engineering, Electrical Engineering, etc.) * Computer Science fundamentals in data structures, algorithm design and problem solving  * Excellent communication skills and the ability to work well in a team  * Strong customer focus, ownership, urgency and drive  * A solid grasp of networking fundamentals  * Systems Administration or Development in Linux/Unix environement.  * Calm under fire as an oncall incident responder  * Practical experience across the networking stack from loadbalancers down to TCP/IP.  * Ability to dive deep into complex technical problems  * Experience with version control like Git or Mercurial  * Excellent problem solving skills with a strong attention to detail *MVP221982  a. Applicant selected may be subject to a USG Single-Scope Background Investigation (SSBI) and if required, must meet eligibility standards for access to classified national security information (TS/SCI eligible with Polygraph) b. This position requires the applicant selected to obtain and maintain a Top Secret security clearance with Sensitive Compartmented Information (TS/SCI) eligibility and access. A US Government administered polygraph examination will be required. TS/SCI eligibility is not required to start; however, the applicant selected will be subject to a Single-Scope Background Investigation (SSBI) and must meet eligibility requirements for access to classified national security information. Applicants with a current SSBI, SBPR, or PPR, may be eligible for crossover in accordance with ICPG 704.4. åÊ Posted Date:  3/2/2016\",\n",
       " \"As an increasing number of large enterprises move their critical systems to the cloud, we are in need of high-powered technical talent to help our largest customers navigate the operational challenges of cloud computing. You will work one-on-one with our top-tier customers, supporting both the software development lifecycle for cloud services and management of active services. In this role, you will have the opportunity to help shape and execute a strategy to build mindshare and broad use of Amazon Web Services (including Amazon EC2, Amazon S3, Amazon DynamoDB & RDS databases, Amazon CloudFront CDN, and many more) within organizations ranging from new start-ups to large enterprise customers. You must possess customer facing skills that enable you to represent AWS well within a customer's environment and drive discussions with senior personnel regarding incidents, trade-offs, best practices, and risk management. You should also have a demonstrated ability to think strategically about business, product, and technical challenges as you help our customers take advantage of the efficiencies, cost savings and quick innovation available only in the cloud. As a Senior Cloud Technical Account Manager, you will be the primary technical point of contact for one or more customers helping to plan, debug, and oversee ongoing operations of business critical applications. You will get your hands dirty, troubleshooting application, network, database, and architectural challenges using a suite of internal AWS tools as well as your existing knowledge and toolkits. You will work hand-in-hand with senior executives on opportunities to improve your customers' IT landscape. You will work across customer organizations to ensure customers' applications are well designed and scale to the needs of the world's largest events e.g., the Super Bowl, the World Cup and the Olympics. In this role, you will also act as the voice of the customer within AWS to escalate problems and to drive prioritization of business needs for our customers. Every day will bring new and exciting challenges on the job while you: * Engage with Director and C-Level executives to understand business needs  * Assist in Design/Architecture of AWS and hybrid cloud solutions  * Help Enterprises define IT and business processes that work well with cloud deployments  * Work hands-on with customer engineering teams to develop, migrate, and debug application issues  * Troubleshoot technical issues and drive issue escalation with AWS Service teams  * Leverage knowledge of your customers' environments to assist support engineers and service teams in better serving your customers  * Complete analysis and present periodic reviews of operational performance to customer leadership  * Provide detailed reviews of service disruptions, metrics, detailed prelaunch planning  * Make recommendations on how new AWS offerings fit in the company architecture  * Champion and advocate for customer requirements within AWS (be their voice)  * Participate in customer requested meetings (onsite or via phone)  * Know and use all key customer resolution tools across all service groups to facilitate rapid resolution of customer concerns  * Participate in deep architectural discussions to ensure solutions are designed for successful deployment in the cloud  * Work with some of the leading technologists around the world  * Work directly with Amazon Web Service engineers to ensure that customer issues are resolved as expediently as possible Basic Qualifications  * Bachelor's Degree in Computer Science, Math, or related discipline required or equivalent work experience  * Breadth of experience in the following areas with depth in one or more subject:  * Internet technologies including HTTP, SMTP, DNS, TCP/IP, TLS/SSL, DHCP, SSH, etc.  * Systems Administration (Linux and/or Windows)  * Software design, development and deployment  * Content Distribution / CDN  * Scripting / Automation  * Databases (relational and non-relational)  * IT Security  * Routing and VPN protocols  * Big Data & Analytics (Hadoop/streaming data/machine learning)  * Operations Management & infrastructure design  * Large scale and highly distributed environments  * Service Oriented Architecture Preferred Qualifications  * 5+ years of hands-on systems administration / networking / troubleshooting experience preferably in a distributed systems environment  * Candidates must have excellent verbal and written communication skills along with exceptional customer focus  * Experience managing large scale environments including escalations, incident, problem, and service availability Amazon Web Services is hiring: http://aws.amazon.com/careers/ aws-support-na åÊ Posted Date:  5/12/2016\",\n",
       " 'The Infrastructure Operations organization is composed of four functions: Data Center Operations, Engineering Operations, Logistics, and Security. Data Center Operations focuses on the server-level platforms that support both Amazon Retail and Amazon Web Services. Engineering Operations focuses on the mechanical, electrical, and controls systems that support our Data Center critical environments. Logistics executes materials planning and control to support both on-going operations and expansions. Security is charged with the physical security of our people, assets, and Customer Data. The Data Center Operations Manager is the senior Data Center Operations role within the region and has managerial responsibility for safety, security, availability, scaling, costs and efficiency. The Data Center Operations Manager must manage across the functions but also have the ability to dive deep into any given function as needed. The Data Center Operations Manager leads the Team that is installing, maintaining, and de-commissioning racks and server-level components in a safe, secure and cost-effective manner across the region. At times, based upon need and capabilities, the Data Center Operations Manager and the Team may be called-upon to support similar operations within other Amazon Web Services regions. About the Role: åÊ The Data Center Operations Manager is a key role in the leadership team that is operating and scaling the world\\'s largest cloud computing infrastructure. We encounter interesting, challenging and complex problems every day. As a technical manager in Amazon you can innovate to solve these issues and help drive operations excellence in all areas of your role. You will have the ability to refine and develop processes to optimize operational excellence in every aspect of your role. You must also have a passion for technology along with a desire to achieve best-in-the-world operational performance About Us: åÊ \"Work Hard. Have Fun. Make History\". This is our motto and we do all 3 every day. AWS S3 web service recently accepted its 2 trillionth object, currently accepting more than 1 million objects every second on a daily basis. We think this is really cool and want to expand our cloud to meet our customers continued needs. We are the most Customer Centric Company in the world and will stop at nothing to meet our customers\\' demands. We have proven this business model a success for many years and are always on the lookout for likeminded individuals to take us to the next level. We are building some of the largest distributed systems in the world, and we need smart people to help plan and put the pieces together. We are obsessed with Operational Excellence and strive to improve everything we do.  We also want you to progress your career, so will give you the tools to focus on your next desired role and then help you reach it, this is part of our ethos. Basic Qualifications  * Bachelor\\'s degree in engineering, computer science, or a related field.  * 7+ years of relevant experience managing people and critical Data Center operations, facility engineering operations, information technology, Data Center build-outs and scaling, or similar experience in complex critical 24x7 operations.  * Proven ability to hire, develop, and manage high-performing technical teams.  * Functional knowledge of Data Center mechanical, electrical, and controls systems or similar complex technical operations.  * Expertise in one or more continuous improvement methodologies such as Lean or Six Sigma. Preferred Qualifications  * Master\\'s Degree in Engineering, Technology Management, Business Administration, or related field.  * IT Information Library (ITIL) certification  * Experience managing software development or operational implementation of software tools.  * Extensive knowledge of information technology infrastructure domains such as compute server platforms, storage server platforms, server components, network devices, technologies and architectures, cabling best practices and IT service delivery principles and best practices.  * Hardware install, troubleshooting and repair, security system install, troubleshooting and repair, and related Operations tasks.  * Operation and maintenance of mechanical, electrical, and controls systems for Amazon Data Centers to include preventive maintenance, corrective maintenance, and change management.  * Vendor management of colocation Data Center services providers to meet or exceed contracted performance SLA\\'s.  * Safety, security, and availability incident response, incident management, and incident resolution.  * Continuous improvement of operational processes, procedures, methods, and tools. Linux systems administration åÊ Posted Date:  5/12/2016',\n",
       " 'The Amazon Web Services (AWS) Physical Security Team is rapidly expanding to support the exponential growth of our data facilities and related security functions associated with this growth. AWS is looking for an independent, passionate, highly talented, and motivated team manager to join us. In this role you will be responsible for the management of the Asia/Pacific (APAC) team responsible for the performance of physical security reviews of our data facilities in the APAC region, applying physical security principles and standards, to report areas which are within scope of the standards and areas which can be improved. You will oversee the creation and approval of all written reports related to the physical security reviews conducted in the APAC Region. You will also be responsible for development, integration and analysis of physical security standards and implementation, as well as identifying areas for possible improvement to present a complete picture of the mission of this team. This  position is located in Seattle, Washington. As the APAC Physical Security Team Manager you will work directly with other AWS Physical Security Teams, AWS Management, and customers to aid in the real world application of Physical Security Standards and Principles to existing facilities around the world. You will also review new and cutting edge technology and security equipment for possible application to the existing security system to enhance the security posture of our data facilities. An ideal candidate for this role will be willing and able to work at all levels, from the knowledge of Physical Security Principles to the practical application and real world implementation of them. An Ideal candidate would also have knowledge of Crime Prevention through Environmental Design (CPTED), to include concept and principles, data collection, analysis, presentations and reports, behavior and the physical (built) environment. The candidate must also be able to manage the execution, as well as team members who conduct detailed and technical reviews of existing facilities and identifying areas which can be improved to enhance the physical security posture of a site. This position may require extensive travel worldwide. ** For more information on AWS, please visit http://aws.amazon.com ** KEY RESPONSIBILITIES: åÊ * Manage and lead the execution of Physical Security Reviews of data facilities in the APAC Region. Ensure that all vulnerabilities identified as part of this review process are documented and effective corrective action taken to mitigate or repair the security vulnerability.  * Partner directly with AWS Security customers to review security related documentation and help them understand the implementation of all physical security standards and policies to their real world environment.  * Develop and review new and cutting edge technology and security equipment for possible application to the existing security system to enhance the security posture of our data facilities.  * Assist the AWS Security Assurance team in determining the strategic direction of the AWS Physical Security Program based on customer interaction and demonstrative metrics.  * Be and remain connected with industry trends and events. Develop and maintain personal relationships with key industry personnel and manufacturers.  * Assist work of internal and external auditors or advisors as necessary.  * Keep the AWS Security Assurance leadership team fully informed of customer engagement status, issues, and activities.  * Basic Qualifications  Required Qualifications The requirements listed below are representative of the knowledge, skill, and/or ability required to successfully perform this job: * 7+ years of experience working with Physical Security Principles and/or Access Control/Intrusion Detection and CCTV Surveillance systems.  * Knowledge of CPTED.  * Experience in conducting reviews of existing facilities and applying Physical Security Principles to practical applications experienced at the site.  * Experience in analysis of new and cutting edge Physical Security Technology and devices.  * Ability to communicate effectively with both technical and non-technical individuals.  * Excellent oral and written communication skills.  * Proven track record of leading and managing geographically dispersed team members.  * Experience in briefing and communicating with all levels of management.  * Track record for being detail-oriented with a demonstrated ability to self-motivate and follow-through on projects.  * Ability to travel worldwide. Preferred Qualifications Preferred Qualifications  * Experience in performing technical assessments and audits physical security access control/intrusion detection and CCTCV surveillance systems.  * Clear understanding of cloud computing services.  * Experience and proficiency in public speaking.  * Experience in building successful compliance/audit programs. åÊ Posted Date:  3/3/2016',\n",
       " \"At Amazon, we're working to be the most customer-centric company on earth. To get there, we need exceptionally talented, bright, and driven people. If you'd like to help us build the place to find and buy anything online, this is your chance to make history. The Data Center Global Services organization is looking for an exceptional individual with a successful, progressive career history in the area of structured cabling as a Senior Engineer for our Cabling Infrastructure Team. The Cabling Infrastructure team is responsible for low voltage structured cabling across the Amazon data center platform. This position is located in Dublin, OH. The ideal candidate will possess a technology background that enables them to understand the complexities of the sophisticated network architecture of Amazon data centers. To be a qualified candidate for this role you must have experience operating in large-scale data centers and a display a demonstrated ability to think broadly and strategically, as this is needed to align the future of structured cabling with the larger objectives of the business. This is a role for an experienced professional as it will be challenging and demanding. You will be responsible for design, materials, vendor selection, quality and standards. You must be passionate about the Customer Experience, think and act globally and want to contribute to innovations in the area of structured cabling. Role Responsibilities and Requirements: åÊ Serve as authoritative quality assurance mechanism for the team  * Ensure adherence to budget and timelines  * Adhere to higher standards but developing standards and holding teams to higher standard. Scope of Work as follows but not limited to; Project Initiation Phase  * Identify Amazon's Data Center build out requirements and infrastructure cabling specification for the project  * Create conceptual design for the infrastructure cabling plant  Budgeting for network racks, structured cabling system with associated components  * Identify the requirements for Cable Routes, cable ladder, basket, tray within the data center. Detail design and procurement Phase  * Prepare and deliver detail design drawing and document sets related to infrastructure cabling plant for the project  * Create and review overhead and under-ground/floor cable pathway designs for infrastructure cabling.  * Review and consolidate backbone cabling and telecommunication carrier's incoming route requirements.  * Responsible for Infrastructure cabling material selection.  * Identify technical and commercial requirements to be set-out in the RFP documents, prepare RFP documents, assess and evaluate RFP responses and create recommendation reports for bid process. Implementation Phase  * Vendor/ contractor supervision and management related to infrastructure cabling.  * Coordination of design, project timeline/ schedule and construction works with other contractors, project teams and construction teams.  * QA and auditing before and after infrastructure cabling plant handover.  * Management of handover documentation and project closure documents.  * Patching and coordination and arrangement. Others  * Create and maintain metrics and procedure documents.  * Purchase order arrangement and financial controls for infrastructure cabling related activities.  * Develop and maintain patch record database Basic Qualifications Basic Qualifications  * Minimum of 5-8 years of structured cabling experience  * Minimum of 3 years structured cabling project management  * Sound knowledge of computer skills, Auto CAD, MS Words, Excel, Project Visio and Power point.  * Total comprehension of modern systems and network platform and what is necessary for physical layer inter-connectivity. Professional traits that are not unique to this position, but necessary for success at Amazon:  * Fluency in English/ Local Language highly preferable.  * Strong customer focus  * Exhibit excellent judgment  * Relentlessly high standards - never satisfied with the status quo  * Able to dive deep and is never out of touch with the details of the business or the technology  * Strive for innovation and simplification  * Have passion and convictions and the innate ability to inspire passion in others  * Strong negotiation communication, project management and reporting skills.  * Strong results orientation  * Think big Preferred Qualifications Preferred Qualifications  * BCSI RCCD qualified or equivalent.  * Demonstrate clear understanding of infrastructure cable and relevant standards in a complex environment.  * Ability to translate client requirements into technical specifications.  * Strong track record of successful vendor management across multiple vendors in various locations.  * Strong commitment to commercial pricing, world class capability, risk control and team work  * Ability to perform strategy planning.  * Total familiarity with enterprise data centers/white space.  * General comprehension of the various components and sub-components of data center infrastructure aws-opseng-na åÊ Posted Date:  11/29/2016\",\n",
       " \"Amazon Music is looking for a dynamic, driven Senior Product Manager to join us in creating the preeminent digital music user experience. Amazon Music develops the software for Prime Music and Amazon Music Unlimited streaming services, along with the Amazon Digital Music Store and Amazon Music Library. We provide applications for Android, iOS, desktop, web, and the Amazon Echo and Kindle Fire product line. We also partner with external companies such as Sonos (wireless speakers) and Roku (streaming box) to ensure ubiquitous access to our music service. We have a presence internationally in 7 countries, US, UK, DE, FR, IT, ES and JP and are growing fast. Amazon Music - Any Way You Want It.  Imagine being a part of an agile team where your ideas have the potential to reach millions. Picture working on cutting-edge consumer-facing products, where every single team member is a critical voice in the decision-making process. Envision being able to leverage the resources of a Fortune-500 company within the atmosphere of a start-up. Welcome to Amazon Music, where ideas are born, and come to life as Amazon Music Unlimited, Prime Music, and the digital music store.  Our team is focused on building a personalized, curated, and seamless music experience. We want to help our customers discover up-and-coming artists, while also having access to their favorite established musicians. We build systems that are distributed on a large scale that can support Amazon's global platform, and customer base.  Amazon Music offerings are available in multiple countries, and our applications support our mission of delivering music to customers in a way that enhances their day-to-day lives. We can be found on platforms such as the Amazon Echo, Kindle Fire, iOS, and Android as well as on a mixture of home and auto streaming platforms. We develop software in Java, C++, Objective-C, HTML5/JavaScript, Python, and various AWS technologies. Basic Qualifications  * 5+ years program or product management experience in a technological industry  * Experience working on agile enabled teams  * Experience launching consumer-facing online/mobile products/service from start to finish  * Bachelor's degree required (MBA or master's degree in a quantitative field Preferred) Preferred Qualifications  * The successful candidate will possess the following skills:  * Proven ability to understand complex business problems, apply strong analytical skill and create an effective strategy  * Technical fluency; ability to understand and discuss architectural concepts, schedule tradeoffs and new opportunities with technical team members  * Strong communication and collaboration skills, with a proven ability to work across functions and influence senior leaders  * Demonstrated success building buy-in for an innovative and bold vision  * Excellent customer experience intuition; demonstrated success in creating innovative and user-friendly software applications and customer-facing features  * Nimbleness and comfort with ambiguity; ability to respond rapidly to evolving threats and opportunities  * Demonstrated ability to translate strategic differentiators into innovative and detailed product requirements  * Proven ability to make smart features (customer experience) versus time-to-market trade-offs; experience using data and metrics to back up assumptions and assertions of business value The successful candidate will excel in the following areas:  * Customer Insight & Innovation: Ensure that you and your team develop innovative product solutions that are grounded in a deep understanding of customer needs  * Product Delivery: Own your team's execution of the product roadmap, including business cases, user stories, experience design and rapid delivery in an Agile environment  * Cross-Functional Partnership: Foster tight partnerships with engineering, marketing and operations Amazon is an Equal Opportunity-Affirmative Action Employer - Minority / Female / Disability / Veteran / Gender Identity / Sexual Orientation. Qualified applicants with criminal histories will be considered in a manner consistent with all applicable local, state and federal laws. #musicjobs åÊ Posted Date:  11/23/2016\",\n",
       " \"We are looking to hire a highly motivated, best-in-class Network Technician II to join our growing team within infrastructure operations. The candidate will work with minimum supervision in a dynamic environment to drive the stability and sustainability of our next-generation networks and to develop innovative ways to automate and scale our network as we expand.  The position responsibilities will include scaling support of several data center locations and be responsible for day to day assistance with capacity management. The Network Technician II will work closely with both internal customers and external vendors to facilitate smooth project execution as directed by Technical Program Managers  Our ideal candidate is highly autonomous, very detail oriented, possesses strong written and verbal communication skills and has significant experience in supporting large scale, enterprise class networks. Strong network implementation and troubleshooting skills combined with a proven documentation methodology is also required. Significant written and verbal communication skills and an ability to interact efficiently with peers and customers are required. The desire and ability to work in a fast paced, collaborative environment is essential. In addition to providing top-tier management and support of Amazon's vast network infrastructure, Network Technician II's are expected to build or enhance tools, develop best practices, refine operational procedure and constantly think proactively and in an innovative manner at all times. Basic Qualifications  * AS/BS in Information Systems, Computer Science or Information Assurance, may be coupled with certifications to include CCNA, CCNP or JNCIA; or 3-5+ years of mid-level and/or enterprise experience as a technician or engineer in a highly dynamic environment; or an equivalent combination of education and experience.  * Deliver sustainable and repeatable solutions and processes always with an eye on improvement.  * Work closely with our Network Engineering & Network Technical Project Manager teams to ensure fast, smooth rollout of new designs and products.  * TCP/IP networking knowledge  * Broad understanding of infrastructure technologies  * Knowledge of network cabling, optic types, and test equipment, such as VFL, power meter, and OTDR.  * Experience with cabling infrastructure best practices and methodologies.  * Familiarity with common networking terms.  * Manage work and priorities through ticketing system and workflow  * Collaborate with various stake holders to remove project obstacles  * Ability to travel within geographical work area is required, up to 20% travel outside traditional work area may be required possibly including international travel.  * Troubleshoot networking, routing and inter connectivity issues, including troubleshooting of network device configuration and low to mid-level application interaction  * Troubleshooting cabling infrastructure connectivity issues, including patch panels and patch cords.  * Specifying Power and Cooling requirements and ensuring Hardware Racking/Stacking completed for new equipment  * Complete customer requests via Remedy trouble ticketing system * Participate in the migration, basic configuration and roll out of new or upgraded hardware Preferred Qualifications  * Comfort with medium to large, complex project scopes and ambiguous details within work environment  * Excellent judgement and analytical skills, ability to prioritize tasks based on fluctuating needs  * Strong understanding of major Command Line Protocols (Cisco IOS, JunOS, etc) and common Networking Protocols (BGP, OSPF)  * Significant background in large scale datacenter network implementations and support.  * Several years of experience working in virtualized enterprise networking environments  * Professional experience with IT best practice frameworks (ITIL, LEAN, AGILE) and Operational Excellence concepts or methodologies is a plus ** For more information on Amazon Web Services, please visit http://aws.amazon.com ** Amazon is an Equal Opportunity-Affirmative Action Employer - Minority / Female / Disability / Veteran / Gender Identity / Sexual Orientation. åÊ Posted Date:  11/23/2016\",\n",
       " 'Amazon Lumberyard is a free AAA game engine deeply integrated with AWS and Twitch, available with full source. The Lumberyard team aspires to help game developers create the highest quality games, engage massive communities of fans, and connect their games to the vast compute and storage of the cloud. The Lumberyard team is looking for a great manager and leader to join our QA leadership team. You are passionate, creative, excited about games, and have experience managing teams and working closely with groups both onsite and in remote locations. Your experience during all phases of product development, from initial design to final release; your ability to cross functional boundaries to improve processes; and the way you\\'ve evangelized quality across disciplines - all of these will be critical to our success. Your attention to detail and your high quality bar will directly support our goal of delighting our customers. What can we offer you in exchange? You\\'ll have the freedom (and encouragement) to experiment and innovate, to improve existing processes and invent new ones, and not be limited to \"that\\'s not how we do things here.\" You\\'ll have an opportunity to work on game development experiences that push the boundaries of technology. You\\'ll have a tangible impact our technology, our business and -- most importantly -- our customers. And you\\'ll have the satisfaction of being able to look back and say you were a key contributor to something special from its earliest stages. If this sounds like a good fit, let\\'s talk. Basic Qualifications  * 5+ years of experience in software QA/test  * Proven experience in building and managing a test team  * Demonstrated experience developing high-quality test plans and test reports  * Experience working in QA through all parts of the software development life cycle  * BS in Computer Science or equivalent combination of technical education and work experience  * Knowledge of QA methodology and tools, software testing standards, methods and conventions, and the product development cycle  * Great attention to detail, critical thinking, solid communication and proven leadership skills  * Strong organizational and problem-solving skills Preferred Qualifications  * 3+ years of experience leading QA teams  * Experience shipping 3+ products (guiding them through a full QA process)  * Experience working in an Agile and test-driven development environment  * Experience driving continuous integration models into code teams  * Passion for and knowledge of games and digital/online entertainment  * Knowledge of and experience with a major game engine (e.g. Unity, Unreal, CryEngine)  * Proven success in communicating cross-functionally and across management levels in formal and informal settings  * Ability to track multiple test efforts simultaneously and report results  * Creativity and initiative to continually improve test coverage and effectiveness  * ISTQB or equivalent qualification Amazon is an Equal Opportunity-Affirmative Action Employer - Minority / Female / Disability / Veteran / Gender Identity / Sexual Orientation. åÊ Posted Date:  11/29/2016',\n",
       " 'Do you want to define the future of Internet commerce?  Are you a top-notch software engineer with a creative flare, strong problem-solving skills, the drive to build and ship products often, a solid computer science foundation, and the desire to build Amazon\\'s next generation Internet-facing technology? Come talk with us about joining our team to expand Internet commerce.  Is your next project defining a world class Internet service?  With us, you will be building cutting-edge applications and services in an environment of highly distributed systems used by millions of sellers and even more millions of retail customers. Your innovation could provide new functionality for sellers, expand mobile device usage for retail customers, deploy new web standards, or expand Amazon\\'s web services with the goal of making it as easy for anyone to sell on Amazon as it is to buy from Amazon.  Are you ready to create systems to expand one of the world\\'s largest e-commerce engines?  If so, come be a member of Amazon\\'s Merchant Technologies team. Our software engineers design and build world-class software solutions for millions of sellers from around the globe to sell on Amazon.com. Your work will be powering the Amazon online marketplaces in many countries and continents.  Can you work at the scale of the biggest Internet companies?  The solutions that you will deploy must scale to accommodate rapid processing and integration with large enterprise customers. However, to add to the challenge, the solutions must also support intuitive world class UI for your neighbor to sell extra books, video games, photography equipment, and the largest selection of possible products that can be found anywhere.  Bought something on Amazon lately?  Selling on Amazon is one of the fastest growing businesses at Amazon.com with about one-third of all items currently sold originating from marketplace sellers. Have you ever noticed the \"See more buying choices\" or \"New & Used offers\" while you\\'re shopping on Amazon? Maybe you\\'ve sold an old textbook or extra movie yourself. The Merchant Technologies team owns services that enable that functionality and more.  Amazon is a premier place to build, deploy and operate Internet-scale services.  Join our development team to work hard, have fun and make history. You will join a highly technical and entrepreneurial culture defining and building a selling experience to complement Amazon\\'s world-class websites. Basic Qualifications  * Bachelor\\'s degree in Computer Science, Software/Computer Engineering, Mathematics, or a related field.  * 5+ years of industry experience.  * Experience in designing and developing large-scale, multi-tiered, distributed software applications, tools, systems and services using Java, Object Oriented Design and Distributed Programming.  * Self-directed and capable of working effectively in a highly innovative and fast-paced environment.  * Excellent communication, analytical, and written skills. Preferred Qualifications  * Master\\'s degree in Computer Science, Software/Computer Engineering, Mathematics, or a related field.  * 7+ years of industry experience.  * Innovative and creative with Web technologies to build high performing websites and web services.  * Expert knowledge of Java.  * Familiarity with Spring MVC, Perl, JavaScript, AJAX, XML/XSLT, SOAP, SQL, Oracle databases, AWS, caching, web protocols, and web services technologies.  * Experience developing software in a Unix/Linux environment. åÊ Posted Date:  11/29/2016',\n",
       " \"Massive scale. Cutting edge technology. Visible real world impact. Are you interested in building the foundation for one of Amazon's most significant and fastest growing businesses? Amazon Business is transforming the way sellers reach business customers. Amazon Business is a new marketplace on Amazon.com that combines the selection, convenience and value customers have come to know and love from Amazon, with new features and unique benefits tailored to the needs of business purchasers. As highlighted recently in the press, Amazon Business reached $1 Billion in annual revenue within its first year of being launched, and is growing at 20% per month. We need engineers who can step into this environment and help us build cutting edge and highly distributed systems to support businesses around the world selling on Amazon and drive the next billion dollars. You will participate in the full development cycle, end-to-end, from design, implementation, and testing to documentation, delivery and maintenance. You will evaluate and make decisions around the use of new or existing technologies and tools, and you'll coach and mentor junior development engineers. We work in an entrepreneurial environment and deliver value incrementally and frequently. We are still in the early stages of development, so you will be in on the ground floor. Basic Qualifications  * BS in Computer Science, Computer or Electrical Engineering, Mathematics, or a related field  * 3+ years relevant work experience in software development  * Solid knowledge of Computer Science fundamentals (object-oriented design, data structures and algorithm design)  * Proficiency in at least one modern object-oriented programming language such as Java (Preferred) or C#.  * Excellent communication and analytical skills Preferred Qualifications  * MS in Computer Science, Computer/Electrical Engineering, Mathematics, or a related field  * Five years of progressively responsible work experience  * Experience in building large scale distributed systems  * Experience in scaling and performance tuning of large systems  * Experience with AWS and other cloud technologies  * Understanding of relational data modeling and SQL  * Excellent communication and analytical skills  * Experience developing software in a Unix/Linux environment  * Familiarity with scripting languages - Unix Shell / Perl / Phython / Ruby  * Maniacal Customer Obsession åÊ Posted Date:  11/29/2016\",\n",
       " 'Amazon.com is looking for best-in-class Network Engineers to drive the development, sustainability, and operations of our Cloud Computing networks. With Amazon Web Services (http://aws.amazon.com), our goal is to become \"The Infrastructure Platform\" to the world. Our customers demand the highest quality and reliability and challenge us to be better, faster, and cheaper every day. In this role, you will work on a team of highly skilled Network Engineers responsible for the end-to-end ownership of our Core datacenter network. This includes the design/architecture, definition and enforcement of standards, security, sustainability/scalability, deployment, and operations of our current and next generation networks. Our ideal candidate is highly autonomous, possesses strong written and verbal communication skills, has a track record of successfully delivering complex projects on time, and possesses a strong background in Ethernet and IP networks. The desire and ability to work in a fast-paced collaborative environment is essential. Basic Qualifications Basic Qualifications  * A Bachelor\\'s Degree in Computer Science or equivalent experience .  * A minimum of 5 years industry experience in a similar environment.  * Experience with Ethernet and IP networking fundamentals and extensive experience in the application of IP protocols.  * Experience knowledge of and experience with major Internet routing protocols, network hardware and packet forwarding architectures.  * Experience working with large-scale networks.  * Deep knowledge of Significant past experience with, and deep expertise in many of the following: Ethernet, 802.2/3, 802.1d, IP, TCP, BGP, OSPF, HSRP/VRRP/GLBP, PIM, IGMP, MSDP, MPLS, LDP, DNS, HTTP, SSL, netflow, 10G, 40/100G Futures, Linux/Unix. Preferred Qualifications  * A background in large-scale network design is highly desired.  * Software development/programming/scripting skills are a huge plus.  * Excellent analytical skills. åÊ Posted Date:  11/23/2016',\n",
       " \"Are you a high-energy, highly skilled software development engineer/superhero who wants to build and deliver cutting edge technology that protects millions of people every day? Do you want to invent new technologies while collaborating with the very best software engineers and architects in the world? Are you ready to build solutions to some of the world's most complex technical challenges while at the same time doing battle with nefarious Sellers looking to abuse our catalog to derive unfair advantages? Want to use your highly tuned software development skills for good and lead projects for developing sophisticated techniques to detect and prevent malicious parties, close complex loop holes in our listing and selection systems, and protect millions of consumers, including your friends and family? Do you keep looking until you find solutions so good they just seem natural? Do you want to push yourself and technology as far as they'll go with a group of smart and fun people? If this sounds like you and you have a history of delivery of high performance systems then we want you to join our team! Basic Qualifications  * 5+ years of Software Development experience  * Strong, object-oriented design and coding skills (C/C++ and/or Java on a UNIX or Linux platform)  * Solid software development background including design patterns, data structures, test driven development  * Experience with distributed (multi-tiered) systems, algorithms, and relational and no-SQL databases  * Software development experience in JSP, Spring, AWS, S3, SQS, building web services and highly scalable applications  * Knowledge of Perl or other scripting languages  * Excellent verbal and written communication skills Preferred Qualifications  * Master's degree in Computer Science, Computer Engineering or related technical discipline  * Ability to handle multiple competing priorities in a fast-paced environment  * A deep understanding of software development in a team, and a track record of shipping software on time  * Exceptional customer relationship skills including the ability to discover the true requirements underlying feature requests, recommend alternative technical and business approaches åÊ Posted Date:  11/29/2016\",\n",
       " \"Ever wondered what's involved in enabling millions of sellers to sell their products around the world? Amazon's Merchant Technologies group does just that - building the software platform and applications necessary for sellers to manage their business on Amazon. You'll be building cutting edge and highly distributed systems to support merchants around the world selling on Amazon. You will join a highly technical and entrepreneurial culture defining and building the next generation of a order experience for 3rd party merchants. Selling on Amazon is one of the fastest growing businesses at Amazon.com with about one-third of all items currently sold originating from 3rd party merchants. This Software Development position is for Marketplace Shipping Service group, where innovation and latest technologies merge to build brand new features and capabilities for sellers and end customers. If you are a sharp software engineer with a creative flare, strong problem-solving skills, a solid computer science foundation and the desire to be an individual contributor to Amazon's next generation technology, we want to talk with you. Come be part of the team redefining how best to sell on the Internet! This SDE position is for Amazon Marketplace, working on multiple new projects from the scratch in 2016. We are working on multiple new initiatives to enable sellers to serve business customers effectively build next generation platforms. Projects we are working on are MFN Prime, B2B experiences, expanding the India business as well as platform improvements across all our services to make them more config driven using new AWS technologies. Basic Qualifications  * BS in Computer Science, Computer or Electrical Engineering, Mathematics, or a related field plus at least one year of experience.  * Solid knowledge of Computer Science fundamentals (object-oriented design, data structures and algorithm design)  * Proficiency in, at least, one object oriented programming language such as C++ or Java Preferred Qualifications  * MS in Computer Science, Computer/Electrical Engineering, Mathematics, or a related field  * Five years of progressively responsible work experience  * Experience in building large scale distributed systems  * Experience in scaling and performance tuning of large systems  * Experience with AWS and other cloud technologies  * Understanding of relational data modeling and SQL  * Excellent communication and analytical skills  * Experience developing software in a Unix/Linux environment  * Maniacal Customer Obsession åÊ Posted Date:  11/29/2016\",\n",
       " \"Are you seeking an environment where you can drive innovation? Do you want to apply state-of-the-art computer technologies to solve real world problems? Do you want to affect not only internal users but Retail customers worldwide? In Retail Systems, you will pave the future of Amazon Retail, enhancing how we do business and our effectiveness as a player in the global e-commerce. Amazon has risen to the top of online retail, but there is still a lot of work to be done to remain competitive and find new opportunities. Amazon's Vendor Systems team is building a recommendation platform to help vendors grow their business on Amazon. Our mission to provide the most relevant and timely recommendations to our vendors. Our culture is to make metrics driven decision. We generate tons of metrics and analyze them to continuously raise the bar on our recommendations. We are seeking an outstanding data engineer to join our team. As a data engineer you will be responsible for providing business intelligence to stakeholders and applications that is timely, accurate and actionable. You will design, implement and support analytics technologies that enable business intelligence and structured access to our data. You will be a core member of a cross functional team and have an opportunity to influence all aspects of our data pipeline. You should have excellent business and communication skills to be able to work with business owners to develop and define key business questions, and to build data sets that answer those questions. You should have deep expertise in the design, creation, management and business use of large datasets. You should be an expert at designing, implementing, and operating stable, scalable, low cost solutions to flow data from productions systems into the data warehouse and into end-user facing applications. You should be able to work with business customers in a fast paced environment understanding the business requirements and implementing reporting solutions. Above all you should be passionate about working with huge datasets and analytics tools to provide insight into how the business is running and enable business decisions to be data driven. Basic Qualifications  * 3+ years of relevant experience as a Data Engineer, Business Analyst, Data Analyst, or another related occupation  * Degree in a quantitative field such as Mathematics, Statistics, Engineering, Computer Science, Economics  * Strong SQL skills and experience in handling large data sets  * Experience in data mining (SQL, ETL, data warehouse etc)  * Experience in building automation for reporting  * Strong analytical and problem-solving skills  * Excellent English written and verbal communication skills  * Ability to influence teams of business managers, research scientists, software developers, and product managers to innovate and to deliver against aggressive targets Preferred Qualifications  * Experience or good knowledge/understanding of system and software engineering processes  * Experience working with AWS stack (Redshift, S3, EMR, etc)  * Machine learning experience  * Experienced working in a fast-paced, high-tech environment (preferably software development) and comfortable navigating conflicting priorities and ambiguous problems åÊ Posted Date:  11/23/2016\",\n",
       " \"Ever wondered what's involved in enabling millions of sellers to sell their products around the world? Amazon's Merchant Technologies group does just that - building the software platform and applications necessary for sellers to manage their business on Amazon. You'll be building cutting edge and highly distributed systems to support merchants around the world selling on Amazon. You will join a highly technical and entrepreneurial culture defining and building the next generation of a order experience for 3rd party merchants using the latest technological innovations. Selling on Amazon is one of the fastest growing businesses at Amazon.com with about one-third of all items currently sold originating from 3rd party merchants. This Software Development position is for Marketplace Merchant Order Experience group, where innovation and latest technologies merge to build brand new features and capabilities for sellers and end customers. If you are a sharp software engineer with a creative flare, strong problem-solving skills, a solid computer science foundation and the desire to be an individual contributor to Amazon's next generation technology, we want to talk with you. Come be part of the team redefining how best to sell on the Internet! Basic Qualifications  * BS in Computer Science, Computer or Electrical Engineering, Mathematics, or a related field plus at least one year of experience.  * Solid knowledge of Computer Science fundamentals (object-oriented design, data structures and algorithm design)  * Proficiency in, at least, one object oriented programming language such as C++ or Java Preferred Qualifications  * MS in Computer Science, Computer/Electrical Engineering, Mathematics, or a related field  * Five years of progressively responsible work experience  * Experience in building large scale distributed systems  * Experience in scaling and performance tuning of large systems  * Experience with AWS and other cloud technologies  * Understanding of relational data modeling and SQL  * Excellent communication and analytical skills  * Experience developing software in a Unix/Linux environment  * Maniacal Customer Obsession åÊ Posted Date:  11/29/2016\",\n",
       " \"Are you passionate about building data driven solutions to solve a variety of problems in the cloud? Are you excited about using large-scale machine learning solutions to understand and improve a large cloud computing business? Do you have a solid background in statistics, programming and communication? Do you enjoy a fast-paced environment? If you answered yes to these questions, the EBS Data Science Team is a great place for you. Amazon EBS (Elastic Block Store) is a virtualized storage service that offers highly available, high performance storage for EC2. As one of the core building block of AWS, EBS has experienced phenomenal growth since inception. This is a great opportunity to work on one of the most challenging problems in the cloud, with incredibly talented teammates who know how to ship. If you are passionate about large scale distributed systems, massive data analytics, and are interested in systems and kernel programming, then EBS is the perfect place for you. The Data Science Team has made major contributions to a broad and strategic set of projects. These include design and launch of four new products, continuously monitoring and improving the entire product portfolio, and detailed modeling of customer usage patterns. Our team has a diverse background, including business, computer engineering and genetics. We're very interested in candidates with a proven track record of rapidly solving problems with  data. As a Research Scientist at Amazon, you'll be working with a talented team to help understand and guide the business. We use a variety of data science tools, including Python, R and Apache Spark. We also use some low-level monitoring tools in the that are specific to understanding how block devices are performing, including iostat and blktrace. Our team is a mixture of software engineers and scientists who work together to build scalable solutions to important problems in cloud computing. Successful candidates will use experience in quantitative methods to solve problems in a diverse set of areas including block storage, software application development, networking and distributed systems. Our team is composed of passionate, collaborative, deeply curious people who love to learn new things. The position is located in downtown Seattle, near several public transportation hubs. Basic Qualifications  * Ph.D. degree in Math, CS, Operations Research or an interdisciplinary field that leverages statistics and programming  * High-quality communication skills.  * The ability to explain highly complex data sets and analyses with concise clarity.  * Experience in optimization, machine learning, and large scale simulations are all highly desirable. Preferred Qualifications  * Ph.D. degree in Math, CS, Operations Research or an interdisciplinary field that leverages statistics and programming  * High-quality communication skills.  * The ability to explain highly complex data sets and analyses with concise clarity.  * Experience in optimization, machine learning, and large scale simulations are all highly desirable. åÊ Posted Date:  11/29/2016\",\n",
       " \"Amazon Web Services (AWS) Builder/Dev Tools and Workspaces are looking for passionate, experienced engineers to join us in Seattle, WA. We offer comprehensive relocation and benefit packages. We are holding an invitation only recruiting event in Brisbane, Australia for opportunities to join our Builder/Dev Tools and Workspaces teams the week of January 16th, 2017. You will only need to be available in the morning or afternoon on the 18th, 19th or 20th. To be considered further, please send your resume to brisbane-hiring-event. We value referrals, so don't hesitate to share information with any friends/colleagues who may be interested in meeting with us. We are reviewing resumes on a rolling basis.  AWS Builder/Dev Tools  Developer Tools help developers create and manage applications built on AWS. Both Amazon and the AWS developer community have produced a large number of tools to assist developers optimize their productivity by making good use of AWS. You can browse through these tools here. https://aws.amazon.com/tools/ Apollo  Apollo is our large scale deployment system used by all of Amazon internally. http://www.allthingsdistributed.com/2014/11/apollo-amazon-deployment-engine.html Code Deploy  Code deploy is the external version of Apollo for our customers. https://aws.amazon.com/codedeploy/ CloudTrail  AWS CloudTrail is a web service that records AWS API calls for your account and delivers log files to you. The recorded information includes the identity of the API caller, the time of the API call, the source IP address of the API caller, the request parameters, and the response elements returned by the AWS service.  With CloudTrail, you can get a history of AWS API calls for your account, including API calls made via the AWS Management Console, AWS SDKs, command line tools, and higher-level AWS services (such as AWS CloudFormation). The AWS API call history produced by CloudTrail enables security analysis, resource change tracking, and compliance auditing. https://aws.amazon.com/cloudtrail/ Config Team  AWS Config is a fully managed service that provides you with an AWS resource inventory, configuration history, and configuration change notifications to enable security and governance. Config Rules enables you to create rules that automatically check the configuration of AWS resources recorded by AWS Config. https://aws.amazon.com/config/ AWS Workspaces  Amazon WorkSpaces is a fully managed, secure desktop computing service which runs on the AWS cloud. Amazon WorkSpaces allows you to easily provision cloud-based virtual desktops and provide your users access to the documents, applications, and resources they need from any supported device, including Windows and Mac computers, Chromebooks, iPads, Fire tablets, Android tablets, and Chrome and Firefox web browsers. With just a few clicks in the AWS Management Console, you can deploy high-quality cloud desktops for any number of users. With Amazon WorkSpaces, you pay either monthly or hourly just for the Amazon WorkSpaces you launch, which helps you save money when compared to traditional desktops and on-premises Virtual Desktop Infrastructure (VDI) solutions. https://aws.amazon.com/workspaces/ At Amazon all teams follow the DevOps model with a single, small, co-located team owning an entire system. The team completely owns their system from coding new features, fixing bugs, deploying software, monitoring and managing it in production, and collaborating with their teammates on the technical direction of their system. In any role on an Amazon service team you will be doing all of the above. Here are some reasons you should come work with us:  * You will provide services that are core to all modern Internet businesses.  * You will be involved in the complete software development lifecycle; defining, prioritizing, designing, building, and testing new features.  * You will operate an AWS business with globally distributed servers and customers.  * You will learn what it takes to grow and operate a global business at our scale.  * We care about both delighting customers and building high quality software. We don't sacrifice one for the other.  * You will have the opportunity to design and build systems with massive scale.  * We offer a fast-paced environment with a start-up atmosphere. We ship code every day. Basic Qualifications  * Bachelor's degree in a CS related field  * Minimum 4+ years of software development experience  * Minimum 4+ years of object-oriented design or object-oriented programming experience Preferred Qualifications  * Computer Science fundamentals in data structures, problem solving, algorithm design and analysis  * Expert skill in one modern programming language such as C, C++, Java, or Python and proficiency with one other programming language  * Networking experience (HTTP, UDP, TCP/IP) and/or virtualization  * Experience building complex software systems that have been successfully delivered to customers  * Knowledge of professional software engineering practices & best practices for the full software development life cycle, including coding standards, code reviews, source control management, build processes, testing, and operations  * Ability to take a project from scoping requirement through actual launch of the project  * Strong distributed systems and web services design and implementation experience åÊ Posted Date:  11/29/2016\",\n",
       " 'Do you want to change the world? Alexa and Echo are literally shaping the future of voice recognition and cloud-based content/services. Alexa is the name of the Amazon cloud service and the brain that powers Echo, the award-winning and groundbreaking new Amazon device designed around your voice. Echo connects to Alexa, to provide information, answer questions, play music, read the news, check sports scores or the weather, and more--instantly. It\\'s hands-free, and always on. All you have to do is ask. To achieve this, we blend of a variety of disciplines (such as NLP, data mining, machine learning, big data, semantic web, graph stores, cloud computing) in an effort to understand our customers and the things they\\'re excited about. To complement our complex algorithms and extensive data analyses, we create elevated and inspirational mobile and web features across the entire Echo system. We use artificial intelligence, data mining and usability studies to develop new features, and we test them through hundreds of R & D experiments a year. We want to make it easy for you to search for your favorite products, discover new brands you\\'d like, play your favorite songs or even replenish your fridge - and much, much more!! We are also incredibly intent on solving some of the most complex computing problems to be found in industry and academia, and we get to test our solutions in the real world every day. And most importantly, we relentlessly ask: \"What haven\\'t we though of yet?\" On a day-to-day basis, you will lead an organization of close-knit engineers that are incredibly technical, agile, data driven, and highly collaborative. You\\'ll find yourself partnering across organizations with world-class technical leaders, Engineers, Research Scientists and Data Analysts, PhDs and industry veterans who have expertise in a wide range of disciplines. You\\'ll help analyze customer behavior, propose innovative ideas and solutions, implement big things, and then measure the results. Engineers on our team love to break things to see how they work, iterate and fail fast, improve on what works, discard what doesn\\'t, and learn from both. And we love to have fun! We gather often for social events, and we regularly get out of the office (rain or shine) to discover new things outside of work. If you\\'re as passionate as we are about making Alexa and Echo increasingly awesome for our customers all around the world, we\\'d love to chat with you! We\\'re seeking highly talented, driven and motivated technical leaders with big ideas, who are also obsessed with finding new, intuitive, and engaging ways to interact with our customers. We also know submitting online applications can be impersonal, so feel free to contact us directly and learn more: discover-alexa-jobs (@) amazon.com. We can\\'t wait to hear from you!  You will be joining a select group of a people making history producing one of the most highly rated products in Amazon\\'s history. In this role, as a Senior Manager on the Alexa Engine team, you will own all aspects of software planning and development, focusing on Alexa personalization of both experiences, and the infrastructure required for Alexa skills to deliver personalized content. As a software development leader you will...  * Lead teams of software engineers in the design, development, test, deployment and operation of the Personalization capabilities of Alexa.  * Contribute directly to our growth by hiring smart and motivated engineers and managers to establish teams that can deliver swiftly and predictably, adjusting in an agile fashion to deliver what our customers need.  * Be responsible for ensuring sanity of architecture, operational excellence and quality, delivering results on time.  * Work closely with other teams across Alexa, and Amazon to deliver platform features that require cross-team leadership.  * Obsess over protecting customer information.  * Mentor a large group of people and lead as a manager of managers with a direct handle on the pulse of each employee on your team.  * Regularly dive into architecture, code, test plans, project plans, deployments and operations to drive excellence through your organization.  * Represent your business and operations to senior leaders within Amazon on a weekly basis. Basic Qualifications  * 10+ years of experience building and managing software development teams that design and deliver  large distributed systems  * 5+ years of experience managing and operating software solutions that are highly reliable and scalable  * 5+ years of experience in delivering software projects using Agile / Scrum methodologies  * Bachelor\\'s degree in Computer Science or Engineering (or equivalent)  * 3+ years of experience managing and leading multiple engineering teams for an organization  * 5+ years of project management experience Preferred Qualifications  * Master\\'s Degree/PhD in Computer science/Math or related field  * Problem-solving skills and the abilities to analyze quantitatively, scope technical requirements and effectively prioritize program deliverables  * Certified Scrum Master, Agile Certified Practitioner or similar certification  * Demonstrated experience delivering products, managing budgets and justifying resource needs to senior leaders and finance partners  * Experience delivering consumer software products and services in a high growth environment  * A track record of excellence in communication with executives and technical as well as non-technical leaders  * Machine Learning (ML), Personalization, Cloud Computing (AWS, Azure), Social Network Analysis (SNA -- Facebook OpenGraph, Twitter)  * Experience with search systems (Lucene)  * Ability to work in a fast-paced environment with minimal process and maximum productivity  * Most of all: enthusiasm, creativity, and inventiveness! You will be asked to find new ways to solve challenging problems every day Amazon.com is an Equal Opportunity-Affirmative Action Employer - Minority / Female / Disability / Veteran / Gender Identity / Sexual Orientation åÊ Posted Date:  11/29/2016',\n",
       " 'The Elastic Block Store group within Amazon Web Services is looking for a Systems Engineer who will help us deliver the next generation of industry leading storage service architected for the cloud. If selected, you will be a part of a team that architects, designs, and implements highly scalable distributed storage systems that provide availability, reliability and performance guarantees. As a member of the Snapshots team within EBS, you will get an opportunity to:  * Monitor the health of the fleet, automating system health, maintenance tasks, and reporting systems as needed  * Perform system maintenance tasks (your hands get dirty here), including configuration of new machines  * Develop or improve existing application and system management tools and processes that reduce manual efforts and increase overall efficiency  * Manage directly assigned tasks and on-call duties gracefully Basic Qualifications Basic Qualifications: åÊ * BA/BS in Computer Science or related discipline  * At least 4 years of industry experience focused on Linux.  * Proficiency in using the typical Linux toolbox of open source software and management tools.  * Scripting proficiency with Shell, Perl, Python, or Ruby.  * Proficiency with version control systems Preferred Qualifications Preferred Qualifications: åÊ * Familiar with configuration management tools like Puppet, Chef, Saltstack, or Ansible  * Experience with mission critical, 24x7 systems  * Understanding of Linux fundamentals  * Excellent understanding of networking protocols  * Have a comfortable understanding of Linux and networking protocols such as HTTP, DNS, TLS.  * Have used AWS or similar solutions to drive automation Amazon is an Equal Opportunity-Affirmative Action Employer - Minority / Female / Disability / Veteran / Gender Identity / Sexual Orientation. åÊ Posted Date:  11/28/2016',\n",
       " \"Ever wondered what's involved in enabling millions of sellers to sell their products around the world? Amazon's Merchant Technologies group does just that - building the software platform and applications necessary for sellers to manage their business on Amazon. You'll be building cutting edge and highly distributed systems to support merchants around the world selling on Amazon. You will join a highly technical and entrepreneurial culture defining and building the next generation of a order experience for 3rd party merchants. Selling on Amazon is one of the fastest growing businesses at Amazon.com with about one-third of all items currently sold originating from 3rd party merchants. This Software Development position is for Marketplace Shipping Service group, where innovation and latest technologies merge to build brand new features and capabilities for sellers and end customers. If you are a sharp software engineer with a creative flare, strong problem-solving skills, a solid computer science foundation and the desire to be an individual contributor to Amazon's next generation technology, we want to talk with you. Come be part of the team redefining how best to sell on the Internet! This SDE position is for Amazon Marketplace, working on multiple new projects from the scratch in 2016. We are working on multiple new initiatives to enable sellers to serve business customers effectively build next generation platforms. Projects we are working on are MFN Prime, B2B experiences, expanding the India business as well as platform improvements across all our services to make them more config driven using new AWS technologies. Basic Qualifications  * BS in Computer Science, Computer or Electrical Engineering, Mathematics, or a related field plus at least one year of experience.  * Solid knowledge of Computer Science fundamentals (object-oriented design, data structures and algorithm design)  * Proficiency in, at least, one object oriented programming language such as C++ or Java Preferred Qualifications  * MS in Computer Science, Computer/Electrical Engineering, Mathematics, or a related field  * Five years of progressively responsible work experience  * Experience in building large scale distributed systems  * Experience in scaling and performance tuning of large systems  * Experience with AWS and other cloud technologies  * Understanding of relational data modeling and SQL  * Excellent communication and analytical skills  * Experience developing software in a Unix/Linux environment  * Maniacal Customer Obsession åÊ Posted Date:  11/29/2016\",\n",
       " \"Are you into hard core networking? Low level Linux is your game? Interested in extreme data path optimization? Mixing all of those with cloud computing on a huge scale? We are building the future of SDNs (Software Defined Networks) powering the core of AWS Elastic Cloud Compute (EC2) infrastructure.  We are one of the very few teams in Amazon that work with bare metal devices using C/C++ and utilizing the very latest HW technologies.  Our team owns the data path of our EC2 core confidential network devices. EC2 Networking is crucial for Amazon's long-term success as a technology services company. It is the future of Amazon, and we are rapidly expanding our team to meet our fast growing needs. The EC2 Networking team is looking for exceptional software engineers to help us build new innovative features driving the future of cloud computing, and the tools to help us operate in this space. If you consider yourself an expert C/C++ Linux coder and have a passion for network programming and distributed systems, then this is your opportunity to be a technical leader and own the team's biggest initiatives. You will deliver projects that will define the next generation of EC2 networking. You will work with top of the line experts on tough problems. You will mentor and grow junior engineers. You will define all aspects of the development cycle for the team: scoping, design, implementation, and testing. You will exercise your judgment in proactively determining and recommending the best features, designs, and support models based on business objectives, timelines, and resource constraints. So, what's in it for you?  * Core networking Team - Our devices underpin the fabric of the EC2 cloud. You have the opportunity to make a large impact that will affect every AWS customer and drive the road map for the Amazon cloud.  * Technical leadership - you will own our problem space and get to driver your vision  * Build from the Ground up - You will have the opportunity to build new networking devices from the ground up for our next generation network.  * Direct Customer Contact - The Amazon way is to maintain and enhance what you build. This gives you the opportunity to work directly with customers to understand and guide their networks, the problem they face and meet their needs.  * Scale New Heights - Our devices power the core of EC2 infrastructure. We scale to network speeds that are on the edge of what is available world wide.  * Fun, non-formal environment - Although we take our work seriously, we don't forget to use our Nerf guns and take advantage of free beers whenever we can :) Basic Qualifications  * Bachelor's Degree in Computer Science or related field, with 10+ year experience coding in C and C++ or another high level language.  * Experience designing and writing performance optimized code  * In depth understanding of data structures  * In depth understanding of networking concepts, TCP/IP stack and Linux kernel networking layer.  * Experienced technical leader driving architectural design decisions and understanding complex trade-offs  * Proven experience solving complex architecture and business problems with solutions that are extensible, simple, and optimal.  * Mastery of professional software engineering practices & best practices for the full software development life cycle, including coding standards, code reviews, source control management, build processes, testing, and operations Preferred Qualifications  * Masters Degree in Computer Science or related field  * Broad knowledge of open open-source technologies  * Embedded development (especially networking drivers) is a plus  * Excellence in technical communication with peers and non-technical cohorts  * Experience working with large Distributed systems  * Experience with Routing protocols  * Demonstrated ability to provide original solutions to hard problems Amazon is an Equal Opportunity-Affirmative Action Employer - Minority / Female / Disability / Veteran / Gender Identity / Sexual Orientation. åÊ Posted Date:  11/29/2016\",\n",
       " 'Amazon Web Services (AWS) is looking for Solutions Architects (SAs) - experienced technologists with technical depth and strong interpersonal skills - in Portland. AWS SAs are passionate about working with customers to help build applications at scale. This includes enabling innovation through continuous deployment in DevOps w/ technologies like Chef and Puppet, building web & mobile scale-out applications using Memcached or Redis, RDBMS (MySQL, AWS Aurora, Oracle, SQL Server, and Postgres) and/or NoSQL (AWS DynamoDB, MongoDB, and Cassandra) data stores, building IoT use cases and implementing big data analytics w/ technologies like Hadoop, Spark, EMR, RedShift, and Kinesis. AWS SAs have breadth across technology stacks with deep hands on skills. AWS SAs build architectures & provide prescriptive guidance across network, storage, operating systems, virtualization, RDBMS & NoSQL databases, Hadoop, mid-tier technologies that include application integration, in-memory caches, and security. You must be self-motivated with a proven track record of delivering results in software/technology sales or consulting. You will have a demonstrated ability to think strategically about business, create technical definition around customer objectives in complex situations, develop solution strategies, motivate & mobilize resources, and deliver results. The ability to connect technology with measureable business value is critical to a solutions architect. The AWS SA team provides a ramping program that includes self-paced learning, instructor-led training, hands-on projects, job shadowing opportunities, and a peer-reviewed opportunity to demonstrate your knowledge. Roles and Responsibilities  * Partner with the sales team to design solutions for customers, drive AWS adoption and revenue.  * Be an AWS evangelist. Educate customers of all sizes on the value proposition of AWS.  * Establish credibility & build deep relationships with senior technical individuals within customers to enable them to be cloud advocates.  * Participate in deep architectural discussions to build confidence and ensure customer success when building new and migrating existing applications, software and services on the AWS platform.  * Conduct deep-dive \"hands-on\" education/training sessions to transfer knowledge to customers considering or already using AWS.  * Capture and share best-practice knowledge amongst the AWS SA community.  * Author or contribute to AWS customer-facing publications such as whitepapers, tutorials, etc.  * Present sessions at AWS and industry conferences.  * Technical liaison between customers, service engineering & support teams. Basic Qualifications  * 7+ years design & implementation experience with distributed applications  * 5+ years experience in networking; infrastructure or database architecture  * Technical degree required; Computer Science or Math background desired Amazon is an Equal Opportunity-Affirmative Action Employer-Minority/Female/Disability/Vet Amazon Web Services is hiring. For more information: http://www.amazon.jobs Preferred Qualifications  * 3+ years software/technology customer facing experience  * Experience with \"on-premise to cloud\" migrations or IT transformations  * Experience architecting/operating solutions build on AWS  * Demonstrated ability to adapt to new technologies and learn quickly  * Working knowledge of software development tools and methodologies  * Presentation skills with a high degree of comfort speaking with executives, IT Management, and developers  * Excellent communication skills with an ability to right level conversations åÊ Posted Date:  11/8/2016',\n",
       " 'About Audible: åÊ Audible, Inc. is the world\\'s largest seller and producer of spoken audio entertainment, information and educational programming. Since inventing and commercializing the first portable digital audio player in 1997, our focus on technological innovation and superior programming has earned us millions of subscribers around the world. We\\'re an Amazon subsidiary with a presence on three different continents, yet we maintain a startup vibe and small company feel. We offer more than 300,000 downloadable audiobooks, audio editions of periodicals, and other programs, and an escalating array of listening products that enrich daily life for a growing population of people who want to be more productive, well-informed, and thoughtfully entertained. About You: åÊ Audible, an Amazon company, is hiring talented and passionate software development engineers to help deliver new and innovative features and capabilities on the Audible Search and Discovery Team. Are you excited by the prospect of creating a world-class personalization and search experience that enable customers to find and discover the things they love? Are you interested in massively scaling product infrastructures for Amazon sites and services across the globe? Do you enjoy solving complex data and application service problems to make powerful yet delightful customer experiences? If so, we need customer-focused, innovative and driven software development engineers who enjoy working in an agile, fast-paced environment on highly visible products. About the Team: åÊ This is a developer opportunity with the back-end services for the Channels group. This team is expanding our customers\\' listening options by delivering a new diverse suite of programming. Channels has over 100 channels of short, curated audio content, such as newspaper and magazine articles, comedy, classic literature, and educational content. We are highly focused on delivering the best possible customer experience for our current book listeners as well as providing incentive to prospective customers to become Audible listeners About the Role: åÊ This is a software development engineer role for Channels back-end services. As an Engineer on our team, you\\'ll be expected to lead by example, write great code, solve difficult problems, set a high bar for the team around you and help them achieve engineering excellence. We want you to execute on \"your\" ideas, challenge the status quo and generally make things better. You\\'ll need the soft-skills too; Communication, influence and passion are key to the success of the team and ultimately the company. You\\'ll experience all the challenges, ambiguity and opportunities of a new team with a new mission but for the right candidate that\\'s part of the fun. Basic Qualifications  *  + Expertise designing and developing with Java (preferred), C++, .NET or other object-oriented language/framework  + Bachelor\\'s Degree in Computer Science or related field  + Equivalent experience to a Bachelor\\'s degree based on 3 years of work experience for every 1 year of education  + 2+ years professional experience in software development  + Computer Science fundamentals in object-oriented design  + Computer Science fundamentals in data structures  + Computer Science fundamentals in algorithm design, problem solving, and complexity analysis Preferred Qualifications  * Experience building complex software systems that have been successfully delivered to customers  * Knowledge of professional software engineering practices & best practices for the full software development life cycle, including coding standards, code reviews, source control management, build processes, testing, and operations  * Ability to take a project from scoping requirements through actual launch of the project  * Experience in communicating with users, other technical teams, and management to collect requirements, describe software product features, and technical designs. Benefits: åÊ We have a comprehensive benefits package but here are some of the fun perks:  * Free catered lunch daily, breakfast on Mondays, all the snacks you can eat and Happy Hour on a Friday  * Free onsite gym and 25% fitness reimbursement  * Ruthless ping-pong tournaments and seasonal sports clubs - volleyball, basketball, soccer, etc.  * Endless company sponsored events  * Transit reimbursement, paid parking and shuttle service  * Tuition assistance  * Annual Amazon discount  * Access to Amazon Web Services and much more... Audible is an Equal Opportunity - Affirmative Action Employer-Minority/ Female/ Disability/ Vet åÊ Posted Date:  8/30/2016',\n",
       " 'Working at Amazon RoboticsAre you inspired by invention? Is problem solving through teamwork in your DNA? Do you like the idea of seeing how your work impacts the bigger picture? Answer yes to any of these and you\\x89Ûªll fit right in here at Amazon Robotics. We are a smart team of doers that work passionately to apply cutting edge advances in robotics and software to solve real-world challenges that will transform our customers\\x89Ûª experiences in ways we can\\x89Ûªt even image yet. We invent new improvements every day. We are Amazon Robotics and we will give you the tools and support you need to invent with us in ways that are rewarding, fulfilling and fun.Job OverviewPerformance engineers tune systems and operational practices to maximize output and productivity. Performance engineers must problem-solve complex interactions between hardware, software, and operations. This senior performance engineer role will have a focus on daily operation performance ensuring the operations teams are set up for success. They represent technical needs of operations partners and influence short and long term roadmap decisions.The ideal candidate will partner a technical background with experiences working with cross-functional teams and in demanding environments. The candidate must be able to operate independently, possessing the desire, drive, and energy required to represent Kiva to operations while solving new problems on the fly. He or she should be comfortable digging into challenging technical problems under pressure, with experience implementing software and hardware solutions. This job will require a unique combination of flexibility, creativity, troubleshooting, leadership skills, drive, and proactive management. It also requires up to 25% travel to locations across the US and beyond.This role is within the Advanced Programs Team, which is a small multidisciplinary team working on new systems to advance the state of the art of Amazon fulfillment centers. This team designs, implements, and launches facilities to demonstrate new technologies and extend Kiva\\x89Ûªs unique capabilities. Performance engineers will greatly influence the team\\x89Ûªs future product development, and ultimately Amazon\\x89Ûªs future supply chain.Job Responsibilities:åÊ\\tSupport operations teams through tough challenges and issues that may arise\\tDiscover new ways of understanding system performance and performance drivers\\tCommunicate complex system dynamics concisely\\tWork with Product Managers and SW/HW Engineers to define defects and enhancements\\tDevelop tools to aid operational improvements, such as staffing decision engines\\tWork with operations to develop and implement new strategies and improvement projects\\tCoordinate with external technical teams to troubleshoot integrated software systemsåÊPreferred Job Qualifications:åÊ\\tUndergraduate degree in engineering; advanced degree in engineering or MBA is desirable\\t4+ years experience working in a Fulfillment, Manufacturing, Logistics, or other operational environment work in consulting and/or enterprise software is desirable\\tDemonstrated ability to work in a rapidly changing environment with fluid priorities\\tStrong Excel skills\\tStrong problem-solving and analytical skills\\tStrong presentation skills with the confidence to present to large, executive-level audiences\\tExperience with Six Sigma or another process improvement methodology preferred\\tFamiliarity with MySQL, Java, Linux, Perl, Bash, Python, PHP, JSON, JavaScript, and other programming, scripting, data analysis, and visualization tools and languages preferredAmazon is an Equal Opportunity-Affirmative Action Employer - Minority / Female / Disability / Veteran / Gender Identity / Sexual Orientation.åÊ',\n",
       " 'Are you inspired by invention? Is problem solving through teamwork in your DNA? Do you like the idea of seeing how your work impacts the bigger picture? Answer yes to any of these and you\\x89Ûªll fit right in here at Amazon Robotics. We are a smart team of doers that work passionately to apply cutting edge advances in robotics and software to solve real-world challenges that will transform our customers\\x89Ûª experiences in ways we can\\x89Ûªt even image yet. We invent new improvements every day. We are Amazon Robotics and we will give you the tools and support you need to invent with us in ways that are rewarding, fulfilling and fun.The Advanced Programs Team is focused on rapid innovation of Amazon\\x89Ûªs massive network of fulfilment centers (warehouses). This team designs, implements, and launches pilot facilities to prove out new automation technologies and push the envelope of what\\x89Ûªs possible with our Robot fleet. You will be working in a close-knit, high performance, fast paced, startup environment with a group of experts ranging from research scientists, roboticists, mechanical engineers and an amazing software test and development team.As an Amazon Robotics Software Development Engineer in Test, you will conceptualize ( and code! ) innovative techniques for automated testing of our software which controls the warehouse operations through the Robot fleet. Currently, most of our automation frameworks are built in Java or Python. You will collaborate with devs and PMs and drive clarity on requirements, deliverables, and test cases. We move fast - so you will be challenged to support the creation of testing strategies which are nimble and yet effective for business critical software.åÊ\\tBS/MS in Computer Science, engineering, or related field\\t5+ years of experience working in Java / Python\\tExperience with MySQL or other databases\\tStrong communication skills. Able to work with multiple business and development teams.\\tDesire and energy to work in a fast-paced environment - previous startup experience a plusåÊåÊ\\tStrong background in developing complex enterprise class software running on server platforms\\tExperience implementing highly-available real-time systems\\tExperience with cloud-based architecture and deployment\\tStrong ownership, passion, and a love for solving problems\\tA sense of humor and willingness to learn new thingsAmazon is an Equal Opportunity-Affirmative Action Employer - Minority / Female / Disability / Veteran / Gender Identity / Sexual Orientation.åÊ',\n",
       " \"Amazon Lab126 is an inventive research and development company that designs and engineers high-profile consumer electronics. Lab126 began in 2004 as a subsidiary of Amazon.com, Inc., originally creating the best-selling Kindle family of products. Since then, we have produced groundbreaking devices like Fire tablets, Fire TV and Amazon Echo. What will you help us create? The Role: åÊ As a Engineering Program Manager - Retail, you will engage with an experienced inter-disciplinary staff to conceive and design innovative consumer product and product packaging. You will work closely with an internal inter-disciplinary team to drive key aspects of product packaging definition, executive approvals, execution, test and delivery. You must be responsive, flexible and able to succeed within an open collaborative peer environment. The Engineering Program Manager - Retail will lead internal inter-disciplinary teams from concept through the end of life of product processes. The candidate is responsible for creating the project plan, including the schedule in coordination with the US and International product certification process. You will work with the Industrial Design and Product Marketing Managers to derive the packaging requirements and obtain executive approval. The Engineering Program Manager - Retail will drive and motivate the cross-functional team to deliver the product(s) as per the agreed-to requirements and cross functionally manage other internal team members. The Engineering Program Manager - Retail will be responsible for the coordination and planning of all packaging engineering builds at the supplier and drive the configuration management deliverables to ensure the timely release of all assemblies to production; this includes artwork releases for final product packaging for initial and sustaining  releases to production. You will be responsible for the management of the Amazon Standard Identification Number (ASIN) through end of life of the product in coordination with Online and Offline Retail sales and product certification teams. The Engineering Program Manager - Retail will lead internal inter-disciplinary teams for the Offline Retail demonstration programs as required from the Kindle Offline team. The candidate is responsible for creating the demo project plan, including the schedule in coordination with the US and International sales plans. This may include some product development to support the launch into the Offline Retail space. In this role, you will: * Drive execution of projects  * Lead cross functional project meetings  * Lead milestone reviews  * Present project status to the executive team  * Manage retail project builds globally as applicable Basic Qualifications  * Bachelor's degree in relevant discipline  * 5+ years of Engineering and/or Program Manager experience  * Experience delivering consumer electronics in a retail environment  * Experience managing the introduction of new technologies in retail environment Preferred Qualifications  * Master's degree in relevant discipline  * Proficient at creating and tracking complex development schedules, managing issues and tracking bugs  * Solid understanding of product development lifecycles  * Strong understanding of technical requirements for technology integration  * Hands on experience at overseas manufacturing facilities  * Excellent leadership skills  * Excellent communication skills Lab126 is part of the Amazon.com, Inc. group of companies and is an Equal Opportunity-Affirmative Action Employer - Minority / Female / Disability / Veteran / Gender Identity / Sexual Orientation #LI-KW1 åÊ Posted Date:  6/1/2016\",\n",
       " \"Amazon Lab126 is an inventive research and development company that designs and engineers high-profile consumer electronics. Lab126 began in 2004 as a subsidiary of Amazon.com, Inc., originally creating the best-selling Kindle family of products. Since then, we have produced groundbreaking devices like Fire tablets, Fire TV and Amazon Echo. What will you help us create? The Role: åÊ As a Software Development Engineer, you will be part of an experienced cross-disciplinary team designing and building innovative IoT software solutions for consumers. This hands-on position requires broad engineering competence and in-depth technical knowledge of embedded and application software development, as well as demonstrated experience successfully planning, organizing, and conducting software development projects in a dynamic environment. In this role, you will: * Contribute to the definition, development, integration, test, documentation, and support of custom embedded software applications and services across multiple platforms  * Design and build cutting edge software with a small, but experienced team of engineers  * Rapidly prototype and iterate on innovative user experiences for mobile, desktop, and other platforms in the Smart Home Basic Qualifications  * Bachelor's degree in Computer Science or related field  * 3+ years of experience building applications for different platforms, including mobile  * Embedded UI framework experience  * Design and architecture knowledge and familiarity with object oriented design patterns  * Experience shipping real products to customers Preferred Qualifications  * Master's degree in Computer Science or related field  * Proficiency in the tools of the trade, including a variety of modern programming languages and open-source technologies  * IoT experience  * Experience with evaluating and improving new developer tools and interfaces  * Experience working in agile environment  * Excellent judgment, organizational, and problem solving skills  * Comfortable taking initiative and working across teams  * Excellence in technical communication with peers, partners, and non-technical co-workers  * Passion for prototyping and hacking together new concepts Lab126 is part of the Amazon.com, Inc. group of companies and is an Equal Opportunity-Affirmative Action Employer-Minority/Female/Disability/Veteran/Gender Identity/Sexual Orientation #LI-AN1 åÊ Posted Date:  7/14/2016\",\n",
       " \"Amazon has built a reputation for excellence with recent examples of being named #1 in customer service, #1 most trusted, and #2 most innovative. Amazon Web Services (AWS) is carrying on that tradition while leading the world in Cloud technologies. As a member of the AWS Support team you will be at the forefront of this transformational technology assisting a global list of companies that are taking advantage of a growing set of services and features to run their mission-critical applications. You will work with leading companies in this space and directly with the engineering teams within Amazon developing these new capabilities. Overview The AWS Support team is seeking an Enterprise Support Operations Manager that enjoys solving problems, working with customers, and who has a background from a variety of different fields. If you have experience leading teams responsible for building or managing full application stacks from the system (Linux or Windows) up through a custom application, managing part of a network from layer 3 and higher, or web-related programming that includes the consumption of web services we'd like to talk with you! You will be surrounded by people that are wickedly smart, passionate about cloud computing, and believe that world class support is critical to customer success. Every day will bring new and exciting challenges on the job while your team:  * Manages assigned Enterprise accounts and oversee support cases  * Completes analysis and presents periodic reviews of operational performance to customer  * Provides detailed reviews of service disruptions, metrics, detailed pre-launch planning  * Makes recommendations on how new AWS offerings fit in the company architecture  * Advocate for customer features and requirements within AWS (be their voice internally)  * Participates in customers meetings (onsite or via phone)  * Knows and uses all key customer resolution tools across all service groups to facilitate rapid resolution of customer concerns.  * Works directly with Amazon Web Service engineers to ensure that customer issues are resolved as expediently as possible Basic Qualifications  * Bachelor's degree in Information Science / Information Technology, Computer Science, Engineering, Mathematics, Physics, or a related field or equivalent work experience.  * 5+ years managing technical teams Preferred Qualifications  * Excellent oral and written communication skills  * Passionate about customers and new technology  * Experience working with Enterprise software companies  * Past experience as a systems administration, network engineer, or software development engineer  * Innovative thinking and bias for action balanced with a strong customer and quality focus  * Record of driving projects to improve support-related processes and the technical support experience  * Proficient in speaking and writing the English language Amazon is an Equal Opportunity-Affirmative Action Employer - Minority / Female / Disability / Veteran / Gender Identity / Sexual Orientation åÊ Posted Date:  11/4/2016\",\n",
       " \"We are innovating on how customers globally interact with Amazon products and services, and are looking for a lead software engineer to help us revolutionize the localization of content for the organization. Like challenging, fast pace environments and have a passion for data, languages, and other cultures? Enjoy working with engineers in and organization that deals with some of the largest scale problems across Amazon? If so, the Localization Machine Translation team wants to talk to you. As a Software Engineer you will work with your manager to lay out and own the architectural vision and engineering leadership for a team of highly skilled software engineers in the machine translation space. Sr. Engineers at Amazon are thought leaders and force multipliers who help develop and enhance the talent around them. In this specific role, you will get to work with the latest AWS and MT technologies in the industry to build next-generation localization and translation solutions to benefit all of Amazon. In partnership with the rest of the Localization Platform group your team will assist in assuring operation excellence across all of Amazon's localization services. This is a unique opportunity at Amazon with great exposure as all of Amazon will be your customer! If you like to work hard, have fun, and make a difference, this is the team for you! Key Responsibilities: åÊ * Act as a builder and architect, design, and develop world class, scalable distributed systems.  * Recruit, hire, mentor and coach Software Development Engineers.  * Interface with our internal customers to understand requirements, set priorities and communicate direction and progress.  * Take on hard, ambiguous problems and articulate solutions that will be able to serve broader Amazon.  * Help develop long-term technical and business strategies in the machine translation space. Amazon is an Equal Opportunity-Affirmative Action Employer - Minority / Female / Disability / Veteran / Gender Identity / Sexual Orientation. Basic Qualifications  * Bachelor's and/or Master's Degree in Computer Science or related degree.  * 6+ years of professional software development experience  * Strong architectural and system design skills in Java, C#, Scala, or other high-scale programming language. Preferred Qualifications  * Exceptional customer support focus and skills  * Experience with data mining, report analysis, and data modeling  * Experience with Java and web based technologies  * Experience with Machine Translation technologies  * Knowledge of Localization and Internationalization  * Experience working pragmatically under deadlines with operational software  * Candidates must possess strong verbal and written communication skills and demonstrated technical leadership.  * Experience in an engineering leadership position where you have been the owner of a technical architecture with other engineers working under your guidance.  * Strong business and technical vision.  * Experience in development of distributed/scalable systems and high-volume transaction applications.  * Multilingual (any language other than English) åÊ Posted Date:  12/8/2016\",\n",
       " \"Amazon's Browser Integration team (BIT) is looking for an experienced, innovative, results-oriented Software Development Engineer. We are building web app platforms on PC and mobile that make Amazon products and services available on virtually all the web enabled devices. We are a fast growing revenue channel for Amazon. We own and maintain Amazon's official app in the Windows, Chrome, Firefox, Opera, IE and other tablet/browser app stores. As a senior member of our Browser Tech team you will own the modules of App Platform and Services teams. You'll work with a very talented team of software engineers to implement innovative and cutting edge technologies across our whole stack. You will work on extending our existing app platform, services and features. You will also work on adding new services and features like Notifications, Personalized Apps and Content to new platforms- Mobile, TVs, Game Consoles. You should be an experienced Software Enginer with expertise in building internet-scale applications and working with cutting edge web technologies. You should have a proven ability to design and deliver infrastructure and processes to ensure robustness of a technical service in the face of failure around it. You should be a very strong team player able to work with globally distributed teams. Key Responsibilities: åÊ * Develop and execute roadmaps for all our platforms, partners  * Follow Agile/ Scrum best practices in your day to day work  * Mentor and develop other members of the team  * Work closely with other engineers to develop and deliver the best technical solution using the latest tools/ technologies available.  * Work with product management to define the product roadmap Basic Qualifications  * Bachelor's degree in mathematics, computer science, or related field  * 5+ years of relevant engineering experience  * Experience with building complex, robust and large scale web applications.  * Experience with building internet-scale distributed systems  * Strong Java, J2EE, C++, C coding experience  * Good understanding of Agile/SCRUM, SDLC and other software methodologies  * Strong written and verbal communication  * Strong data structures, design knowledge Preferred Qualifications  * Ability to handle multiple competing priorities in a fast-paced environment  * Experience implementing a large scale, distributed, complex web based project from conceptualization to deployment  * Strong understanding of design patterns, data structures and SOA concepts  * Any native mobile app experience  * Experience with working with OEM and 3rd party partners åÊ Posted Date:  12/9/2016\",\n",
       " \"The team is looking for a development leader to drive our development efforts.  This role requires working closely with product management and design to define strategy and requirements, and leading development teams from concept through delivery and subsequent operation. This position involves regular communication with senior management on status, risks and product strategy. Excellent listening, writing skills and very strong technical competency are essential. The ideal candidate has experience through multiple complete product development cycles, possesses superior analytical abilities and product judgment. This opportunity requires excellent technical, problem-solving, and communication skills. Key to success in this position is an equal passion for delivering new features as well as operating the current applications at the highest level of quality, ensuring that our customers have a world-class experience. Ideal candidates have experience leading medium sized development teams, defining projects and features, coordinating efforts to scope, schedule, and deploy new features sets; as well as analyzing cost/benefit of feature selection with a rigorous approach to gathering and evaluating data and communicating results throughout the organization. Knowledge of the following is required: programming (including Objective C, C++, Java, messaging protocols, and web services), build processes, project management, release schedules. The ideal candidate will have 7 or more years of relevant work experience in internet-related program and/or technical product management in a software applications environment. A bachelor degree in computer science or a related discipline is requirement. Basic Qualifications  * Bachelor's degree in Computer Science, Computer Engineering or related technical discipline  * 7+ years of relevant engineering experience  * 3+ years people management experience Preferred Qualifications  * Deep hands-on technical expertise  * Experience with OOD and object oriented languages  * Excellent verbal and written communication skills  * Strong business and technical vision  * Ability to handle multiple competing priorities in a fast-paced environment  * A deep understanding of software development in a team, and a track record of shipping software on time  * Exceptional customer relationship skills including the ability to discover the true requirements underlying feature requests, recommend alternative technical and  * Business approaches, and lead engineering efforts to meet aggressive timelines with optimal solutions Amazon.com is an Equal Opportunity-Affirmative Action Employer - Minority / Female / Disability / Veteran / Gender Identity / Sexual Orientation åÊ Posted Date:  12/8/2016\",\n",
       " \"Goodreads is the world's largest site for readers and book recommendations. Founded in 2007, Goodreads is where readers find and share books they love. Avid and casual readers alike discover new books by seeing what their friends are reading or by using the Goodreads Book Recommendation Engine; share ratings and recommendations, track what they have read, list what they want to read as well as connect with readers and authors. Goodreads is a subsidiary of Amazon. At Goodreads, our core belief is the right book in the right hands at the right time can change the world. Goodreads is looking for a highly qualified Technical Program Manager, TPM, who will initially be responsible for one of Goodreads' core business initiatives: connecting authors to Goodreads readers. Our author program has multiple large features to define and build. They are a huge opportunities for a TPM who wants to work on large projects that affect millions of customers and develop new revenue streams for Goodreads. Bring your vision for how we will connect authors with readers and be a part of it coming to fruition! As a TPM, you will anticipate bottlenecks, provide escalation management, anticipate and make tradeoffs, and balance business needs versus technical constraints. An ability to take large complex projects and break them down into manageable pieces, develop functional specifications, then deliver them in a successful and timely manner is expected. Maturity, high judgment, negotiation skills, ability to influence, analytical talent, and leadership are essential to success in this role. Responsibilities  * Provide technical project leadership for software solutions as applications are built and integrated into existing Goodreads and Amazon ecosystems, delivering goals efficiently  * Serve as the technical coordinator between Goodreads and other software development teams within Amazon to translate feature requests into technical specifications and ensure successful integration  * Engage with senior leadership and stakeholders across the company to define project priorities and requirements  * Maintain a complete, transparent project schedule and communicate to key stakeholders across Goodreads and Amazon  * Mentor high-performance teams through rigorous goal-setting, disciplined attention to performance metrics, and continuous process improvement Basic Qualifications Basic Qualifications  * Bachelor's degree in Computer Science, Computer Engineering or related technical discipline  * 5+ years experience in managing technical projects and a track record of shipping software on time Preferred Qualifications  * You take full ownership of your project; sometimes this means building high-level strategic initiatives, sometimes this means rolling up your sleeves and diving into the technical details  * You have obsessive customer focus  * Your technical expertise is a given: you aren't fazed when diving into different tech stacks to understand the specifics of an issue. You can then explain the issue to a three year old  * You are right, a lot: you have great instincts and make smart decisions quickly  * Your colleagues wonder how they ever delivered projects without you; they trust and rely on your work  * You can juggle and prioritize multiple competing demands, both urgent and of long-term importance  * When you find chaos you can't rest until it's organized  * You're committed to growing your skills and expanding your scope of influence  * You have excellent program management background across diverse projects. You share your tips and tricks with those around you  * You are passionate about helping Goodreads authors engage with their readers  * You are data driven and use data to support your ideas, drive actionable outcomes, and identify opportunities for partnerships across Amazon  * You have an entrepreneurial spirit åÊ Posted Date:  12/9/2016\",\n",
       " \"Amazon Prime, is the membership program that gives customers a premium experience on Amazon.com. These benefits include free two-day shipping benefits on millions of items, free unlimited streaming on thousands of videos, access to the Kindle Owner's Lending Library, and much much more. The program is experiencing explosive growth and as a result our team is looking to hire top-notch engineers. If you want to work on one of Amazon.com's most impactful program and are passionate about writing code that impacts millions of people every day, then the Amazon Prime Team is interested in hearing from you. The Prime team seeks talented engineers who take great pride in both the technical and business contribution of their work. You will be given the chance to have a significant impact on our systems, our business and most importantly, our customers. As a member of the Prime team, you will work closely with the business team to design and implement new features. As a member of the Prime platform team, you will build the next generation intelligent message targeting platform, business logic hosting environment and content management system. You will need to use data mining technology to enhance our targeting efficiency. The distributed system you are building needs to scale for hundreds of millions requests per day. You have direct ownership over the design and architecture of new components aimed at improving the platform's extensibility, scalability, availability and latency. Basic Qualifications Basic Qualifications  * 3+ years professional experience in software development  * Computer Science fundamentals in object-oriented design  * Computer Science fundamentals in data structures  * Computer Science fundamentals in algorithm design, problem solving, and complexity analysis  * Proficiency in, at least, one modern programming language such as C, C++, Java, or Perl  * Bachelor's Degree in Computer Science or related field Preferred Qualifications Preferred Qualifications  * Development experience on a UNIX or Linux platform  * Experience with web services and cloud computing  * Ability to clearly and concisely communicate with technical and non-technical customers in order to understand ambiguous problems and articulate technical challenges and solutions to complex problems åÊ Posted Date:  12/9/2016\",\n",
       " \"The EC2 Windows business is a dynamic fast growing business that serves developers and enterprise customers to run Windows workloads on AWS. The EC2 Windows team is responsible for driving the growth of this business by deeply understanding our customer's needs and working to make it easy and affordable for customers to run their Windows workloads on AWS. The business is looking for experienced System engineers who will help the business drive forward. In this role, you will: åÊ * Help business define and ship innovative features and experiences for customers.  * Understand Windows internals and help with defining Windows behavior on different hypervisors.  * Develop scripts and programs that will qualify Windows OS platform.  * Troubleshoot complicated performance issues and build solutions for best performance improvement.  * Help drive operational efficiency for the EC2 Windows service.  * Build solid automated toolset to enable customers for self-service.  * Mentor junior system engineers.  * Basic Qualifications  * Passion for delivering a great customer experience  * Strong knowledge of Windows OS and troubleshooting tools  * Solid PowerShell scripting skills  * Experience with Windows and Windows related technologies including networking, identity and storage  * Experience with Windows internal and kernel debugging and different virtualization platforms.  * Results oriented  * Has the innate ability to inspire passion in others  * Bachelor's Degree Preferred Qualifications  * Knowledge of AWS products  * Knowledge of Microsoft Office 365 and Lync Server  * Knowlege of Active Directory (architecture, design, disaster recovery and troubleshooting), IIS, ISA & TMG.  * Windows and Linux OS Debugging skills  * Experience with network captures and network troubleshooting åÊ Posted Date:  4/26/2016\",\n",
       " 'Your job will be to take Amazon\\'s massive infrastructure, make it run as lean and efficiently as possible, all while enabling the company to stay on the bleeding edge of growth and innovation. As a member of Amazon\\'s Efficiency, you will be focused on automating best practices, streamlining deployment processes, and building systems to uphold coding standards. Our Efficiency program is building automated controls to reduce infrastructure spend using detective and preventive mechanisms that review both algorithmic efficiency and lean hardware provisioning. Working with our stakeholders in Worldwide Consumer -- development teams that build components of our commerce experience -- we identify and drive cost-saving opportunities. The Efficiency Team is looking for a strong, senior software development manager to build the systems and tools to support our efficiency program and drive continuous technology improvements across the company. Our ideal candidate will have experience with shifting engineering culture to adopt \"cost as an engineering constraint\". We expect that in addition to developing and identifying best efficiency practices, you will help educate teams on how to incorporate these practices into their daily work. You will build a team which partners with teams across the company, deep dive, and understand how to balance customer obsession, availability, agility, and high performance in Amazon\\'s unique enterprise service oriented environment. The systems you build will influence the operations of hundreds of teams and thousands of services. You will have the sponsorship you need from the Consumer organization\\'s top leaders to identify potential efficiency improvements in all facets of technology including: modernizing tooling and platforms; benchmarking throughput/dollar of AWS\\' latest hardware and services; identifying and driving out large classes of waste; and simplifying complex and inefficient architectures to optimize service performance. Among your team\\'s legacy will be continuous and automatic diagnostic profiling which will drive continuous improvement across all teams. You will lead all phases of software development to build services to support our goal. Your systems will drive service and product efficiency opportunities, from idea generation to scoping, to strategy building and ultimately automation for self-monitoring, self-diagnosing and self-healing solutions. As the successful candidate, you will be a rock star manager, be data driven, have the ability to creatively deal with ambiguity, and juggle cross-organization complexity. You will also have the leadership skills to influence your peers to build scalable and cost-effective systems. If you are interested in making a difference, come join our team. We\\'ve been waiting for you! Professional traits that are not unique to this position, but necessary for Amazon leaders:  * Exhibits excellent judgment  * Hires and develops great people  * Has relentlessly high standards (is never satisfied with the status quo)  * Is able to dive deep and is never out of touch with the details of the business or the technology  * Expects and requires innovation of her/his team  * Has passion and convictions and the innate ability to inspire passion in others  * Strong results orientation  * Thinks big Basic Qualifications  * Bachelor\\'s degree in Computer Science, Computer Engineering or related technical discipline  * 7+ years of relevant engineering experience  * 7+ years of relevant engineering experience managing a software development team, and a proven track record of shipping software on time.  * 2+ years people management experience  * Experience with OOD and object oriented languages Preferred Qualifications  * Deep hands-on technical expertise  * Excellent verbal and written communication skills  * Strong business and technical vision  * Ability to handle multiple competing priorities in a fast-paced environment  * A deep understanding of software development in a team, and a track record of shipping software on time  * Exceptional customer relationship skills including the ability to discover the true requirements underlying feature requests, recommend alternative technical and business approaches, and lead engineering efforts to meet aggressive timelines with optimal solutions åÊ Posted Date:  9/1/2016',\n",
       " \"The Data Center Global Services (DCGS) organization is looking for a passionate, results-oriented, inventive software development manager to drive data center tool development, focused on data integration and service oriented architectures, to automate and streamline our operations. The ideal candidate thrives in a fast-paced environment, understands the best practices for service oriented architectures, and will help us match an assortment of tools and data to the detailed workflows they support. As the manager, you will have technical ownership of many of our core components and you will have responsibility for development of new services and tools. You'll lead a talented and nimble team of engineers to create innovative ways to drive efficient workflows, define data sources, and create a data exchange.  Responsibilities include hiring, development, and direct management of multiple engineers, process and quality of service improvements, strategic planning, project management for software within the team, and management of resources across teams. The successful candidates will be a strong leader who can prioritize well, communicate clearly, and have a consistent track record of delivery.  Our organization requires creative engineering balanced with high quality and customer focus. Professional traits that are not unique to this position, but necessary for Amazon leaders:  * Exhibits excellent judgment  * Hires and develops great people  * Has relentlessly high standards (is never satisfied with the status quo)  * Is able to dive deep and is never out of touch with the details of the business or the technology  * Expects and requires innovation of her/his team  * Has passion and convictions and the innate ability to inspire passion in others  * Strong results orientation  * Thinks big Basic Qualifications  * Bachelor's degree in Computer Science, Computer Engineering or relevant experience  * 7+ years of relevant engineering experience  * 2+ years people management experience  * Experience with SOA, SOAP and REST  * Experience managing teams using SCRUM/Agile development methodologies  * Experience with OOD and object oriented languages Preferred Qualifications  * Deep hands-on technical expertise  * Excellent verbal and written communication skills  * Strong business and technical vision  * Ability to handle multiple competing priorities in a fast-paced environment  * A deep understanding of software development in a team, and a track record of shipping software on time  * Exceptional customer relationship skills including the ability to discover the true requirements underlying feature requests, recommend alternative technical and business approaches, and lead engineering efforts to meet aggressive timelines with optimal solutions Amazon is an Equal Opportunity-Affirmative Action Employer - Minority / Female / Disability / Veteran / Gender Identity / Sexual Orientation. **For more information on Amazon Web Services, please visit http://aws.amazon.com.** *LI-LJ1 åÊ Posted Date:  2/11/2016\",\n",
       " \"Software Development Manager - Amazon Web Services (AWS) - Cambridge, MA  Help us reinvent the Cloud! Amazon Elastic File System (EFS) https://aws.amazon.com/efs/ is built in Cambridge, MA and publically announced in 2015. It's a fully managed service that makes it easy to set up and scale shared file storage in the AWS Cloud. Amazon EFS is designed for a wide variety of use cases: data analytics, video rendering, genomics analysis, web serving, content management, and home directories, to name a few. Amazon Web Services (AWS) is a dynamic and rapidly growing business within Amazon, with over a million active customers in 190 countries around the world. In 2015, AWS launched more than 600 new services and innovative features! We maintain this rapid pace of innovation by treating each team like its own startup inside AWS, directly accountable for their customers' satisfaction, service innovations, ambitious growth, and meeting revenue goals. As a Software Manager in this office, you will lead a team designing and building services and features that allow customers to create cloud storage solutions that are secure, reliable, completely elastic, and can grow to petabyte-scale. Delivering reliable and high-performance services and features at AWS scale requires technical leaders with extraordinary expertise and boundless creativity. At Amazon, managers will interact with customers, understand our business goals, and innovate rapidly, delivering high-quality and ground-breaking functionality. What does it take to thrive as a Software Development Manager on EFS? You need to be creative, responsible, and curious while leading the team to move quickly in turning code into customer solutions. You're excited about designing and implementing solutions that scale while also engaging individual customers in understanding their applications. You're able to think about business opportunities, operational issues, and architectural diagrams in the course of a single conversation. You're looking for a team of bright, capable engineers to work with in implementing your vision and you want to both teach and learn from other engineers around you. Basic Qualifications Basic Qualifications: åÊ * BS degree or higher in Computer Science, Engineering, or related field  * 6+ years professional experience in commercial or web-scale system software development and delivery  * 3+ years of experience building, leading, managing, and mentoring high-performance engineering teams  * Proficiency in a modern programming language such as C, C++, Java, or Python  * Understanding of operating system fundamentals (Linux or Windows)  * Deep understanding of scalable computing systems, software architecture, data structures, and algorithms  * Proficiency in network, distributed, asynchronous, and concurrent programming  * Experience in implementing professional software engineering best practices for the full software development life cycle  * Proven track record of iteratively delivering high quality software on time  * Demonstrated passion for leadership, management, and mentoring  * Possession of strong verbal and written communication skills  * Possession of strong analytical skills, with excellent problem solving abilities in the face of ambiguity Preferred Qualifications Preferred Qualifications: åÊ * Experience in Agile/SCRUM enterprise-scale software development  * Experience developing system software, distributed systems, and data networking offerings  * Knowledge of storage protocols and file system architecture  * Understanding of storage performance challenges and their solutions  * Familiarity with building secure software using modern security principles  * Experience building and operating scalable infrastructure software or distributed systems  * Demonstrated ability to achieve stretch goals in a highly innovative and fast paced environment  * Experience developing a product vision Professional traits that are not unique to this position, but are necessary for Amazon leaders:  * Exhibits excellent judgment  * Hires and develops great people  * Holds relentlessly high standards (is never satisfied with the status quo)  * Demonstrates the ability to dive deep and is never out of touch with the details of the business  * Expects and requires innovation of her/his team  * Shows passion and convictions and the innate ability to inspire passion in others  * Biases towards delivering results  * Thinks big Resumes can be sent via our career site or to bostonjobs@amazon.com for consideration For more information on Amazon careers please visit: http://www.amazon.jobs/ Amazon is an Equal Opportunity-Affirmative Action Employer - Minority / Female / Disability / Veteran / Gender Identity / Sexual Orientation AWS, AWS, AMZN, Amazon, Amazon, Amazon Web Services, Development Manager, Software Development Manager, Alexa, large scale distributed systems, distributed systems, distributed file systems, networking, cloud computing, cloud, storage, Agile, Agile, storage, TCP/IP, TCP/IP, HTTPS, HTTPS, DNS, DNS, Java, Java, Java, Java, C, C++, Linux, Linux, Python, Python, Cambridge, Cambridge, Kendall Square, Kendall Square. Boston, Boston, 02138, 02140. åÊ Posted Date:  9/9/2016\",\n",
       " \"The Shipping Platform team is looking for a talented and enthusiastic Support Engineer who is passionate about operations excellence and great customer experience.The Shipping Platform computes shipping transportation capabilities and shipping charges billions of items for Amazon\\x89Ûªs worldwide business and the results are surfaced to our buying customers in all marketplaces in all regions. Our services are architected to handle complex computation and process approx. 1 million transactions per second world wide. The role has a significant impact on our systems, our business, and, most importantly, our customers.As a Support Engineer, you are a technical lead on your team and act as a subject matter expert for one or more services. You are viewed as a support leader throughout the larger organization and are regularly engaged to work on cross-team planning. You lead large multi-team projects and resolve the most complex support issues. You understand the business impact of support decisions. You drive the team to improve operational efficiency for all services through the identification and development of SLAs, metrics, monitors, procedures, tools, and documentation. You think proactively and work to prevent support issues before they are realized. You participate in design reviews to identify and mitigate support risks. You work closely with development and QA teams to improve the change management life-cycle. You have a deep understanding of production architecture and are familiar with operating system best practices. You identify and drive small production architecture changes. You deep dive into automation issues to identify problems and work with engineering teams to resolve issues impacting fleet performance and availability. You develop automation tools to assist with daily systems administration tasks. You\\x89Ûªll be considered a subject matter expert capable of root causing all platform issues. You regularly work with management to assign tasks and small projects to other Support Engineers. You design and develop complex high performing scripts and applications. You work to solve RDBMS performance errors on Linux based systems, using DB logs and Linux performance monitoring tools. You work with other Amazon leaders to share ideas and improve support within the company. You take a role in the strategic direction of the team. You play a significant role in hiring, mentoring, and training employees. You demonstrate excellent judgment when making decisions.-Bachelor's Degree-Good skills in SQL and Unix-Good Communication skills-1 to 3 years of experience-Needs to be oncall-Programming in scripting languages (CGI, Perl , JS ..)-Debugging skills\",\n",
       " \"Amazon is seeking creative, goal-oriented and highly entrepreneurial people to join our exciting and fast-paced team. We are heads-down focused on growing and developing a smart assortment of brands and providing easy access, with the best possible shopping experience for our customers. Our team is growing and if you are equally passionate about customer experience, e-commerce and career growth, an opportunity with Amazon may be a great match!Amazon's Retail team is looking for smart, eager, hard-working, creative candidates with strong merchandising, organizational and analytical skills. These candidates will play a critical role in helping manage the business of one of our most strategic vendors in the Retail organization. The Retail organization at Amazon is divided into Hardlines, Softlines, Consumables and Media.  In this role, a successful candidate will be an effective communicator and problem-solver and someone who is able to balance the needs and requirements of both Amazon and the strategic vendor. This role is an ideal start to a dynamic career path at Amazon for an ambitious candidate who is eager to drive a business. The candidate will develop skills and work across all functional retail areas to grow and improve their vendor partner?s success on the Amazon retail platform. The candidate will be the primary contact at Amazon for the vendor partner and will coordinate both the buying and marketing components of the business. They will work closely with the vendor managers/buyers to develop and execute merchandise strategies. Also, they will create and implement site strategy and marketing efforts.  Other key tasks will include the following:Analyze sales and key metrics to identify business opportunitiesProvide recommendations to improve sales and marginBuild comprehensive brand destinations within Amazon siteCoordinate and create launch plans for new productsManage site placements and promotions based on the vendor?s event calendarDesign and execute targeted e-mails for the vendorDevelop reporting for merchandise and marketing campaignsOur environment is fast-paced, and requires someone who is flexible, detail-oriented, analytical, and comfortable working with multiple teams and management. The ideal candidate will have an acute interest in driving the growth and profitability of a strategic vendor partner on the Amazon retail platform. Bachelor's degree0-3+ years of relevant experienceExperience utilizing Excel to analyze a businessExperience using data to support business decisionsHighly skilled with software and database toolsProven track record of success in a high-energy, fast-paced environmentStrong organizational skills including prioritizing, scheduling, and time managementOutstanding interpersonal and communication skillsAbility to communicate effectively at all levels of an organizationProactive attitude, detail-oriented, and a team player/ *LI-SL1\",\n",
       " \"Are you a technical leader who wants to own critical, highly scalable systems, and spur innovation? Can you attract and grow the engineering talent needed for those kinds of challenges? Are you skilled at managing complex projects that require interacting with both technical as well as business folks?The Tax Software Platform team, part of eCommerce Services at Amazon, owns the tax calculation platform and provides the core services that calculate the accurate amount of transactional taxes (sales tax and Value Added Tax) on Amazon. We're at the intersection of software that can never go down and need to move at agile, internet speed. We're at the hub of Amazon's massive, worldwide service-oriented architecture. We are looking for a Software Development Manager who is excited about leading a talented team to innovate, tackle complex problems and operate a complex and mission critical system under extreme loads.We\\x89Ûªre looking for a technical leader who can own a set of core services, own driving Operational Excellence for those services and be a focal point for project management. This team will own a broad array of tax services - the core calculation service, the very high end tax transactions on the back end, the generic rules engine for determining product tax codes and our core calculation engines.The successful candidate is expected to be a hands-on technical manager who understands and sets a high bar for all parts of the software development and deployment lifecycle including: design, development, documentation, testing and operations. You must possess strong verbal and written communication skills, be self-driven and deliver high quality results in a fast paced environment. We're looking for people who are smart and can get things done.eCPSteam* BS degree or higher in CS* Have a strong sense of ownership, urgency and drive* Be a strong leader, mentor, recruiter, people manager* Has 10+ years of experience, with at least 5-10+ year managing development teams* Work effectively across functional teams* Experience in managing projects and delivering quality releases on schedule* Experience in building and leading development of complex software systems* Good judge of top software engineering talent, and ability to grow their careers* Ability to work well with clients and juggle competing demands, good communication skills* Experience with off-shore development* Experience with large scale distributed systems\",\n",
       " \"AmazonFresh is Amazon\\x89Ûªs grocery and non-grocery home delivery service in Seattle, Northern California, Southern California, and New York that delivers unique selection and incredible convenience to our customers. Customers order fresh produce, locally-sourced meat and seafood, dry goods, and non-grocery items, select the time slot of their choice for delivery, and find our trucks at their homes when the time arrives. We are looking for a TPM to drive software initiatives in retail systems. The Retail team owns inventory management, selection, pricing, vendor negotiations, and marketing for the AmazonFresh business.We're seeking a Technical Program Manager to deliver projects to automate and improve the tools the Retail team uses to maintain the customer experience, drive expansion, grow profitability. In this role you will be responsible for scoping and delivering large projects end-to-end. Responsibilities include collection of business and systems requirements from internal and external customers, writing specifications, driving project schedules from design to release, and managing the production launch. You will lead and coordinate design/implementation efforts between internal teams and outside merchants and vendors to develop optimal solutions. You will be expected to make appropriate tradeoffs to optimize time-to-market, clearly communicate goals, roles, responsibilities, and desired outcomes to internal cross-functional and remote project teams.The right candidate will possess a strong program management background, will have demonstrated experience leading medium to large projects, and will have a well-rounded technical background in current web technologies. You must be able to thrive and succeed in an entrepreneurial environment, and not be hindered by ambiguity or competing priorities. This means you are not only able to develop and drive high-level strategic initiatives, but can also roll up your sleeves, dig in and get the job done. As a TPM, you will anticipate bottlenecks, provide escalation management, anticipate and make tradeoffs, and balance the business needs versus technical constraints. An ability to take large, complex projects and break them down into manageable pieces, develop functional specifications, then deliver them in a successful and timely manner is expected. Maturity, high judgment, negotiation skills, ability to influence, analytical talent and leadership are essential to success in this role.BASIC QUALIFICATIONS\\x89Û¢ Bachelor's degree and/or Master's degree in Computer Science or related technical discipline\\x89Û¢ 3+ years of coding experience\\x89Û¢ 5+ years of Technical Program Management experience in a related industry\\x89Û¢ Knowledge of best practices for software construction, planning, and operationsPREFERRED QUALIFICATIONS\\x89Û¢ Success delivering products/services in a high-growth environment, exhibiting ability to identify and solve ambiguous customer-focused problems\\x89Û¢ High attention to detail with proven ability to juggle multiple, competing priorities simultaneously and make things happen in a fast-paced, dynamic environment\\x89Û¢ Excellent interpersonal skills; ability to work successfully with teams across the organization, including Engineering, Program Management, Quality Assurance, and Senior Leadership\\x89Û¢ Strong analytical and quantitative skills; ability to use hard data and metrics to back up assumptions and opinions\",\n",
       " \"Are you a Big Data expert? Would you like to solve the most complex and high scale data challenges in the world? At AWS, we're hiring highly technical cloud computing architects to collaborate with our customers and partners on key engagements. Our consultants will develop and deliver proof-of-concept projects, technical workshops, and support implementation projects. These professional services engagements will focus on customer solutions such as HPC, batch data processing, Big Data and Business intelligence. This role will specifically focus on Data processing capabilities and helping our customers and partners to remove the constraints that prevent our customers from leveraging their data to develop business insights. Responsibilities include: åÊ * Expertise - Collaborate with AWS field sales, pre-sales, training and support teams to help partners and customers learn and use AWS services such as Amazon Elastic Compute Cloud (EC2), Amazon Data Pipeline, S3, DynamoDB NoSQL, Relational Database Service (RDS), Elastic Map Reduce (EMR) and Amazon Redshift.  * Solutions - Deliver on-site technical engagements with partners and customers. This includes participating in pre-sales on-site visits, understanding customer requirements, creating consulting proposals and creating packaged Big Data service offerings.  * Delivery - Engagements include short on-site projects proving the use of AWS services to support new distributed computing solutions that often span private cloud and public cloud services. Engagements will include migration of existing applications and development of new applications using AWS cloud services. Amazon aims to be the most customer centric company on earth. Amazon Web Services (AWS) provides a highly reliable, scalable, low-cost infrastructure platform in the cloud that powers critical applications for hundreds of thousands of businesses in 190 countries around the world. Basic Qualifications  * Customer facing skills to represent AWS well within the customer's environment and drive discussions with senior personnel regarding trade-offs, best practices, project management and risk mitigation  * Demonstrated ability to think strategically about business, product, and technical challenges in an enterprise environment.  * Highly technical and analytical, possessing 5+ years of IT platform implementation experience.  * Deep understanding of database and analytical technologies in the industry including MPP databases, NoSQL storage, Data Warehouse design, BI reporting and Dashboard development.  * Implementation and tuning experience for Apache Hadoop + tools such as Pig and Hive.  * Current hands-on implementation experience required; individual contributors only need apply.  * Strong verbal and written communications skills and ability to lead effectively across organizations.  * BS level technical degree required; Computer Science or Math background preferred. Preferred Qualifications  * Hands on experience leading large-scale global data warehousing and analytics projects.  * Demonstrated industry leadership in the fields of database, data warehousing or data sciences.  * Implementation and tuning experience specifically using Amazon Elastic Map Reduce + tools such as Pig and Hive.  * Track record of implementing AWS services in a variety of distributed computing, enterprise environments. Amazon Web Services - AWS - Professional Services - Solution Architect - Consultant åÊ Posted Date:  4/6/2016\",\n",
       " \"Software Development Manager - Amazon Web Services (AWS) - Cambridge, MA. Help us reinvent the Cloud! Amazon Elastic File System (EFS) https://aws.amazon.com/efs/ is built in Cambridge, MA and publicly announced in 2015. It's a fully managed service that makes it easy to set up and scale shared file storage in the AWS Cloud. Amazon EFS is designed for a wide variety of use cases: data analytics, video rendering, genomics analysis, web serving, content management, and home directories, to name a few. Amazon Web Services (AWS) is a dynamic and rapidly growing business within Amazon, with over a million active customers in 190 countries around the world. In 2015, AWS launched more than 600 new services and innovative features! We maintain this rapid pace of innovation by treating each team like its own startup inside AWS, directly accountable for their customers' satisfaction, service innovations, ambitious growth, and meeting revenue goals. As a Software Development Manager in this office, you will lead a team designing and building services and features that allow customers to create cloud storage solutions that are secure, reliable, completely elastic, and can grow to petabyte-scale. Delivering reliable and high-performance services and features at AWS scale requires technical leaders with extraordinary expertise and boundless creativity. At Amazon, managers will interact with customers, understand our business goals, and innovate rapidly, delivering high-quality and ground-breaking functionality. What does it take to thrive as a Software Development Manager on EFS? You need to be creative, responsible, and curious while leading the team to move quickly in turning code into customer solutions. You're excited about designing and implementing solutions that scale while also engaging individual customers in understanding their applications. You're able to think about business opportunities, operational issues, and architectural diagrams in the course of a single conversation. You're looking for a team of bright, capable engineers to work with in implementing your vision and you want to both teach and learn from other engineers around you. Basic Qualifications Basic Qualifications: åÊ * BS degree or higher in Computer Science, Engineering, or related field  * 6+ years professional experience in commercial or web-scale system software development and delivery  * 3+ years of experience building, leading, managing, and mentoring high-performance engineering teams  * Proficiency in a modern programming language such as C, C++, Java, or Python  * Understanding of operating system fundamentals (Linux or Windows)  * Deep understanding of scalable computing systems, software architecture, data structures, and algorithms  * Proficiency in network, distributed, asynchronous, and concurrent programming  * Experience in implementing professional software engineering best practices for the full software development life cycle  * Proven track record of iteratively delivering high quality software on time  * Demonstrated passion for leadership, management, and mentoring  * Possession of strong verbal and written communication skills  * Possession of strong analytical skills, with excellent problem solving abilities in the face of ambiguity Preferred Qualifications Preferred Qualifications: åÊ * Experience in Agile/SCRUM enterprise-scale software development  * Experience developing system software, distributed systems, and data networking offerings  * Knowledge of storage protocols and file system architecture  * Understanding of storage performance challenges and their solutions  * Familiarity with building secure software using modern security principles  * Experience building and operating scalable infrastructure software or distributed systems  * Demonstrated ability to achieve stretch goals in a highly innovative and fast paced environment  * Experience developing a product vision Professional traits that are not unique to this position, but are necessary for Amazon leaders:  * Exhibits excellent judgment  * Hires and develops great people  * Holds relentlessly high standards (is never satisfied with the status quo)  * Demonstrates the ability to dive deep and is never out of touch with the details of the business  * Expects and requires innovation of her/his team  * Shows passion and convictions and the innate ability to inspire passion in others  * Biases towards delivering results  * Thinks big Resumes can be sent via our career site or to bostonjobs@amazon.com for consideration For more information on Amazon careers please visit: http://www.amazon.jobs/ Amazon is an Equal Opportunity-Affirmative Action Employer - Minority / Female / Disability / Veteran / Gender Identity / Sexual Orientation AWS, AWS, AMZN, Amazon, Amazon, Amazon Web Services, Development Manager, Software Development Manager, Alexa, Prime, large scale distributed systems, distributed systems, distributed file systems, networking, cloud computing, cloud, storage, Agile, Agile, storage, TCP/IP, TCP/IP, HTTPS, HTTPS, DNS, DNS, Java, Java, Java, Java, C, C++, Linux, Linux, Python, Python, Cambridge, Cambridge, Kendall Square, Kendall Square. Boston, Boston, 02138, 02140. åÊ Posted Date:  12/23/2016\",\n",
       " \"Sr Linux DevOps Engineer - Amazon Web Services Elastic File Systems Team - Cambridge, MA. Amazon Web Services (AWS) is a dynamic and rapidly growing business within Amazon, with over a million active customers in 190 countries around the world. Last year, AWS launched more than 600 new services and innovative features! We maintain this rapid pace of innovation by treating each team like its own startup inside AWS, directly accountable for their customers' satisfaction, service innovations, ambitious growth, and meeting revenue goals. As a Sr Linux DevOps Engineer on the Elastic File Systems (EFS) team, you will design, build, and operate services and features that allow customers to create cloud storage solutions that are secure, reliable, completely elastic, and can grow to petabyte-scale. Delivering reliable and high-performance services and features at AWS scale requires engineers with extraordinary technical expertise and boundless creativity. At Amazon, engineers will interact with customers, understand our business goals, and innovate rapidly, delivering high-quality and ground-breaking functionality.  Amazon Elastic File System (EFS) is built in Cambridge, MA and publicly launched June 29, 2016. It's a fully managed service that makes it easy to set up and scale shared file storage in the AWS Cloud. Amazon EFS is designed for a wide variety of use cases: data analytics, video rendering, genomics analysis, web serving, content management, and home directories, to name a few. https://aws.amazon.com/efs/  What does it take to thrive as a senior engineer on EFS? It's more than plugging computers together or tracking changes. You need to be excited (and a little frightened) by the scale at which we work. You roll up your sleeves and deep-dive analyze to solve problems, and design and build solutions that scale. You're excited to learn from others while bringing your own novel capabilities and perspectives, and you're intellectually curious and dedicated to turning customers into raving fans. If this sounds like you, join us and do something that matters. Basic Qualifications Basic Qualifications: åÊ * Bachelor's degree or higher in Computer Science, Engineering, other technical degree, or related experience  * 6+ years professional experience in commercial or web-scale system engineering  * Expert skill in a scripting language such as Bash, Python, or Ruby  * Experience running and maintaining a 24x7 production computing environment  * Deep understanding of scalable computing systems  * Linux or Windows system administration or development  * Passion for technical leadership and mentoring  * Strong verbal and written communication skills  * Strong analytical skills, with excellent problem solving abilities Preferred Qualifications Preferred Qualifications: åÊ * Experience in scalable Agile/SCRUM/Kanban enterprise-scale software development  * Experience with deployment management tools such as Puppet, Chef, or Ansible  * Experience with a modern programming language such as C, C++, or Java  * Understanding of network fundamentals  * Understanding of distributed storage performance challenges and their solutions  * Experience with secure system configuration and security principles  * Demonstrated ability to achieve stretch goals in a highly innovative and fast paced environment  * Team leadership experience (mentoring, lead projects and small teams, interview, code reviews, etc) Professional traits that are not unique to this position, but are necessary for Amazon leaders:  * Exhibits excellent judgment  * Hires and develops great people  * Holds relentlessly high standards (is never satisfied with the status quo)  * Demonstrates the ability to dive deep and is never out of touch with the details of the business  * Expects and requires innovation of her/his team  * Shows passion and convictions and the innate ability to inspire passion in others  * Biases towards delivering results  * Thinks big  Resumes can be sent to bostonjobs@amazon.com or via our career site for consideration For more information on Amazon Web Services please visit: http://aws.amazon.com/ Amazon was founded by Jeff Bezos in 1994 and is the world's largest internet based company in the world by total sales and market capitalization. Amazon is a company of builders and we strive to invent products and services which benefit our customers. A brief sample of our innovations would include: Amazon Web Services offers a robust, fully featured technology infrastructure platform in the cloud comprised of a broad set of compute, storage, database, analytics, application, and deployment services. Amazon Alexa is a new category of device designed around your voice. Our mission is to push the envelope in Automatic Speech Recognition (ASR), Natural Language Understanding (NLU), and Audio Signal Processing, in order to provide the best-possible experience for our customers Amazon Kindle E-Reader is part of the Devices team which also includes Fire TV, Fire Tablets, and Amazon Dash Amazon Audible is the world's largest seller and producer of spoken audio entertainment, information and educational programming. Machine learning, speech recognition and data mining techniques are utilized to create scalable solutions for business problems Amazon is an Equal Opportunity-Affirmative Action Employer - Minority / Female / Disability / Veteran / Gender Identity / Sexual Orientation C++, C++, object oriented, Java, Java, Java, Linux, Linux, Storage, Storage, Storage, large scale distributed file systems, distributed file systems, virtualization, virtualization, high availability, EC2, EC2, Cambridge, Cambridge, MA. Java Developer, Senior Software Engineer, Principal Software Developer, Principal Software Engineer, Boston Software Engineer careers, Boston Software jobs, Cloud, Cloud, Cloud, Kendall Square, Kendall Square, Boston, 02142, 02142 åÊ Posted Date:  12/24/2016\",\n",
       " \"Sr Linux DevOps Engineer - Amazon Web Services Elastic File Systems Team - Cambridge, MA. Amazon Web Services (AWS) is a dynamic and rapidly growing business within Amazon, with over a million active customers in 190 countries around the world. Last year, AWS launched more than 600 new services and innovative features! We maintain this rapid pace of innovation by treating each team like its own startup inside AWS, directly accountable for their customers' satisfaction, service innovations, ambitious growth, and meeting revenue goals. As a Sr Linux DevOps Engineer on the Elastic File Systems (EFS) team, you will design, build, and operate services and features that allow customers to create cloud storage solutions that are secure, reliable, completely elastic, and can grow to petabyte-scale. Delivering reliable and high-performance services and features at AWS scale requires engineers with extraordinary technical expertise and boundless creativity. At Amazon, engineers will interact with customers, understand our business goals, and innovate rapidly, delivering high-quality and ground-breaking functionality.  Amazon Elastic File System (EFS) is built in Cambridge, MA and publicly launched June 29, 2016. It's a fully managed service that makes it easy to set up and scale shared file storage in the AWS Cloud. Amazon EFS is designed for a wide variety of use cases: data analytics, video rendering, genomics analysis, web serving, content management, and home directories, to name a few. https://aws.amazon.com/efs/  What does it take to thrive as a senior engineer on EFS? It's more than plugging computers together or tracking changes. You need to be excited (and a little frightened) by the scale at which we work. You roll up your sleeves and deep-dive analyze to solve problems, and design and build solutions that scale. You're excited to learn from others while bringing your own novel capabilities and perspectives, and you're intellectually curious and dedicated to turning customers into raving fans. If this sounds like you, join us and do something that matters. Basic Qualifications Basic Qualifications: åÊ * Bachelor's degree or higher in Computer Science, Engineering, other technical degree, or related experience  * 6+ years professional experience in commercial or web-scale system engineering  * Expert skill in a scripting language such as Bash, Python, or Ruby  * Experience running and maintaining a 24x7 production computing environment  * Deep understanding of scalable computing systems  * Linux or Windows system administration or development  * Passion for technical leadership and mentoring  * Strong verbal and written communication skills  * Strong analytical skills, with excellent problem solving abilities Preferred Qualifications Preferred Qualifications: åÊ * Experience in scalable Agile/SCRUM/Kanban enterprise-scale software development  * Experience with deployment management tools such as Puppet, Chef, or Ansible  * Experience with a modern programming language such as C, C++, or Java  * Understanding of network fundamentals  * Understanding of distributed storage performance challenges and their solutions  * Experience with secure system configuration and security principles  * Demonstrated ability to achieve stretch goals in a highly innovative and fast paced environment  * Team leadership experience (mentoring, lead projects and small teams, interview, code reviews, etc) Professional traits that are not unique to this position, but are necessary for Amazon leaders:  * Exhibits excellent judgment  * Hires and develops great people  * Holds relentlessly high standards (is never satisfied with the status quo)  * Demonstrates the ability to dive deep and is never out of touch with the details of the business  * Expects and requires innovation of her/his team  * Shows passion and convictions and the innate ability to inspire passion in others  * Biases towards delivering results  * Thinks big  Resumes can be sent to bostonjobs@amazon.com or via our career site for consideration For more information on Amazon Web Services please visit: http://aws.amazon.com/ Amazon was founded by Jeff Bezos in 1994 and is the world's largest internet based company in the world by total sales and market capitalization. Amazon is a company of builders and we strive to invent products and services which benefit our customers. A brief sample of our innovations would include: Amazon Web Services offers a robust, fully featured technology infrastructure platform in the cloud comprised of a broad set of compute, storage, database, analytics, application, and deployment services. Amazon Alexa is a new category of device designed around your voice. Our mission is to push the envelope in Automatic Speech Recognition (ASR), Natural Language Understanding (NLU), and Audio Signal Processing, in order to provide the best-possible experience for our customers Amazon Kindle E-Reader is part of the Devices team which also includes Fire TV, Fire Tablets, and Amazon Dash Amazon Audible is the world's largest seller and producer of spoken audio entertainment, information and educational programming. Machine learning, speech recognition and data mining techniques are utilized to create scalable solutions for business problems Amazon is an Equal Opportunity-Affirmative Action Employer - Minority / Female / Disability / Veteran / Gender Identity / Sexual Orientation C++, C++, object oriented, Java, Java, Java, Linux, Linux, Storage, Storage, Storage, large scale distributed file systems, distributed file systems, virtualization, virtualization, high availability, EC2, EC2, Cambridge, Cambridge, MA. Java Developer, Senior Software Engineer, Principal Software Developer, Principal Software Engineer, Boston Software Engineer careers, Boston Software jobs, Cloud, Cloud, Cloud, Kendall Square, Kendall Square, Boston, 02142, 02142 åÊ Posted Date:  12/24/2016\",\n",
       " \"Sr Linux DevOps Engineer - Amazon Web Services Elastic File Systems Team - Cambridge, MA. Amazon Web Services (AWS) is a dynamic and rapidly growing business within Amazon, with over a million active customers in 190 countries around the world. Last year, AWS launched more than 600 new services and innovative features! We maintain this rapid pace of innovation by treating each team like its own startup inside AWS, directly accountable for their customers' satisfaction, service innovations, ambitious growth, and meeting revenue goals. As a Sr Linux DevOps Engineer on the Elastic File Systems (EFS) team, you will design, build, and operate services and features that allow customers to create cloud storage solutions that are secure, reliable, completely elastic, and can grow to petabyte-scale. Delivering reliable and high-performance services and features at AWS scale requires engineers with extraordinary technical expertise and boundless creativity. At Amazon, engineers will interact with customers, understand our business goals, and innovate rapidly, delivering high-quality and ground-breaking functionality.  Amazon Elastic File System (EFS) is built in Cambridge, MA and publicly launched June 29, 2016. It's a fully managed service that makes it easy to set up and scale shared file storage in the AWS Cloud. Amazon EFS is designed for a wide variety of use cases: data analytics, video rendering, genomics analysis, web serving, content management, and home directories, to name a few. https://aws.amazon.com/efs/  What does it take to thrive as a senior engineer on EFS? It's more than plugging computers together or tracking changes. You need to be excited (and a little frightened) by the scale at which we work. You roll up your sleeves and deep-dive analyze to solve problems, and design and build solutions that scale. You're excited to learn from others while bringing your own novel capabilities and perspectives, and you're intellectually curious and dedicated to turning customers into raving fans. If this sounds like you, join us and do something that matters. Basic Qualifications Basic Qualifications: åÊ * Bachelor's degree or higher in Computer Science, Engineering, other technical degree, or related experience  * 6+ years professional experience in commercial or web-scale system engineering  * Expert skill in a scripting language such as Bash, Python, or Ruby  * Experience running and maintaining a 24x7 production computing environment  * Deep understanding of scalable computing systems  * Linux or Windows system administration or development  * Passion for technical leadership and mentoring  * Strong verbal and written communication skills  * Strong analytical skills, with excellent problem solving abilities Preferred Qualifications Preferred Qualifications: åÊ * Experience in scalable Agile/SCRUM/Kanban enterprise-scale software development  * Experience with deployment management tools such as Puppet, Chef, or Ansible  * Experience with a modern programming language such as C, C++, or Java  * Understanding of network fundamentals  * Understanding of distributed storage performance challenges and their solutions  * Experience with secure system configuration and security principles  * Demonstrated ability to achieve stretch goals in a highly innovative and fast paced environment  * Team leadership experience (mentoring, lead projects and small teams, interview, code reviews, etc) Professional traits that are not unique to this position, but are necessary for Amazon leaders:  * Exhibits excellent judgment  * Hires and develops great people  * Holds relentlessly high standards (is never satisfied with the status quo)  * Demonstrates the ability to dive deep and is never out of touch with the details of the business  * Expects and requires innovation of her/his team  * Shows passion and convictions and the innate ability to inspire passion in others  * Biases towards delivering results  * Thinks big  Resumes can be sent to bostonjobs@amazon.com or via our career site for consideration For more information on Amazon Web Services please visit: http://aws.amazon.com/ Amazon was founded by Jeff Bezos in 1994 and is the world's largest internet based company in the world by total sales and market capitalization. Amazon is a company of builders and we strive to invent products and services which benefit our customers. A brief sample of our innovations would include: Amazon Web Services offers a robust, fully featured technology infrastructure platform in the cloud comprised of a broad set of compute, storage, database, analytics, application, and deployment services. Amazon Alexa is a new category of device designed around your voice. Our mission is to push the envelope in Automatic Speech Recognition (ASR), Natural Language Understanding (NLU), and Audio Signal Processing, in order to provide the best-possible experience for our customers Amazon Kindle E-Reader is part of the Devices team which also includes Fire TV, Fire Tablets, and Amazon Dash Amazon Audible is the world's largest seller and producer of spoken audio entertainment, information and educational programming. Machine learning, speech recognition and data mining techniques are utilized to create scalable solutions for business problems Amazon is an Equal Opportunity-Affirmative Action Employer - Minority / Female / Disability / Veteran / Gender Identity / Sexual Orientation C++, C++, object oriented, Java, Java, Java, Linux, Linux, Storage, Storage, Storage, large scale distributed file systems, distributed file systems, virtualization, virtualization, high availability, EC2, EC2, Cambridge, Cambridge, MA. Java Developer, Senior Software Engineer, Principal Software Developer, Principal Software Engineer, Boston Software Engineer careers, Boston Software jobs, Cloud, Cloud, Cloud, Kendall Square, Kendall Square, Boston, 02142, 02142 åÊ Posted Date:  12/24/2016\",\n",
       " \"At Amazon Web Services (AWS) we're hiring highly talented and technical DevOps Architects/Engineers to help accelerate our growing Professional Services business. This is an excellent opportunity to join Amazon's world class technical teams, working with some of the best and brightest engineers while also developing your skills and furthering your career within one of the most innovative and progressive technology companies. Professional Services engage in a wide variety of projects for customers and partners, providing collective experience from across the AWS customer base and are obsessed about strong success for the Customer. Our team collaborates across the entire AWS organization to bring access to product and service teams, to get the right solution delivered and drive feature innovation based upon customer needs. Amazon aims to be the most customer centric company on earth. Amazon Web Services (AWS) provides a highly reliable, scalable, low-cost infrastructure platform in the cloud that powers critical applications for hundreds of thousands of businesses in 190 countries around the world. Basic Qualifications  BA/BS degree or equivalent experience; Computer Science or Math background preferred  * 5+ years of experience as a technical specialist in Customer-facing roles.  * Strong verbal and written communication skills, with the ability to work effectively across internal and external organizations.  * Ability to travel to client locations when needed. Up to 50% regionally.  * Strong practical Linux and Windows-based systems administration skills in a Cloud or Virtualized environment.  * Experience building sophisticated and highly automated infrastructure.  Prior success in automating a real-world production environment.  * Experience with seamless/automated build scripts used for release management across all environments.  * Understanding and experience with code deployment (tagging). Preferred Qualifications  * Experience with Chef, Puppet, Salt, or Ansible in production environments with many nodes.  Familiarity with CloudFormation and JSON.  * Strong scripting skills, i.e., Powershell, Python, Bash, Ruby, Perl, etc.  * Knowledge of IP networking, VPN's, DNS, load balancing and firewalling.  * Familiarity with any monitoring tools like Nagios, Incinga, SiteScope, etc.  * Experience with revision control source code repositories (Git, SVN, Mercurial, Perforce).  * Management of continuous integration servers like Jenkins, Bamboo and TeamCity.  * Experience with automated testing tools (ie. Selenium, JMeter).  * Understanding and experience with code deployment (tagging). Understanding of Service-Oriented Architecture (SOA and REST).  * Experience building enterprise security strategy for cloud adoption or driving the program's evolution to meet new requirements  * Experience leading the certification or accreditation of cloud workload(s) to meet industry standards such as PCI DSS, ISO 27001, HIPAA, and NIST/DoD frameworks.  * Strong verbal and written communications skills and ability to lead effectively across organizations åÊ Posted Date:  12/20/2016\",\n",
       " 'DESCRIPTIONAmazon Mobile Shopping is one of the fastest growing strategic businesses within Amazon. Our scale is billions of dollars and millions of users. We work with the latest devices as soon as they come out: phones, tablets, TVs and wearables. Our team is responsible for creating the best shopping experience for customers wherever they go on their favorite devices. We are passionate about building scalable, well-designed software. We constantly improve our technical foundation and user experience. As a senior engineer on the Mobile Shopping team, you\\x89Ûªll have huge impact on how customers, even friends and family, interact with Amazon.We love to work with smart people who have a strong sense of ownership and strong engineering mindset. You provide mobile perspective and context for technology choices. You\\x89Ûªre up to the challenge of device and mobile network limitations, device fragmentation, and other mobile development curve balls. You are motivated to tackle ambiguous situations with new technologies to rapidly produce prototypes. You outline paths from prototype to product. You are a technical leader for your team. You contribute to the professional development of colleagues, improving their technical knowledge and the engineering practices on your team.About the hiring team:Even as the 10th most-installed app, we\\x89Ûªre still learning how to make the right decisions for customers, how to satisfy customer feedback, how to communicate to customers, how to educate customers on new features, prioritizing X feature over Y feature, and so on. We spend a lot of time thinking about what mobile means and how we do it correctly. We created the App Navigation Experience (ANX) team to explore new ways for Amazon customers to complete common shopping tasks quicker, browse more efficiently, and discover new features. Our toughest problems are crafting world-class UX experiences. We build new native iOS & Android features which address customer frustrations and innovate on core shopping functions like the hamburger menu, app chrome, and navigation between pages. We are feature innovators at heart, and customer experience is king to us.Responsibilities:åá Be heavily involved with design and product teams to understand needs, propose features, create early prototypes and transform them into exciting end consumer features.åá Architect new end-to-end features that bring shopping innovations to mobile, TV and wearable audiences.åá Write clean, maintainable code and perform peer code-reviews.åá Deep-dive into client or server systems to optimize for performance, maintainability, scalability, extensibility as needed.åá Propose innovative tools, frameworks, automations and processes that are used by the entire mobile shopping team for development.åá Mentor team members to promote engineering excellenceBASIC QUALIFICATIONSåá Mobile development experienceåá 3+ years of commercial software development experience in Java and/or Objective Cåá BS/MS in Computer Science or equivalentåá Firm understanding of software development principles, capabilities and limitations of mobile platforms (iOS and Android)åá Passion for mobile development. We would love to hear about apps you\\x89Ûªve developed.PREFERRED QUALIFICATIONSåá Experience developing hybrid native/HTML mobile applicationsåá Experience developing high quality, large scale consumer applications',\n",
       " \"DESCRIPTIONAmazon Payments provides consumers, merchants, and developers the simple and trusted way to pay and get paid online. The Amazon Payments engineering team is responsible for designing, building, and operating innovative payments solutions for merchants and content providers. It enables customers to send and receive payments for goods or services by using their Amazon.com accounts from the web, from a mobile device. The engineering organization also owns the quality, performance and availability of the payment services. In this position, you will own the roadmap and delivery of innovative new products that map to emerging trends like mobile and in-app payments, virtual currencies and NFC technology.As a Software Development Manager, you will be responsible for leading a team of engineers in design, development, test, and deployment of a range of products across Amazon Payments. Engineering Managers are pragmatic visionaries who can translate business needs into workable technology solutions. A successful candidate will have an established background in developing customer-facing experiences, a strong technical ability, excellent project and people management skills, great communication skills, and a motivation to achieve results in a fast paced environment.Key Responsibilities:- Responsible for the over-all systems development life cycle- Management and execution against project plans and delivery commitments; Manage the day-to-day activities of the engineering teams within an Agile/Scrum environment- Management of departmental resources, staffing, mentoring, and enhancing and maintaining best-of-class global engineering teams- Work closely with the engineers and other engineering managers to architect and develop the best technical design and approach- Report on status of development, quality, operations, and system performance to senior managementCompany DescriptionAmazon strives to be Earth's most customer-centric company where people can find and discover virtually anything they want to buy online. By giving customers more of what they want - low prices, vast selection, and convenience - Amazon continues to grow and evolve as a world-class e-commerce platform. Founded by Jeff Bezos, the Amazon.com website started in 1995 as a place to buy books because of the unique customer experience the Web could offer book lovers. Bezos believed that only the Internet could offer customers the convenience of browsing a selection of millions of book titles in a single sitting. During the first 30 days of business, Amazon fulfilled orders for customers in 50 states and 45 countries - all shipped from his Seattle-area garage. Amazon's evolution from Web site to e-commerce partner to development platform is driven by the spirit of innovation that is part of the company's DNA. The world's brightest technology minds come to Amazon.com to research and develop technology that improves the lives of shoppers and sellers around the world.BASIC QUALIFICATIONSåá Bachelors, MS, or Ph.D. in Computer Science, Computer Engineering or Electrical Engineering.åá Established skill in leading and executing complex cross-functional projects, with simple and intuitive customer experiences.åá Technical credentials, with at least 2-5 years of experience managing software development teams, ideally with some hands-on architectural or distributed systems experienceåá Mastery of the tools of the trade, including a variety of modern programming languages (Java, JavaScript, C/C++), open-source technologies (Spring, Hibernate) and web 2.0 technologies (Flash, JSON, AJAX)åá Development experience on multiple Platforms and mobile devicesåá Track record of project delivery for large, cross-functional projectsåá Excellent written and verbal communication skills with the ability to present complex technical information in a clear and concise manner to a variety of audiencesåá A track record of effective communication with executives and non-technical leadersPREFERRED QUALIFICATIONSåá 8+ years of experience in software developmentåá 2+ years as a development manager, managing a team of 10+ employeesåá Strong business and technical visionåá Experience developing highly scalable, distributed systemsåá Experience in the payments industryThe ideal candidate will be a visionary leader, builder and operator. The candidate should have experience leading or contributing to multiple simultaneous product development efforts and initiatives. The candidate needs to balance technical leadership with strong business judgment to make the right decisions. Senior managers need to be constantly striving for simplicity, and at the same time demonstrate significant creativity, innovation and judgment.Amazon is an equal opportunity employer.\",\n",
       " \"At Amazon Web Services (AWS), we're hiring Enterprise IT Architects to work with our top-tier global 1,000 customers and their partners in transforming their enterprise IT landscapes. Our transformation experts engage with customers to understand their business drivers, assess application portfolios, design reliable and cost-effective hybrid cloud infrastructures, create transition plans and develop business cases to justify the programs. Our engagements include projects covering thousands of applications across tens of thousands of servers and involve developing a shared vision, leading the customer through the challenges of cloud adoption, demonstrating the reality of the vision and then enabling them to achieve full operational integration.  Professional Services engage in a wide variety of projects for customers and partners, providing collective experience from across the AWS customer base and are obsessed about strong success for the Customer. Our team collaborates across the entire AWS organization to bring access to product and service teams, to get the right solution delivered and drive feature innovation based upon customer needs. Basic Qualifications Required Qualifications: åÊ * 10+ years of IT consulting experience as a technical specialist in Customer-facing roles.  * Excellent written and verbal communication skills, including group leadership and executive presentations.  * BA/BS degree or equivalent experience; Computer Science or Math background preferred  * Engaging with C-level executives to define Enterprise cloud strategies.  * Cost/Benefit modeling and creating compelling business cases for migration.  * Generating cloud migration roadmaps and driving buy-in across complex organization structures.  * Designing, building, and operating global IT infrastructures.  * A proven track record of managing and delivering large-scale enterprise IT projects.  * Ability to travel to client locations when needed. Preferred Qualifications Preferred Qualifications: åÊ * Enterprise Architecture Frameworks (e.g. TOGAF, Zachman) and identifying the relationships between business services, information, applications and global infrastructure assets.  * Enterprise IT management frameworks (e.g. ITIL v3 processes).  * Broad Enterprise systems experience including SAP, Oracle, MSFT and custom Java/.NET applications.  * Familiarity with compliance & security standards across the enterprise IT landscape Amazon is an Equal Opportunity-Affirmative Action Employer-Minority/Female/Disability/Vet aws-proserv-na åÊ Posted Date:  10/26/2016\",\n",
       " \"Consumer Electronics is one of the largest businesses at Amazon. We are a fast-growing, dynamic, high-impact, and fun category that includes TV/Blu-ray, camera/photo, musical instruments, home audio, headphones, and connected devices such as mobile phones. Our marketplace is changing rapidly. It is still Day 1 here! CETech is the high-powered technical team responsible for the platform and end-to-end experience for customers to shop for consumer electronics on Amazon. We provide the best customer experience through streamlined shopping and purchase flows that often include integration with carrier systems across the world. We have an opening for a talented Software Development Engineer to help us innovate and make our mark in this space! Are you up for the challenge? If you are an experienced SDE who wants to work on hard problems and have the autonomy to deliver, then we want to talk to you about joining us in CETech. Basic Qualifications  * Bachelor's Degree in Computer Science or related field + 2 years related experience  * 3+ years epxerience with at least, one modern programming language such as C, C++, C#, Java, or Perl Preferred Qualifications  * Computer Science fundamentals in object-oriented design  * Computer Science fundamentals in data structures  * Computer Science fundamentals in algorithm design, problem solving, and complexity analysis  * Clear, professional communication skills able to contribute to team discussions, knowing when to contribute, when to listen, and when to ask questions  * Experience developing in a Linux environment #hltech  #hlpsd åÊ Posted Date:  5/23/2016 10:56:03 AM\",\n",
       " \"Our mission is to push the envelope in Automatic Speech Recognition (ASR), Natural Language Understanding (NLU), and Audio Signal Processing, in order to provide the best-possible experience for our customers. As a Research Manager for the Alexa team you will be responsible for leading a team of machine learning scientists in the field of automatic speech recognition (ASR) and/or natural language understanding (NLU).  The responsibilities include the strategic aspects of setting long term research directions as well as the tactical aspects of addressing customer pain points, setting priorities, and driving the design, development, and deployment of ASR and/or NLU technology. A successful candidate will have an established background in developing customer-facing experiences, a strong technical ability, excellent project management skills, great communication skills, and a motivation to achieve results in a fast paced environment. You will hire and develop your team, build customer-facing experiences, and manage your own projects. As a member of the technical team you will be responsible for... - Owning the strategic planning and project management for long term research projects creating value for our customers.  - Analyzing customer data and addressing customer pain points.  - Conducting and coordinating research leading to improved accuracy of Alexa's ASR and/or NLU capabilities.  - Communicating effectively with senior management as well as with colleagues from research teams, software engineering teams, and other technical and business teams.  - Managing the day-to-day activities of the research team.  - Hiring and developing researchers.  - Staying up-to-date with trends, papers, and academia. Basic Qualifications Basic Qualifications: åÊ - Graduate degree in engineering, computer science, or mathematics, and 10+ years of related experience OR a PhD and 5+ years of related work experience  - Hands-on experiences in speech recognition, natural language understanding and machine learning.  - Knowledge in multiple speech and natural language areas.  - Research track record with peer-reviewed publications in academic conferences and journals in the related areas. Preferred Qualifications Preferred Qualifications: åÊ - PhD  - Project management experience desired for working on cross-functional projects  - Experience in building complex, real-time software systems involving speech recognition & natural language algorithms that have been successfully delivered to customers, preferably on mobile devices.  - Knowledge of professional software engineering practices & best practices for the full software development life cycle, including coding standards, code reviews, source control management, build processes, testing, and operations.  - Ability to rapidly prototype and evaluate customer applications and interaction methodologies.  - Excellent written and verbal technical communication. Able to explain complex solutions in easy-to-understand terms. Amazon is an Equal Opportunity-Affirmative Action Employer - Minority / Female / Disability / Veteran / Gender Identity / Sexual Orientation speech-jobs åÊ Posted Date:  7/27/2016\",\n",
       " \"Senior Product Manager -- Amazon Web Services -- Kendall Square  Amazon Web Services (AWS) is a dynamic and rapidly growing business within Amazon. AWS is the leader in providing secure, reliable, scalable, and innovative cloud services that help over a million businesses across the globe scale and grow! At AWS we are continuously innovating and expanding our pay-as-you-go cloud services to meet the growing needs of our customers. Our services cover a wide range of computing, networking, storage, database, mobile, and business application domains. AWS provides a wide set of cloud storage services to meet customer needs. Our storage services include scalable file storage (Amazon EFS), scalable object storage (Amazon S3), low-latency block storage (Amazon EBS), extremely low-cost archival storage (Amazon Glacier), and an on-premises appliance that enables customers to integrate their IT infrastructure with AWS Storage (AWS Storage Gateway). We're looking for an experienced Senior Product Manager to join our innovative and fast-moving Amazon EFS team! In this position, you'll be an owner in innovating and delivering disruptive value to our customers, expanding customer adoption and usage growth, and raising the bar in ensuring we deliver the best possible customer experience. For more information on EFS and to understand its customer benefits, please visit https://aws.amazon.com/efs/ Amazon EFS was built in Cambridge and publically announced in 2015. It's a fully managed service that makes it easy to set up and scale shared file storage in the AWS Cloud. With a few clicks in the AWS Management Console, customers can create file systems that are secure, reliable, completely elastic, and can grow to petabyte-scale. Each file system's files can be accessed by up to thousands of Amazon Elastic Compute Cloud (EC2) instances at high levels of throughput and with low latency. Amazon EFS is designed for a wide variety of use cases: data analytics, video rendering, genomics analysis, web serving, content management, home directories, and build environments, to name a few. Amazon EFS is AWS's newest storage service, and we're just getting started! As a Senior Product Manager, you own the customer experience and you drive EFS's growth and business results. You will: * Find opportunities to innovate on behalf of our customers, build business cases and design features related to these opportunities  * Drive our go-to-market approach, including pricing, marketing, and sales force engagement  * Measure and analyze all aspects of the business  * Identify and drive operational improvements and cost reductions We're looking for a tenacious self-starter with a passion for the cloud storage market and who can serve as a strong advocate for our customers. You should have excellent analytical capabilities, strong writing skills, services-based business experience, and the desire to develop ideas independently and thrive in a fast-paced start-up environment. You must have a track record of understanding customer needs and delivering technology solutions to address those needs. Come join a smart, innovative team that's obsessed with serving its customers and is having fun doing so in a start-up-like environment! Basic Qualifications Basic Qualifications: åÊ * 10+ years of product experience, preferably with web / service-based business experience  * 3+ years of product management experience  * BA/BS required; BS in Computer Science/Engineering/Mathematics plus MBA preferred Preferred Qualifications Preferred Qualifications: åÊ * Track record of taking ownership and getting results  * Sound business judgment  * Ability to influence and negotiate  * Strong analytical skills, with excellent problem-solving abilities amid ambiguity  * Ability to formulate data-driven decisions  * Ability to conceptualize, run, and prioritize multiple projects  * Extraordinary interpersonal and communication skills with track record of navigating complex unstructured cross-functional environments  * Strong verbal and written communication skills  * Passion for leadership, management, and mentoring AWS is the largest public cloud provider and also the fastest growing. As of Q3 2015, AWS has a revenue run rate of more than $8 billion dollars with quarterly revenue increasing 78% year over year. In 2015, AWS launched more than 600 new services and innovative features! We maintain this rapid pace of innovation by treating each team like its own startup inside AWS, directly accountable for their customer's satisfaction, service innovations, ambitious growth, and meeting revenue goals. åÊ Posted Date:  7/28/2016\",\n",
       " \"Amazon is looking for a passionate, talented, and inventive Scientist with a strong machine learning background to help build industry-leading Speech and Language technology. Our mission is to push the envelope in Automatic Speech Recognition (ASR), Natural Language Understanding (NLU), and Audio Signal Processing, in order to provide the best-possible experience for our customers.  As a Speech and Language Scientist, you will work with talented peers to develop novel algorithms and modeling techniques to advance the state of the art in spoken language understanding. Your work will directly impact our customers in the form of products and services that make use of speech and language technology. You will leverage Amazon's heterogeneous data sources and large-scale computing resources to accelerate advances in spoken language understanding. We are hiring in all areas of spoken language understanding: ASR, NLU, text-to-speech (TTS), and Dialog Management. Position located in either Cambridge, Massachusetts, or Seattle, Washington. Basic Qualifications  * Current enrollment in a graduate degree program (MS or PhD) of Electrical Engineering, Computer Sciences, or Mathematics with specialization in speech recognition, natural language processing, or machine learning.  * Familiar with programming languages such as C/C++, Java, Perl or Python. Preferred Qualifications  * Experience in building speech recognition and natural language processing systems (e.g. commercial speech products or government speech projects)  * Solid Machine Learning background and familiar with standard speech and machine learning techniques.  * Scientific thinking and the ability to invent, a track record of thought leadership and contributions that have advanced the field  * Solid software development experience  * Good written and spoken communication skills. åÊ Posted Date:  8/14/2014\",\n",
       " 'Amazon is looking for a passionate, talented, and inventive Scientist with a strong machine learning background to help build industry-leading Speech and Language technology. Our mission is to provide a delightful experience to Amazon\\'s customers by pushing the envelope in Automatic Speech Recognition (ASR), Natural Language Understanding (NLU), Machine Learning (ML), and Audio Signal Processing technologies. As part of our speech and language team, you will work alongside internationally recognized experts to develop novel algorithms and modeling techniques to advance the state-of-the-art in spoken language understanding. Your work will directly impact millions of our customers in the form of products and services that make use of speech and language technology. You will gain hands on experience with Amazon\\'s heterogeneous speech, text, and structured data sources, and large-scale computing resources to accelerate advances in spoken language understanding. It is not imperative to have experience in ASR. We have scientists building production models released to Echo customers, who had no prior speech experience, but very strong in ML, statistics, coding (and \"can do\" spirit!). We are hiring in all areas of spoken language understanding: ASR, NLU, text-to-speech (TTS), and Dialog Management. Basic Qualifications  * Graduate degree (MS or PhD) in Electrical Engineering, Computer Sciences, or Mathematics with specialization in speech recognition, natural language processing, or machine learning.  * Familiarity with programming languages such as C/C++, Python, Java or Perl. Preferred Qualifications  * Experience in building speech recognition and natural language processing systems (e.g., commercial speech products or government speech projects)  * Solid Machine Learning background and familiar with standard speech and machine learning techniques.  * Scientific thinking and the ability to invent, a track record of thought leadership and contributions that have advanced the field  * Solid software development experience  * Good written and spoken communication skills. Amazon is an equal opportunity-affirmative action employer-female/minority/disability/vet åÊ Posted Date:  11/23/2015',\n",
       " \"Amazon is looking for a passionate, talented, and inventive Scientist with a strong machine learning background to help build industry-leading Speech and Language technology. Our mission is to push the envelope in Automatic Speech Recognition (ASR), Natural Language Understanding (NLU), and Audio Signal Processing, in order to provide the best-possible experience for our customers.  As a Speech and Language Scientist, you will work with talented peers to develop novel algorithms and modeling techniques to advance the state of the art in spoken language understanding. Your work will directly impact our customers in the form of products and services that make use of speech and language technology. You will leverage Amazon's heterogeneous data sources and large-scale computing resources to accelerate advances in spoken language understanding. We are hiring in all areas of spoken language understanding: ASR, NLU, text-to-speech (TTS), and Dialog Management. Basic Qualifications Basic Qualifications  * Graduate degree (MS) in Electrical Engineering, Computer Sciences, or Mathematics with specialization in speech recognition, natural language processing, or machine learning.  * Familiar with programming languages such as C/C++, Java, Perl or Python. Preferred Qualifications Preferred Qualifications: åÊ * Experience in building speech recognition and natural language processing systems (e.g. commercial speech products or government speech projects)  * Solid Machine Learning background and familiar with standard speech and machine learning techniques.  * Scientific thinking and the ability to invent, a track record of thought leadership and contributions that have advanced the field  * Solid software development experience  * Good written and spoken communication skills. To learn more about the Digital Products team at Amazon, visithttp://www.amazon.com/careers/digitalproducts and apply now. Amazon is an Equal Opportunity-Affirmative Action Employer - Female/Minority/Disability/Veteran speech-jobs åÊ Posted Date:  3/14/2016\",\n",
       " 'Amazon Alexa, the speech processing and personal assistant technology behind Amazon Echo, is seeking a Software Development Engineer. As a member of the team you will be responsible for leading the development and launch of core product features. You will have significant influence on our overall strategy by helping define these product features, drive the system architecture, and spearhead the best practices that enable a quality product. The ideal candidate is clearly passionate about new opportunities and has a demonstrable track record of success in delivering new features and products. A commitment to team work, hustle, and strong communication skills (to both business and technical partners) are absolute requirements. Creating reliable, scalable, and high performance products requires exceptional technical expertise, a sound understanding of the fundamentals of Computer Science, and practical experience building large-scale distributed systems. This person has thrived and succeeded in delivering high quality technology products/services in a hyper-growth environment where priorities shift fast. Responsibilities: åÊ * Responsible for the development and maintenance of key system features  * Will work with other team members to investigate design approaches, prototype new technology and evaluate technical feasibility.  * Will work in an Agile/Scrum environment to deliver high quality software against aggressive schedules. Basic Qualifications  * BS/MS in Computer Science or equivalent  * 8+ years of industry experience  * Programming in one or more object-oriented languages like Java/Python/C#/Ruby/Objective C/C++  * Experience building scalable infrastructure software or distributed systems for commercial online services Preferred Qualifications  * Mastery of the tools of the trade, including a variety of modern programming languages (Java, JavaScript, C/C++, Objective C, Python, Ruby, C#).  * Experience developing cloud software services and an understanding of design for scalability, performance and reliability  * Development experience defining, developing and maintaining REST based interfaces  * Excellence in technical communication with peers and non-technical cohorts  * Sharp analytical abilities and proven design skills  * Strong sense of ownership, urgency, and drive  * Demonstrated leadership abilities in an engineering environment in driving operational excellence and best practices  * Demonstrated ability to achieve stretch goals in a highly innovative and fast paced environment Amazon is an Equal Opportunity-Affirmative Action Employer - Female/Minority/Disability/Veteran åÊ Posted Date:  6/1/2016',\n",
       " \"The Amazon Devices team designs and engineers high-profile consumer electronics, including the best-selling Kindle family of products. We have also produced groundbreaking devices like Fire tablets, Fire TV, Amazon Dash, and Amazon Echo. What will you help us create? We are looking for talented software engineers in test to join our team. This is an enormous opportunity to help build a testing infrastructure for some of the cutting edge products used every day by people you know. You will be able to build and improve software and tools by translating functional requirements into robust, scalable solutions that work well within the overall system architecture. This is an opportunity to build the automated test infrastructure of your dreams. Responsibilities  * Participate in the testing of large-scale systems, including driving processes to reduce test automation maintenance, as well as improve and simplify quality assurance processes.  * Build and maintain an automated test infrastructure for a multi-platform product that will be used to validate all aspects of the product operation.  * Evaluate product functionality and create test strategies and test cases to assess product quality.  * Work closely in a dynamic, team-focused Agile/Scrum environment with software engineers on technical issues related to the development of complex, large-scale systems.  * Provide advice and mentoring to more junior members of the team. Basic Qualifications  * Bachelor's degree or higher in Computer Science or related field  * 3+ years of software development and testing experience  * Experience building and designing test cases and knowledge of test methodologies  * Computer Science fundamentals in algorithm design, data structures, problem solving, and complexity analysis  * Proficiency in at least one programming language such as C/C++, C#, Java, or Python Preferred Qualifications  * Experience developing in a Linux environment and in utilizing virtual machines  * Knowledge of industry standard test automation tools and experience in developing product test harnesses and instrumenting products, especially on Android or other hand held devices, to gather test results  * API automation testing including working experience with unit test automation frameworks.  * Excellent communication skills and the ability to generate and communicate meaningful development metrics Amazon is an Equal Opportunity-Affirmative Action Employer - Minority / Female / Disability / Veteran / Gender Identity / Sexual Orientation #LI-RP1 åÊ Posted Date:  7/22/2016\"]"
      ]
     },
     "execution_count": 63,
     "metadata": {},
     "output_type": "execute_result"
    }
   ],
   "source": [
    "data['amazon']"
   ]
  },
  {
   "cell_type": "code",
   "execution_count": 50,
   "metadata": {},
   "outputs": [
    {
     "data": {
      "text/plain": [
       "Timestamp('2016-01-02 00:00:00')"
      ]
     },
     "execution_count": 50,
     "metadata": {},
     "output_type": "execute_result"
    }
   ],
   "source": [
    "pd.to_datetime(df.date_added)"
   ]
  },
  {
   "cell_type": "code",
   "execution_count": null,
   "metadata": {},
   "outputs": [],
   "source": []
  }
 ],
 "metadata": {
  "interpreter": {
   "hash": "adea540253e8e8f708a1ef36fc3af2830fee8642e0041a914a62b471ba922451"
  },
  "kernelspec": {
   "display_name": "Python 3.8.8 ('base')",
   "language": "python",
   "name": "python3"
  },
  "language_info": {
   "codemirror_mode": {
    "name": "ipython",
    "version": 3
   },
   "file_extension": ".py",
   "mimetype": "text/x-python",
   "name": "python",
   "nbconvert_exporter": "python",
   "pygments_lexer": "ipython3",
   "version": "3.8.8"
  },
  "orig_nbformat": 4
 },
 "nbformat": 4,
 "nbformat_minor": 2
}
