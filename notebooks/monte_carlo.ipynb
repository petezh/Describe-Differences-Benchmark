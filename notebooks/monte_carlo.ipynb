{
 "cells": [
  {
   "cell_type": "markdown",
   "metadata": {},
   "source": [
    "We wish to efficiently perform comparisons in order to approximate a division of the samples into those above and below 50th percentile along some comparative hypothesis. We conduct a Monte-Carlo simulation of a strategy in which we pair together samples in *rounds* and compare them. Crucially, in each \"round,\" we only compare samples with the same \"record\" thus far (e.g. WLWW). This simulation suggests that for reasonable confidence thresholds such as .90, even \"WW\" can be confidently classified as in the upper half of the samples. The collection of records that "
   ]
  },
  {
   "cell_type": "code",
   "execution_count": 50,
   "metadata": {},
   "outputs": [],
   "source": [
    "import numpy as np\n",
    "import matplotlib.pyplot as plt\n",
    "from itertools import zip_longest\n",
    "from collections import Counter\n",
    "import json"
   ]
  },
  {
   "cell_type": "code",
   "execution_count": 51,
   "metadata": {},
   "outputs": [],
   "source": [
    "# generate samples\n",
    "expo = 22\n",
    "total_samples = np.power(2, 22)\n",
    "samples = np.random.uniform(size=total_samples)"
   ]
  },
  {
   "cell_type": "code",
   "execution_count": 52,
   "metadata": {},
   "outputs": [],
   "source": [
    "def split(samples):\n",
    "    \"\"\"Splits the samples into the top and bottom halves.\"\"\"\n",
    "    np.random.shuffle(samples) # shuffle samples\n",
    "    samples_a, samples_b = samples[1::2], samples[::2]\n",
    "\n",
    "    top, bottom = [], []\n",
    "    for a, b in zip_longest(samples_a, samples_b):\n",
    "        if not b: # in case odd\n",
    "            b = np.random.choice(samples_b) # pick random sample\n",
    "            top.append(a) if a > b else bottom.append(a)\n",
    "        if a < b:\n",
    "            top.append(b), bottom.append(a)\n",
    "        else:\n",
    "            top.append(a), bottom.append(b)\n",
    "    return np.array(top), np.array(bottom)"
   ]
  },
  {
   "cell_type": "code",
   "execution_count": 53,
   "metadata": {},
   "outputs": [],
   "source": [
    "dists = dict()\n",
    "dists[0] = {'':samples}\n",
    "\n",
    "def prop_top(dist):\n",
    "    return sum(dist > 0.5)/len(dist)"
   ]
  },
  {
   "cell_type": "code",
   "execution_count": 61,
   "metadata": {},
   "outputs": [],
   "source": [
    "cutoff = .90\n",
    "safe_prefixes = dict()\n",
    "\n",
    "num_comparisons = Counter()\n",
    "num_classified = Counter()\n",
    "\n",
    "for i in range(1, 18): # about 250k\n",
    "    dists[i] = {}\n",
    "    for record, dist_to_split in dists[i-1].items():\n",
    "        prop = prop_top(dist_to_split)\n",
    "        if max(prop, 1-prop) > cutoff:\n",
    "            num_classified[i-1] += len(dist_to_split)\n",
    "            safe_prefixes[record] = prop\n",
    "            continue\n",
    "        num_comparisons[i] += len(dist_to_split)\n",
    "        lesser, greater = split(dist_to_split)\n",
    "        dists[i][record + '0'] = lesser\n",
    "        dists[i][record + '1'] = greater"
   ]
  },
  {
   "cell_type": "code",
   "execution_count": 62,
   "metadata": {},
   "outputs": [],
   "source": [
    "with open('../data/prefixes_99.json', 'w') as f:\n",
    "    json.dump(safe_prefixes, f)"
   ]
  },
  {
   "cell_type": "code",
   "execution_count": null,
   "metadata": {},
   "outputs": [
    {
     "data": {
      "text/plain": [
       "Text(0.5, 0, 'Round')"
      ]
     },
     "execution_count": 43,
     "metadata": {},
     "output_type": "execute_result"
    },
    {
     "data": {
      "image/png": "[encoded data removed]",
      "text/plain": [
       "<Figure size 432x288 with 1 Axes>"
      ]
     },
     "metadata": {
      "needs_background": "light"
     },
     "output_type": "display_data"
    }
   ],
   "source": [
    "plt.bar(*zip(*sorted(num_comparisons.items())))\n",
    "plt.title('Number of comparisons by round')\n",
    "plt.xlabel('Round')"
   ]
  },
  {
   "cell_type": "code",
   "execution_count": null,
   "metadata": {},
   "outputs": [
    {
     "data": {
      "text/plain": [
       "Text(0.5, 0, 'Round')"
      ]
     },
     "execution_count": 44,
     "metadata": {},
     "output_type": "execute_result"
    },
    {
     "data": {
      "image/png": "[encoded data removed]",
      "text/plain": [
       "<Figure size 432x288 with 1 Axes>"
      ]
     },
     "metadata": {
      "needs_background": "light"
     },
     "output_type": "display_data"
    }
   ],
   "source": [
    "plt.bar(*zip(*sorted(num_classified.items())))\n",
    "plt.title('Number of classified samples by round')\n",
    "plt.xlabel('Round')"
   ]
  },
  {
   "cell_type": "code",
   "execution_count": null,
   "metadata": {},
   "outputs": [],
   "source": []
  }
 ],
 "metadata": {
  "kernelspec": {
   "display_name": "Python 3.8.8 ('base')",
   "language": "python",
   "name": "python3"
  },
  "language_info": {
   "codemirror_mode": {
    "name": "ipython",
    "version": 3
   },
   "file_extension": ".py",
   "mimetype": "text/x-python",
   "name": "python",
   "nbconvert_exporter": "python",
   "pygments_lexer": "ipython3",
   "version": "3.8.8"
  },
  "orig_nbformat": 4,
  "vscode": {
   "interpreter": {
    "hash": "adea540253e8e8f708a1ef36fc3af2830fee8642e0041a914a62b471ba922451"
   }
  }
 },
 "nbformat": 4,
 "nbformat_minor": 2
}
