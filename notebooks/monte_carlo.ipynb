{
 "cells": [
  {
   "cell_type": "markdown",
   "metadata": {},
   "source": [
    "We wish to efficiently perform comparisons in order to approximate a division of the samples into those above and below 50th percentile along some comparative hypothesis. We conduct a Monte-Carlo simulation of a strategy in which we pair together samples in *rounds* and compare them. Crucially, in each \"round,\" we only compare samples with the same \"record\" thus far (e.g. WLWW). This simulation suggests that for reasonable confidence thresholds such as .90, even \"WW\" can be confidently classified as in the upper half of the samples. The collection of records that "
   ]
  },
  {
   "cell_type": "code",
   "execution_count": 160,
   "metadata": {},
   "outputs": [],
   "source": [
    "import numpy as np\n",
    "import matplotlib.pyplot as plt\n",
    "from itertools import zip_longest\n",
    "from collections import Counter\n",
    "import json\n",
    "import random"
   ]
  },
  {
   "cell_type": "code",
   "execution_count": 100,
   "metadata": {},
   "outputs": [],
   "source": [
    "# generate samples\n",
    "EXPO = 23\n",
    "total_samples = np.power(2, EXPO)\n",
    "samples = np.random.uniform(size=total_samples)"
   ]
  },
  {
   "cell_type": "markdown",
   "metadata": {},
   "source": [
    "problems (from Ruiqi):\n",
    "- check if estimator biased - i.e. have ground truth ranking, we wish to recover ranking; bias refers to average deviation from rakning to ground truth, asymptotic\n",
    "- four quadrants, compare to baseline with MAX_DEPTH rounds, pair & compare"
   ]
  },
  {
   "cell_type": "code",
   "execution_count": 164,
   "metadata": {},
   "outputs": [],
   "source": [
    "def noisy_greater_than(x, y):\n",
    "    if random.random() < 0.2:\n",
    "        return True\n",
    "    if x > y:\n",
    "        return True\n",
    "    return False"
   ]
  },
  {
   "cell_type": "code",
   "execution_count": 163,
   "metadata": {},
   "outputs": [],
   "source": [
    "def split(samples):\n",
    "    \"\"\"Splits the samples into the top and bottom halves.\"\"\"\n",
    "    np.random.shuffle(samples) # shuffle samples\n",
    "    samples_a, samples_b = samples[0::2], samples[1::2]\n",
    "\n",
    "    top, bottom = [], []\n",
    "    for a, b in zip_longest(samples_a, samples_b):\n",
    "        if not b: # in case odd\n",
    "            b = np.random.choice(samples_b) # pick random sample\n",
    "            top.append(a) if noisy_greater_than(a, b) else bottom.append(a)\n",
    "        if noisy_greater_than(a, b): # feed into model, compare logits of snippet A versus snippet B\n",
    "            top.append(a), bottom.append(b)\n",
    "        else:\n",
    "            top.append(b), bottom.append(a)\n",
    "    return np.array(bottom), np.array(top)"
   ]
  },
  {
   "cell_type": "code",
   "execution_count": 165,
   "metadata": {},
   "outputs": [],
   "source": [
    "dists = dict()\n",
    "dists[0] = {'':samples}\n",
    "\n",
    "def prop_top(dist):\n",
    "    return sum(dist > 0.5)/len(dist)"
   ]
  },
  {
   "cell_type": "code",
   "execution_count": 166,
   "metadata": {},
   "outputs": [
    {
     "name": "stdout",
     "output_type": "stream",
     "text": [
      "1\n",
      "2\n",
      "3\n",
      "4\n",
      "5\n",
      "6\n",
      "7\n",
      "8\n",
      "9\n",
      "10\n",
      "11\n",
      "12\n",
      "13\n",
      "14\n",
      "15\n",
      "16\n",
      "17\n",
      "18\n"
     ]
    }
   ],
   "source": [
    "CONFIDENCE = .80\n",
    "safe_prefixes = dict()\n",
    "\n",
    "num_comparisons = Counter()\n",
    "num_classified = Counter()\n",
    "\n",
    "top = np.array([])\n",
    "bottom = np.array([])\n",
    "\n",
    "MAX_DEPTH = 18 # EXPO - 1\n",
    "\n",
    "for i in range(1, MAX_DEPTH + 1): # about 250k\n",
    "    print(i)\n",
    "    dists[i] = {}\n",
    "    for record, dist_to_split in dists[i-1].items():\n",
    "        prop = prop_top(dist_to_split)\n",
    "        if max(prop, 1-prop) > CONFIDENCE:\n",
    "            num_classified[i-1] += len(dist_to_split)\n",
    "            safe_prefixes[record] = prop\n",
    "            if prop > 0.5: top = np.append(top, dist_to_split, 0)\n",
    "            else: bottom = np.append(bottom, dist_to_split, 0)\n",
    "            continue\n",
    "        if i == MAX_DEPTH:\n",
    "            num_classified[i-1] += len(dist_to_split)\n",
    "            wins = sum(int(x) for x in record)\n",
    "            if wins / len(record) >= 0.5: top = np.append(top, dist_to_split, 0)\n",
    "            else: bottom = np.append(bottom, dist_to_split, 0)\n",
    "            continue\n",
    "\n",
    "        num_comparisons[i] += len(dist_to_split)\n",
    "        lesser, greater = split(dist_to_split)\n",
    "        dists[i][record + '0'] = lesser\n",
    "        dists[i][record + '1'] = greater"
   ]
  },
  {
   "cell_type": "code",
   "execution_count": 104,
   "metadata": {},
   "outputs": [],
   "source": [
    "with open('../prefixes/prefixes_95.json', 'w') as f:\n",
    "    json.dump(safe_prefixes, f)"
   ]
  },
  {
   "cell_type": "code",
   "execution_count": 109,
   "metadata": {},
   "outputs": [
    {
     "data": {
      "text/plain": [
       "Text(0.5, 0, 'Round')"
      ]
     },
     "execution_count": 109,
     "metadata": {},
     "output_type": "execute_result"
    },
    {
     "data": {
      "image/png": "[encoded data removed]",
      "text/plain": [
       "<Figure size 432x288 with 1 Axes>"
      ]
     },
     "metadata": {
      "needs_background": "light"
     },
     "output_type": "display_data"
    }
   ],
   "source": [
    "plt.bar(*zip(*sorted(num_classified.items())))\n",
    "plt.title('Number of classified samples by round')\n",
    "plt.xlabel('Round')"
   ]
  },
  {
   "cell_type": "code",
   "execution_count": 110,
   "metadata": {},
   "outputs": [
    {
     "data": {
      "text/plain": [
       "Text(0.5, 0, 'Round')"
      ]
     },
     "execution_count": 110,
     "metadata": {},
     "output_type": "execute_result"
    },
    {
     "data": {
      "image/png": "[encoded data removed]",
      "text/plain": [
       "<Figure size 432x288 with 1 Axes>"
      ]
     },
     "metadata": {
      "needs_background": "light"
     },
     "output_type": "display_data"
    }
   ],
   "source": [
    "plt.bar(*zip(*sorted(num_comparisons.items())))\n",
    "plt.title('Number of comparisons by round')\n",
    "plt.xlabel('Round')"
   ]
  },
  {
   "cell_type": "code",
   "execution_count": 167,
   "metadata": {},
   "outputs": [
    {
     "data": {
      "text/plain": [
       "3.9515533447265625"
      ]
     },
     "execution_count": 167,
     "metadata": {},
     "output_type": "execute_result"
    }
   ],
   "source": [
    "sum([x*y for x, y in num_classified.items()])/total_samples"
   ]
  },
  {
   "cell_type": "code",
   "execution_count": 168,
   "metadata": {},
   "outputs": [
    {
     "data": {
      "text/plain": [
       "0.8653926849365234"
      ]
     },
     "execution_count": 168,
     "metadata": {},
     "output_type": "execute_result"
    }
   ],
   "source": [
    "(sum(top > 0.5) + sum(bottom < 0.5))/total_samples"
   ]
  },
  {
   "cell_type": "markdown",
   "metadata": {},
   "source": [
    "## Baseline Approach"
   ]
  },
  {
   "cell_type": "code",
   "execution_count": 149,
   "metadata": {},
   "outputs": [],
   "source": [
    "num_baseline_samples = 1000000\n",
    "baseline_samples = np.random.uniform(size=num_baseline_samples)\n",
    "wins = np.array([0] * num_baseline_samples)"
   ]
  },
  {
   "cell_type": "code",
   "execution_count": 150,
   "metadata": {},
   "outputs": [],
   "source": [
    "def run_round():\n",
    "    \"\"\"Splits the samples into the top and bottom halves.\"\"\"\n",
    "    indices = np.arange(0, num_baseline_samples)\n",
    "    np.random.shuffle(indices) # shuffle samples\n",
    "    indices_A, indices_B = indices[1::2], indices[::2]\n",
    "\n",
    "    top, bottom = [], []\n",
    "    for index_A, index_B in zip_longest(indices_A, indices_B):\n",
    "        a = baseline_samples[index_A]\n",
    "        b = baseline_samples[index_B]\n",
    "        if not b: # in case odd\n",
    "            b = np.random.choice(baseline_samples) # pick random sample\n",
    "            if a > b: wins[index_A] += 1\n",
    "        if a < b: # feed into model, compare logits of snippet A versus snippet B\n",
    "            wins[index_B] += 1\n",
    "        else:\n",
    "            wins[index_A] += 1\n",
    "    return np.array(bottom), np.array(top)"
   ]
  },
  {
   "cell_type": "code",
   "execution_count": 151,
   "metadata": {},
   "outputs": [],
   "source": [
    "NUM_ROUNDS = 15\n",
    "for _ in range(NUM_ROUNDS):\n",
    "    run_round()"
   ]
  },
  {
   "cell_type": "code",
   "execution_count": 152,
   "metadata": {},
   "outputs": [],
   "source": [
    "baseline_top = baseline_samples[wins > NUM_ROUNDS // 2]\n",
    "baseline_bottom = baseline_samples[wins <= NUM_ROUNDS // 2]"
   ]
  },
  {
   "cell_type": "code",
   "execution_count": 153,
   "metadata": {},
   "outputs": [
    {
     "data": {
      "text/plain": [
       "0.901684"
      ]
     },
     "execution_count": 153,
     "metadata": {},
     "output_type": "execute_result"
    }
   ],
   "source": [
    "accuracy = (sum(baseline_top > 0.5) + sum(baseline_bottom < 0.5))/num_baseline_samples\n",
    "accuracy"
   ]
  },
  {
   "cell_type": "markdown",
   "metadata": {},
   "source": [
    "### Baseline Approach with Pruning"
   ]
  },
  {
   "cell_type": "code",
   "execution_count": null,
   "metadata": {},
   "outputs": [],
   "source": []
  }
 ],
 "metadata": {
  "kernelspec": {
   "display_name": "Python 3.8.8 ('base')",
   "language": "python",
   "name": "python3"
  },
  "language_info": {
   "codemirror_mode": {
    "name": "ipython",
    "version": 3
   },
   "file_extension": ".py",
   "mimetype": "text/x-python",
   "name": "python",
   "nbconvert_exporter": "python",
   "pygments_lexer": "ipython3",
   "version": "3.8.8"
  },
  "orig_nbformat": 4,
  "vscode": {
   "interpreter": {
    "hash": "adea540253e8e8f708a1ef36fc3af2830fee8642e0041a914a62b471ba922451"
   }
  }
 },
 "nbformat": 4,
 "nbformat_minor": 2
}
