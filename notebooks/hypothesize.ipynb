{
 "cells": [
  {
   "cell_type": "code",
   "execution_count": 1,
   "metadata": {},
   "outputs": [],
   "source": [
    "import json"
   ]
  },
  {
   "cell_type": "code",
   "execution_count": 2,
   "metadata": {},
   "outputs": [],
   "source": [
    "path = '../output/football.json'\n",
    "with open(path, 'r') as f:\n",
    "       output = json.load(f)"
   ]
  },
  {
   "cell_type": "code",
   "execution_count": 69,
   "metadata": {},
   "outputs": [
    {
     "data": {
      "text/plain": [
       "116"
      ]
     },
     "execution_count": 69,
     "metadata": {},
     "output_type": "execute_result"
    }
   ],
   "source": [
    "sum('monster' in o for o in output['distributions']['nonwhite'])"
   ]
  },
  {
   "cell_type": "code",
   "execution_count": 3,
   "metadata": {},
   "outputs": [],
   "source": [
    "dataset_folder = '../output'\n",
    "def add_hypotheses(dataset, hypotheses):\n",
    "    path = f'{dataset_folder}/{dataset}.json'\n",
    "    with open(path, 'r') as f:\n",
    "        output = json.load(f)\n",
    "        output['hypotheses'] = hypotheses\n",
    "    with open(path, 'w') as f:\n",
    "        json.dump(output, f)"
   ]
  },
  {
   "cell_type": "markdown",
   "metadata": {},
   "source": [
    "## ABC Headlines"
   ]
  },
  {
   "cell_type": "code",
   "execution_count": 38,
   "metadata": {},
   "outputs": [],
   "source": [
    "add_hypotheses('abc_headlines',\n",
    "    [\n",
    "        \"2020 talks more about covid-19 than 2019\",\n",
    "        \"2016 talks more about donald trump than 2015\",\n",
    "        \"2018 talks more about fires than 2008\",\n",
    "        \"2008 talks more about the economy than 2018\",\n",
    "        \"2003 talks more about terrorism than 2013\",\n",
    "        \"2020 has more negative coverage than 2010\"\n",
    "    ]\n",
    ")"
   ]
  },
  {
   "cell_type": "markdown",
   "metadata": {},
   "source": [
    "## Diplomacy"
   ]
  },
  {
   "cell_type": "code",
   "execution_count": 26,
   "metadata": {},
   "outputs": [
    {
     "name": "stdout",
     "output_type": "stream",
     "text": [
      "dict_keys(['distributions', 'note', 'description'])\n"
     ]
    }
   ],
   "source": [
    "add_hypotheses('diplomacy',\n",
    "    [\n",
    "        \"lies are more nice than truths\",\n",
    "        \"lies use more words than truths\",\n",
    "        \"lies make more requests of other people\",\n",
    "        \"lies tend to use more complicated words\"\n",
    "    ]\n",
    ")"
   ]
  },
  {
   "cell_type": "markdown",
   "metadata": {},
   "source": [
    "## Examiner Headlines"
   ]
  },
  {
   "cell_type": "code",
   "execution_count": 28,
   "metadata": {},
   "outputs": [],
   "source": [
    "add_hypotheses('examiner_headlines',\n",
    "    [\n",
    "        \"2010 talks more about personal finances than 2016\",\n",
    "        \"2016 talks more about politics than 2015\",\n",
    "        \"2012 talks more about politics than 2011\"\n",
    "    ]\n",
    ")"
   ]
  },
  {
   "cell_type": "markdown",
   "metadata": {},
   "source": [
    "## Essays"
   ]
  },
  {
   "cell_type": "code",
   "execution_count": 29,
   "metadata": {},
   "outputs": [],
   "source": [
    "add_hypotheses('essays',\n",
    "    [\n",
    "        \"good essays tend to use longer words than bad essays\",\n",
    "        \"good essays talk more about personal experiences than bad essays\",\n",
    "        \"good essays have better grammar than bad essays\",\n",
    "        \"good essays have better logical flow than bad essays\",\n",
    "        \"good essays have longer sentences than bad essays\",\n",
    "    ]\n",
    ")"
   ]
  },
  {
   "cell_type": "markdown",
   "metadata": {},
   "source": [
    "## Fake News"
   ]
  },
  {
   "cell_type": "code",
   "execution_count": 30,
   "metadata": {},
   "outputs": [],
   "source": [
    "add_hypotheses('fake_news',\n",
    "    [\n",
    "        \"fake news uses more hyperbole than legit news\",\n",
    "        \"fake news talks more about products than legit news\",\n",
    "        \"fake news talks more about politics\",\n",
    "        \"fake news mentions sales more often\",\n",
    "        \"fake news tends to use shorter words\"\n",
    "    ]\n",
    ")"
   ]
  },
  {
   "cell_type": "markdown",
   "metadata": {},
   "source": [
    "## Facebook Posts"
   ]
  },
  {
   "cell_type": "code",
   "execution_count": 31,
   "metadata": {},
   "outputs": [
    {
     "name": "stdout",
     "output_type": "stream",
     "text": [
      "dict_keys(['bbc', 'fox_news', 'abc_news', 'nbc_news', 'cbs_news', 'cnn', 'msnbc', 'npr', 'politico', 'reuters', 'wastington_post', 'ny_times', 'economist', 'financial_times', 'the_guardian', 'daily_mail', 'ny_dailynews', 'breitbart', 'infowars', 'huffington_post', 'daily_kos', 'salon', 'the_hill', 'national_review', 'usa_today', 'wsj', 'buzzfeed_news', 'cnbc', 'newsweek', 'associated_press', 'bloomberg_politics', 'yahoo_news', 'chicago_tribune', 'los_angeles_times', 'daily_beast', 'drudge_report', 'the_blaze', 'young_cons', 'daily_caller', 'newsmax', 'wordl_net_daily', 'independent_journal_review', 'time', 'us_worldnews_report', 'business_insider', 'slate', 'vox', 'think_progress', 'democratic_undergound', 'talking_points_memo', 'the_nation', 'mother_jones', 'raw_story', 'pro_publica', 'townhall', 'washington_examiner', 'daily_signal', 'weekly_standard', 'the_atlantic', 'the_newyorker', 'morning_joe', 'vice_news', 'rt', 'al_jazeera', 'one_america_news', 'christian_science_monitor', 'pbs_newshour', 'miami_herald', 'person_alex_jones', 'person_anderson_cooper', 'person_rachel_maddow', 'person_sean_hannity', 'person_chris_matthews', 'person_megyn_kelly', 'person_neil_cavuto', 'person_chris_hayes', 'person_shepard_smith', 'person_erin_burnett', 'person_joe_scarobourgh', 'person_rush_limbaugh', 'person_bill_mahar', 'person_ann_coulter'])\n"
     ]
    }
   ],
   "source": [
    "with open('output/fb_posts.json') as f:\n",
    "    print(json.load(f)['distributions'].keys())"
   ]
  },
  {
   "cell_type": "code",
   "execution_count": 32,
   "metadata": {},
   "outputs": [],
   "source": [
    "add_hypotheses('fb_posts',\n",
    "    [\n",
    "        \"bbc is more objective than fox and cnn\",\n",
    "        \"rueters is more objective than fox and cnn\",\n",
    "        \"economist is more left leaning than the financial times\",\n",
    "        \"slate is more progressive than rueters\",\n",
    "        \"business insider uses shorter words that the new york times\",\n",
    "        \"npr is more objective than the washington post\",\n",
    "        \"los angeles times talks more about california than the washington post\"\n",
    "    ]\n",
    ")"
   ]
  },
  {
   "cell_type": "markdown",
   "metadata": {},
   "source": [
    "## Football"
   ]
  },
  {
   "cell_type": "code",
   "execution_count": 33,
   "metadata": {},
   "outputs": [],
   "source": [
    "add_hypotheses('football',\n",
    "    [\n",
    "        \"nonwhite players are referred to in more negative terms than white players\",\n",
    "        \"white players tend to be praised more often than nonwhite players\",\n",
    "        \"nonwhite players are described as lucky more often than white players\"\n",
    "        \"nonwhite players are more often described as aggressive than white players\"\n",
    "    ]\n",
    ")"
   ]
  },
  {
   "cell_type": "markdown",
   "metadata": {},
   "source": [
    "## Parenting Genders"
   ]
  },
  {
   "cell_type": "code",
   "execution_count": 34,
   "metadata": {},
   "outputs": [],
   "source": [
    "add_hypotheses('parenting_genders',\n",
    "    [\n",
    "        \"women talk more about breastfeeding than men\",\n",
    "        \"women talk more about shopping than men\",\n",
    "        \"men talk more about work\",\n",
    "        \"men talk more about marraige problems\"\n",
    "    ]\n",
    ")"
   ]
  },
  {
   "cell_type": "markdown",
   "metadata": {},
   "source": [
    "## Parenting Stages"
   ]
  },
  {
   "cell_type": "code",
   "execution_count": 35,
   "metadata": {},
   "outputs": [],
   "source": [
    "add_hypotheses('parenting_stages',\n",
    "    [\n",
    "        \"early parents talk more about breastfeedings\",\n",
    "        \"early parents talk more about daipers\",\n",
    "        \"early parents talk more about supplies\",\n",
    "        \"experienced parents talk more about extracurriculars\",\n",
    "        \"experienced parents talk more about learning\",\n",
    "        \"experienced parents talk more about work\",\n",
    "    ]\n",
    ")"
   ]
  },
  {
   "cell_type": "markdown",
   "metadata": {},
   "source": [
    "## Professor Gender"
   ]
  },
  {
   "cell_type": "code",
   "execution_count": 37,
   "metadata": {},
   "outputs": [],
   "source": [
    "add_hypotheses('prof_gender',\n",
    "    [\n",
    "        \"female professor comments talk more about speaking style than male professor comments\",\n",
    "        \"female professor comments talk more about being annoying than male professor comments\",\n",
    "        \"female professor comments are more negative than male professor comments\",\n",
    "        \"female professor comments complain about the workload more than male professor comments\",\n",
    "        \"male professor comments talk more about the professor's knowledge than female professor comments\",\n",
    "    ]\n",
    ")"
   ]
  },
  {
   "cell_type": "code",
   "execution_count": null,
   "metadata": {},
   "outputs": [],
   "source": []
  }
 ],
 "metadata": {
  "interpreter": {
   "hash": "adea540253e8e8f708a1ef36fc3af2830fee8642e0041a914a62b471ba922451"
  },
  "kernelspec": {
   "display_name": "Python 3.8.8 ('base')",
   "language": "python",
   "name": "python3"
  },
  "language_info": {
   "codemirror_mode": {
    "name": "ipython",
    "version": 3
   },
   "file_extension": ".py",
   "mimetype": "text/x-python",
   "name": "python",
   "nbconvert_exporter": "python",
   "pygments_lexer": "ipython3",
   "version": "3.8.8"
  },
  "orig_nbformat": 4
 },
 "nbformat": 4,
 "nbformat_minor": 2
}
